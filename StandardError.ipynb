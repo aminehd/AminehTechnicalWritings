{
  "cells": [
    {
      "cell_type": "markdown",
      "metadata": {
        "id": "view-in-github",
        "colab_type": "text"
      },
      "source": [
        "<a href=\"https://colab.research.google.com/github/aminehd/AminehTechnicalWritings/blob/main/StandardError.ipynb\" target=\"_parent\"><img src=\"https://colab.research.google.com/assets/colab-badge.svg\" alt=\"Open In Colab\"/></a>"
      ]
    },
    {
      "cell_type": "markdown",
      "source": [
        "Outleine\n",
        "  - Introduction (propuse + scope)\n",
        "  - Body\n",
        "    - Definition of SE\n",
        "    - Data generation to showcase SE context\n",
        "    - Some different prespectives of generated data\n",
        "    - Pick a set of sample and a statistic defined on indivisual samples\n",
        "    - Show the **Sampling Distribution** of that statistic\n",
        "  - Coclusion: Build upon SE later when stat are more complex such s linear regression coefficient (B0 and B1)"
      ],
      "metadata": {
        "id": "tjj0ZzJdgQL9"
      }
    }
  ],
  "metadata": {
    "language_info": {
      "name": "python"
    },
    "colab": {
      "provenance": [],
      "include_colab_link": true
    }
  },
  "nbformat": 4,
  "nbformat_minor": 0
}