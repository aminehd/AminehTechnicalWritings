{
  "cells": [
    {
      "cell_type": "markdown",
      "metadata": {
        "id": "view-in-github",
        "colab_type": "text"
      },
      "source": [
        "<a href=\"https://colab.research.google.com/github/aminehd/AminehTechnicalWritings/blob/main/SamplingStatsAndDistros.ipynb\" target=\"_parent\"><img src=\"https://colab.research.google.com/assets/colab-badge.svg\" alt=\"Open In Colab\"/></a>"
      ]
    },
    {
      "cell_type": "markdown",
      "source": [
        "Outline\n",
        "- Introduction (Purpose + scope)\n",
        "- Body\n",
        "  - sample summary statistics and examples (coefficients of fitted model)\n",
        "  - load data and showcase\n",
        "  - Sampling distribution of summary statistics. (use sample mean as example)\n",
        "  - Expected value of summary statistics\n",
        "  - Variance of summary statistic\n",
        "  - Variance within a sample vs variance of a given stat over samplings\n",
        "  - Standrad Error of stats and confidence interval. (SE(beta0))\n",
        "  - F-test (within groups variance vs between group variance)\n",
        "- Conclusion:"
      ],
      "metadata": {
        "id": "92zCY3yPJ9lL"
      }
    },
    {
      "cell_type": "markdown",
      "source": [
        "## Git setup and data load"
      ],
      "metadata": {
        "id": "32JOiZD_Ga8p"
      }
    },
    {
      "cell_type": "code",
      "source": [
        "import google.colab\n",
        "repo_path = 'AminehTechnicalWritings'\n",
        "!git -C $repo_path pull origin || git clone https://github.com/aminehd/AminehTechnicalWritings/ $repo_path\n",
        "local_clone = '/content/' + repo_path\n",
        "!git config --global user.email \"amineh.dadsetan@gmail.com\"\n",
        "!git config --global user.name \"Amineh Dadsetan\""
      ],
      "metadata": {
        "id": "noffZ0wtGZku",
        "outputId": "2db9b0af-a90c-4c57-eae7-09ed47d51feb",
        "colab": {
          "base_uri": "https://localhost:8080/"
        }
      },
      "execution_count": 1,
      "outputs": [
        {
          "output_type": "stream",
          "name": "stdout",
          "text": [
            "fatal: cannot change to 'AminehTechnicalWritings': No such file or directory\n",
            "Cloning into 'AminehTechnicalWritings'...\n",
            "remote: Enumerating objects: 174, done.\u001b[K\n",
            "remote: Counting objects: 100% (171/171), done.\u001b[K\n",
            "remote: Compressing objects: 100% (90/90), done.\u001b[K\n",
            "remote: Total 174 (delta 96), reused 140 (delta 79), pack-reused 3\u001b[K\n",
            "Receiving objects: 100% (174/174), 3.18 MiB | 10.34 MiB/s, done.\n",
            "Resolving deltas: 100% (96/96), done.\n"
          ]
        }
      ]
    },
    {
      "cell_type": "code",
      "source": [
        "import numpy as np\n",
        "files = np.load(local_clone + '/population.npz')\n",
        "# sample = np.load(local_clone + '/sample.npy'\n",
        "population = files['arr_0']\n",
        "population.shape"
      ],
      "metadata": {
        "id": "rAx5tYe5GnY9",
        "outputId": "1f8b5255-8cdd-41a8-8d3e-7c9f8d1e18a4",
        "colab": {
          "base_uri": "https://localhost:8080/"
        }
      },
      "execution_count": 2,
      "outputs": [
        {
          "output_type": "execute_result",
          "data": {
            "text/plain": [
              "(300000, 2)"
            ]
          },
          "metadata": {},
          "execution_count": 2
        }
      ]
    },
    {
      "cell_type": "markdown",
      "source": [
        "### Summary Statistic\n",
        "\n",
        "Previously we explained the concept of population and the concept of sample. Basically we have one population (e.g., population of American people) but we can sample a subset in many ways (e.g., sample of America people under age 18, sample of American people living in new your, etc).\n",
        "\n",
        "In fact if N is population size, there is $2^N$ samples.\n",
        "\n",
        "Now a statistic or measure can be defined on the whole population as well as any given sample. A statistic or a measure in mathematic is a generalization of concepts such as lenght or heigh for a given set. Since samples and the population are sets, we can define such things on them. A well known one is mean. Thus you can think of population mean or any given sample mean.\n",
        "\n",
        "So far it was fairly easy to explain things. But it gets a bit trickier when we wanna talk about the distribution of such measures over allll samples and compare them with the value of measure on the poulation.\n",
        "\n",
        "The motivation behind sampling is that population is too big and it is virtually impossible to calculate the mean for the whole population. Let's say as a minister of something you need the average age of your population.  It sounds quite impossible to get everybody's ages and calculate their mean.\n",
        "\n",
        "Let's look at the population mean and sample mean for the data set we have created in previous notebooks.\n",
        "\n",
        "But before that lets do some randome samplings of samples of size 100 that share the same predictors (`x_samples`)\n",
        "\n",
        "\n"
      ],
      "metadata": {
        "id": "PxAQonrAJ4Rv"
      }
    },
    {
      "cell_type": "code",
      "source": [
        "print(population[:, 0])\n",
        "len(population[:,0])\n",
        "distinct_xs = np.unique(population[:, 0])\n",
        "print(len(distinct_xs))\n",
        "sample_size = 100\n",
        "x_samp_index = np.linspace(0, len(distinct_xs)-1, sample_size).astype(int)\n",
        "x_samples = distinct_xs[x_samp_index]\n",
        "x_samples\n",
        "n_repeat = len(population[:,0]) // len(distinct_xs)\n",
        "n_repeat"
      ],
      "metadata": {
        "id": "zCDURIavHXqp",
        "outputId": "34800f46-d27b-49ec-e210-b181d4225d0c",
        "colab": {
          "base_uri": "https://localhost:8080/"
        }
      },
      "execution_count": 7,
      "outputs": [
        {
          "output_type": "stream",
          "name": "stdout",
          "text": [
            "[ 1.  1.  1. ... 10. 10. 10.]\n",
            "30\n"
          ]
        },
        {
          "output_type": "execute_result",
          "data": {
            "text/plain": [
              "10000"
            ]
          },
          "metadata": {},
          "execution_count": 7
        }
      ]
    },
    {
      "cell_type": "markdown",
      "source": [
        "We sampled 100 distinct x and stored them in `x_samples`. There are several observations for each x in sample and thus several responses in the population. Thus we can have several sampling with given `x_samples`. Let's pick one such and plot it:\n",
        "Next thing is you wanna randomly pick y's that are response to these x's. Not easiest to implement now. think of abstraction HERE!!!"
      ],
      "metadata": {
        "id": "ethR8N-tJBj2"
      }
    },
    {
      "cell_type": "markdown",
      "source": [],
      "metadata": {
        "id": "XE1IUMNRJ_mg"
      }
    },
    {
      "cell_type": "code",
      "source": [
        "rand_gen = np.random.default_rng(2)\n",
        "def sample_response(x_sams, population, rand_gen):\n",
        "  for x in x_sams:\n",
        "    # generate integer between 0 to n_repeat\n",
        "    index = rand_gen.integers(0, n_repeat)\n",
        "    yield (population[x * n_repeat + index, 0], population[x * n_repeat + index, 1],)\n",
        "\n",
        "y_for_x_samples = np.array(list(sample_response(x_samp_index, population, rand_gen))\n",
        ")\n",
        "\n",
        "\n",
        "# YAY HERE!! plot the sample distro and mark it's mean with red"
      ],
      "metadata": {
        "id": "eMzW6EcQIVNh"
      },
      "execution_count": 8,
      "outputs": []
    },
    {
      "cell_type": "code",
      "source": [
        "import matplotlib.pyplot as plt\n",
        "fig, ax = plt.subplots(ncols=3)\n",
        "ax[0].scatter(y_for_x_samples[:,0], y_for_x_samples[:,1] )\n",
        "# ax[1] = ax[0].twinx()\n",
        "# ax[1].axhlhine(y=np.mean(y_for_x_samples[:,1]), color='r')\n",
        "ax[1].hist(y_for_x_samples[:,1], bins=40)\n",
        "mean = np.mean(y_for_x_samples[:,1])\n",
        "ax[0].axhline(y=mean, color='r')"
      ],
      "metadata": {
        "id": "4cemphAOJLfw",
        "outputId": "10864ea7-2886-40d2-9fa3-ae9f929b069e",
        "colab": {
          "base_uri": "https://localhost:8080/",
          "height": 452
        }
      },
      "execution_count": 10,
      "outputs": [
        {
          "output_type": "execute_result",
          "data": {
            "text/plain": [
              "<matplotlib.lines.Line2D at 0x7d75151ce9e0>"
            ]
          },
          "metadata": {},
          "execution_count": 10
        },
        {
          "output_type": "display_data",
          "data": {
            "text/plain": [
              "<Figure size 640x480 with 3 Axes>"
            ],
            "image/png": "[encoded data removed]"
          },
          "metadata": {}
        }
      ]
    },
    {
      "cell_type": "markdown",
      "source": [
        "Let's repeat this kinda sampling for many times to collect some means."
      ],
      "metadata": {
        "id": "f6dbZjc2dM56"
      }
    },
    {
      "cell_type": "code",
      "source": [
        "means = []\n",
        "for i in range(10000):\n",
        "  y_for_x_samples = np.array(list(sample_response(x_samp_index, population, rand_gen)))\n",
        "  means.append(np.mean(y_for_x_samples[:,1]))\n",
        "\n",
        "fig, ax = plt.subplots(ncols=3)\n",
        "ax[0].hist(means, bins=40)\n",
        "# HERE!!! convert means to nparray find summary description for it whith libs, also save more info with the poulation data set, maybe pulpulation size, num distinct\n"
      ],
      "metadata": {
        "colab": {
          "base_uri": "https://localhost:8080/",
          "height": 678
        },
        "id": "8phLoqz4ed2z",
        "outputId": "c06daa16-94cd-42f8-e75e-65236e4afed4"
      },
      "execution_count": 17,
      "outputs": [
        {
          "output_type": "execute_result",
          "data": {
            "text/plain": [
              "(array([  1.,   0.,   0.,   0.,   3.,   7.,   8.,  11.,  34.,  47.,  84.,\n",
              "        114., 158., 238., 297., 368., 452., 552., 620., 675., 702., 811.,\n",
              "        739., 757., 737., 587., 495., 438., 334., 227., 174., 129.,  69.,\n",
              "         56.,  30.,  20.,  12.,   7.,   3.,   4.]),\n",
              " array([14.27105974, 14.29062919, 14.31019865, 14.32976811, 14.34933757,\n",
              "        14.36890702, 14.38847648, 14.40804594, 14.4276154 , 14.44718485,\n",
              "        14.46675431, 14.48632377, 14.50589323, 14.52546268, 14.54503214,\n",
              "        14.5646016 , 14.58417106, 14.60374051, 14.62330997, 14.64287943,\n",
              "        14.66244889, 14.68201834, 14.7015878 , 14.72115726, 14.74072672,\n",
              "        14.76029617, 14.77986563, 14.79943509, 14.81900455, 14.838574  ,\n",
              "        14.85814346, 14.87771292, 14.89728238, 14.91685183, 14.93642129,\n",
              "        14.95599075, 14.97556021, 14.99512966, 15.01469912, 15.03426858,\n",
              "        15.05383804]),\n",
              " <BarContainer object of 40 artists>)"
            ]
          },
          "metadata": {},
          "execution_count": 17
        },
        {
          "output_type": "display_data",
          "data": {
            "text/plain": [
              "<Figure size 640x480 with 3 Axes>"
            ],
            "image/png": "[encoded data removed]"
          },
          "metadata": {}
        }
      ]
    },
    {
      "cell_type": "markdown",
      "source": [
        "\n",
        "\n",
        "https://en.wikipedia.org/wiki/Sampling_distribution\n",
        "start with mu but get to beta_i HERE!!!\n",
        "\n",
        "The concept of unbiased estimator pops up one more time. HERE!!!\n",
        "\n",
        "\n",
        "Then we look at expected value of sample statistices over multiple sampling. Also we look at variance of stuff within sample, and variance of sample stat over several samplings. This indeed is an intersting case when sample stat is defined to be the mean of sample. HERE!!!\n",
        "\n",
        "\n",
        "\n",
        "\n",
        "notebook we try to look at the model coefficients ( 𝛽𝑖 's ) as summary statistics defined on samples. You can also think of them as measures since samples are subsets.\n",
        "\n",
        "\n",
        "\n",
        "These can help understand concept of Standard Error and F-test better."
      ],
      "metadata": {
        "id": "yZAr3y2KG8K8"
      }
    },
    {
      "cell_type": "code",
      "execution_count": null,
      "metadata": {
        "id": "y1GpZkuAJvYU"
      },
      "outputs": [],
      "source": []
    }
  ],
  "metadata": {
    "language_info": {
      "name": "python"
    },
    "colab": {
      "provenance": [],
      "include_colab_link": true
    },
    "kernelspec": {
      "name": "python3",
      "display_name": "Python 3"
    }
  },
  "nbformat": 4,
  "nbformat_minor": 0
}