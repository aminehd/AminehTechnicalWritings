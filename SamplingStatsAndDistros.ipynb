{
  "cells": [
    {
      "cell_type": "markdown",
      "metadata": {
        "id": "view-in-github",
        "colab_type": "text"
      },
      "source": [
        "<a href=\"https://colab.research.google.com/github/aminehd/AminehTechnicalWritings/blob/main/SamplingStatsAndDistros.ipynb\" target=\"_parent\"><img src=\"https://colab.research.google.com/assets/colab-badge.svg\" alt=\"Open In Colab\"/></a>"
      ]
    },
    {
      "cell_type": "markdown",
      "source": [
        "Outline\n",
        "- Introduction (Purpose + scope)\n",
        "- Body\n",
        "  - sample summary statistics and examples (coefficients of fitted model)\n",
        "  - load data and showcase\n",
        "  - Sampling distribution of summary statistics. (use sample mean as example)\n",
        "  - Expected value of summary statistics\n",
        "  - Variance of summary statistic\n",
        "  - Variance within a sample vs variance of a given stat over samplings\n",
        "  - Standrad Error of stats and confidence interval. (SE(beta0))\n",
        "  - F-test (within groups variance vs between group variance)\n",
        "- Conclusion:"
      ],
      "metadata": {
        "id": "92zCY3yPJ9lL"
      }
    },
    {
      "cell_type": "markdown",
      "source": [
        "### Summary Statistic\n",
        "\n",
        "https://en.wikipedia.org/wiki/Sampling_distribution\n",
        "start with mu but get to beta_i HERE!!!\n",
        "\n",
        "\n",
        "notebook we try to look at the model coefficients ( 𝛽𝑖 's ) as summary statistics defined on samples. You can also think of them as measures since samples are subsets.\n",
        "\n",
        "Then we look at expected value of sample statistices over multiple sampling. Also we look at variance of stuff within sample, and variance of sample stat over several samplings. This indeed is an intersting case when sample stat is defined to be the mean of sample.\n",
        "\n",
        "These can help understand concept of Standard Error and F-test better."
      ],
      "metadata": {
        "id": "PxAQonrAJ4Rv"
      }
    },
    {
      "cell_type": "code",
      "execution_count": null,
      "metadata": {
        "id": "y1GpZkuAJvYU"
      },
      "outputs": [],
      "source": []
    }
  ],
  "metadata": {
    "language_info": {
      "name": "python"
    },
    "colab": {
      "provenance": [],
      "include_colab_link": true
    }
  },
  "nbformat": 4,
  "nbformat_minor": 0
}