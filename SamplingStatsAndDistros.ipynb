{
  "cells": [
    {
      "cell_type": "markdown",
      "metadata": {
        "id": "view-in-github",
        "colab_type": "text"
      },
      "source": [
        "<a href=\"https://colab.research.google.com/github/aminehd/AminehTechnicalWritings/blob/main/SamplingStatsAndDistros.ipynb\" target=\"_parent\"><img src=\"https://colab.research.google.com/assets/colab-badge.svg\" alt=\"Open In Colab\"/></a>"
      ]
    },
    {
      "cell_type": "markdown",
      "source": [
        "Outline\n",
        "- Introduction (Purpose + scope)\n",
        "- Body\n",
        "  - sample summary statistics and examples (coefficients of fitted model)\n",
        "  - load data and showcase\n",
        "  - Sampling distribution of summary statistics. (use sample mean as example)\n",
        "  - Expected value of summary statistics\n",
        "  - Variance of summary statistic\n",
        "  - Variance within a sample vs variance of a given stat over samplings\n",
        "  - Standrad Error of stats and confidence interval. (SE(beta0))\n",
        "  - F-test (within groups variance vs between group variance)\n",
        "- Conclusion:"
      ],
      "metadata": {
        "id": "92zCY3yPJ9lL"
      }
    },
    {
      "cell_type": "markdown",
      "source": [
        "## Git setup and data load"
      ],
      "metadata": {
        "id": "32JOiZD_Ga8p"
      }
    },
    {
      "cell_type": "code",
      "source": [
        "import google.colab\n",
        "repo_path = 'AminehTechnicalWritings'\n",
        "!git -C $repo_path pull origin || git clone https://github.com/aminehd/AminehTechnicalWritings/ $repo_path\n",
        "local_clone = '/content/' + repo_path\n",
        "!git config --global user.email \"amineh.dadsetan@gmail.com\"\n",
        "!git config --global user.name \"Amineh Dadsetan\""
      ],
      "metadata": {
        "id": "noffZ0wtGZku",
        "outputId": "b5400767-fb2c-4cc0-d393-a5af140d9ef8",
        "colab": {
          "base_uri": "https://localhost:8080/"
        }
      },
      "execution_count": 1,
      "outputs": [
        {
          "output_type": "stream",
          "name": "stdout",
          "text": [
            "fatal: cannot change to 'AminehTechnicalWritings': No such file or directory\n",
            "Cloning into 'AminehTechnicalWritings'...\n",
            "remote: Enumerating objects: 165, done.\u001b[K\n",
            "remote: Counting objects: 100% (162/162), done.\u001b[K\n",
            "remote: Compressing objects: 100% (81/81), done.\u001b[K\n",
            "remote: Total 165 (delta 91), reused 139 (delta 79), pack-reused 3\u001b[K\n",
            "Receiving objects: 100% (165/165), 3.12 MiB | 8.72 MiB/s, done.\n",
            "Resolving deltas: 100% (91/91), done.\n"
          ]
        }
      ]
    },
    {
      "cell_type": "code",
      "source": [
        "import numpy as np\n",
        "files = np.load(local_clone + '/population.npz')\n",
        "# sample = np.load(local_clone + '/sample.npy'\n",
        "population = files['arr_0']\n",
        "population.shape"
      ],
      "metadata": {
        "id": "rAx5tYe5GnY9",
        "outputId": "af5a734d-f98c-4144-ceb7-879f204cffa7",
        "colab": {
          "base_uri": "https://localhost:8080/"
        }
      },
      "execution_count": 3,
      "outputs": [
        {
          "output_type": "execute_result",
          "data": {
            "text/plain": [
              "(300000, 2)"
            ]
          },
          "metadata": {},
          "execution_count": 3
        }
      ]
    },
    {
      "cell_type": "markdown",
      "source": [
        "### Summary Statistic\n",
        "\n",
        "Previously we explained the concept of population and the concept of sample. Basically we have one population (e.g., population of American people) but we can sample a subset in many ways (e.g., sample of America people under age 18, sample of American people living in new your, etc).\n",
        "\n",
        "In fact if N is population size, there is $2^N$ samples.\n",
        "\n",
        "Now a statistic or measure can be defined on the whole population as well as any given sample. A statistic or a measure in mathematic is a generalization of concepts such as lenght or heigh for a given set. Since samples and the population are sets, we can define such things on them. A well known one is mean. Thus you can think of population mean or any given sample mean.\n",
        "\n",
        "So far it was fairly easy to explain things. But it gets a bit trickier when we wanna talk the distribution of such measures over allll samples and compare them with the value of measure on the poulation.\n",
        "\n",
        "The motivation behind sampling is that population is too big and it is virtually impossible to calculate the mean for the whole population. Let's say as a minister of something you need the average age of your population.  \n",
        "\n",
        "Let's look at the population mean and sample mean for the data set we have created in previous notebooks.There are only 30 distinct x values in the pupolation data. Let pick a subset of such distinct x.\n",
        "\n",
        "\n"
      ],
      "metadata": {
        "id": "PxAQonrAJ4Rv"
      }
    },
    {
      "cell_type": "code",
      "source": [
        "print(population[:, 0])\n",
        "len(population[:,0])\n",
        "distinct_xs = np.unique(population[:, 0])\n",
        "len(distinct_xs)\n",
        "x_samples = distinct_xs[np.linspace(0, len(distinct_xs)-1, 10).astype(int)]\n",
        "x_samples"
      ],
      "metadata": {
        "id": "zCDURIavHXqp",
        "outputId": "4bf2a7c4-8939-4839-af09-dcb03965ca98",
        "colab": {
          "base_uri": "https://localhost:8080/"
        }
      },
      "execution_count": 9,
      "outputs": [
        {
          "output_type": "stream",
          "name": "stdout",
          "text": [
            "[ 1.  1.  1. ... 10. 10. 10.]\n"
          ]
        },
        {
          "output_type": "execute_result",
          "data": {
            "text/plain": [
              "array([ 1.        ,  1.93103448,  2.86206897,  3.79310345,  4.72413793,\n",
              "        5.96551724,  6.89655172,  7.82758621,  8.75862069, 10.        ])"
            ]
          },
          "metadata": {},
          "execution_count": 9
        }
      ]
    },
    {
      "cell_type": "markdown",
      "source": [
        "We sampled 10 distinct x and stored them in `x_samples`. For each x there are several responses in the data set that are spaced closely around their average. Thus we can have several sampling with given `x_samples`. Let's pick one such and plot it:\n",
        "Next thing is you wanna randomly pick y's that are response to these x's. Not easiest to implement now. think of abstraction HERE!!!"
      ],
      "metadata": {
        "id": "ethR8N-tJBj2"
      }
    },
    {
      "cell_type": "markdown",
      "source": [],
      "metadata": {
        "id": "XE1IUMNRJ_mg"
      }
    },
    {
      "cell_type": "code",
      "source": [],
      "metadata": {
        "id": "eMzW6EcQIVNh"
      },
      "execution_count": null,
      "outputs": []
    },
    {
      "cell_type": "markdown",
      "source": [
        "\n",
        "\n",
        "https://en.wikipedia.org/wiki/Sampling_distribution\n",
        "start with mu but get to beta_i HERE!!!\n",
        "\n",
        "The concept of unbiased estimator pops up one more time. HERE!!!\n",
        "\n",
        "\n",
        "Then we look at expected value of sample statistices over multiple sampling. Also we look at variance of stuff within sample, and variance of sample stat over several samplings. This indeed is an intersting case when sample stat is defined to be the mean of sample. HERE!!!\n",
        "\n",
        "\n",
        "\n",
        "\n",
        "notebook we try to look at the model coefficients ( 𝛽𝑖 's ) as summary statistics defined on samples. You can also think of them as measures since samples are subsets.\n",
        "\n",
        "\n",
        "\n",
        "These can help understand concept of Standard Error and F-test better."
      ],
      "metadata": {
        "id": "yZAr3y2KG8K8"
      }
    },
    {
      "cell_type": "code",
      "execution_count": null,
      "metadata": {
        "id": "y1GpZkuAJvYU"
      },
      "outputs": [],
      "source": []
    }
  ],
  "metadata": {
    "language_info": {
      "name": "python"
    },
    "colab": {
      "provenance": [],
      "include_colab_link": true
    },
    "kernelspec": {
      "name": "python3",
      "display_name": "Python 3"
    }
  },
  "nbformat": 4,
  "nbformat_minor": 0
}