{
  "cells": [
    {
      "cell_type": "markdown",
      "metadata": {
        "id": "view-in-github",
        "colab_type": "text"
      },
      "source": [
        "<a href=\"https://colab.research.google.com/github/aminehd/AminehTechnicalWritings/blob/main/SamplingStatsAndDistros.ipynb\" target=\"_parent\"><img src=\"https://colab.research.google.com/assets/colab-badge.svg\" alt=\"Open In Colab\"/></a>"
      ]
    },
    {
      "cell_type": "markdown",
      "source": [
        "Outline\n",
        "- Introduction (Purpose + scope)\n",
        "- Body\n",
        "  - sample summary statistics and examples (coefficients of fitted model)\n",
        "  - load data and showcase\n",
        "  - Sampling distribution of summary statistics. (use sample mean as example)\n",
        "  - Expected value of summary statistics\n",
        "  - Variance of summary statistic\n",
        "  - Variance within a sample vs variance of a given stat over samplings\n",
        "  - Standrad Error of stats and confidence interval. (SE(beta0))\n",
        "  - F-test (within groups variance vs between group variance)\n",
        "- Conclusion:"
      ],
      "metadata": {
        "id": "92zCY3yPJ9lL"
      }
    },
    {
      "cell_type": "markdown",
      "source": [
        "## Git setup and data load"
      ],
      "metadata": {
        "id": "32JOiZD_Ga8p"
      }
    },
    {
      "cell_type": "code",
      "source": [
        "import google.colab\n",
        "repo_path = 'AminehTechnicalWritings'\n",
        "!git -C $repo_path pull origin || git clone https://github.com/aminehd/AminehTechnicalWritings/ $repo_path\n",
        "local_clone = '/content/' + repo_path\n",
        "!git config --global user.email \"amineh.dadsetan@gmail.com\"\n",
        "!git config --global user.name \"Amineh Dadsetan\""
      ],
      "metadata": {
        "id": "noffZ0wtGZku",
        "outputId": "8a38f2d7-9dce-4417-9ccd-df43a20a7232",
        "colab": {
          "base_uri": "https://localhost:8080/"
        }
      },
      "execution_count": 1,
      "outputs": [
        {
          "output_type": "stream",
          "name": "stdout",
          "text": [
            "fatal: cannot change to 'AminehTechnicalWritings': No such file or directory\n",
            "Cloning into 'AminehTechnicalWritings'...\n",
            "remote: Enumerating objects: 171, done.\u001b[K\n",
            "remote: Counting objects: 100% (168/168), done.\u001b[K\n",
            "remote: Compressing objects: 100% (87/87), done.\u001b[K\n",
            "remote: Total 171 (delta 95), reused 140 (delta 79), pack-reused 3\u001b[K\n",
            "Receiving objects: 100% (171/171), 3.16 MiB | 15.12 MiB/s, done.\n",
            "Resolving deltas: 100% (95/95), done.\n"
          ]
        }
      ]
    },
    {
      "cell_type": "code",
      "source": [
        "import numpy as np\n",
        "files = np.load(local_clone + '/population.npz')\n",
        "# sample = np.load(local_clone + '/sample.npy'\n",
        "population = files['arr_0']\n",
        "population.shape"
      ],
      "metadata": {
        "id": "rAx5tYe5GnY9",
        "outputId": "11402819-88f8-4d69-a732-c58706e193b3",
        "colab": {
          "base_uri": "https://localhost:8080/"
        }
      },
      "execution_count": 2,
      "outputs": [
        {
          "output_type": "execute_result",
          "data": {
            "text/plain": [
              "(300000, 2)"
            ]
          },
          "metadata": {},
          "execution_count": 2
        }
      ]
    },
    {
      "cell_type": "markdown",
      "source": [
        "### Summary Statistic\n",
        "\n",
        "Previously we explained the concept of population and the concept of sample. Basically we have one population (e.g., population of American people) but we can sample a subset in many ways (e.g., sample of America people under age 18, sample of American people living in new your, etc).\n",
        "\n",
        "In fact if N is population size, there is $2^N$ samples.\n",
        "\n",
        "Now a statistic or measure can be defined on the whole population as well as any given sample. A statistic or a measure in mathematic is a generalization of concepts such as lenght or heigh for a given set. Since samples and the population are sets, we can define such things on them. A well known one is mean. Thus you can think of population mean or any given sample mean.\n",
        "\n",
        "So far it was fairly easy to explain things. But it gets a bit trickier when we wanna talk the distribution of such measures over allll samples and compare them with the value of measure on the poulation.\n",
        "\n",
        "The motivation behind sampling is that population is too big and it is virtually impossible to calculate the mean for the whole population. Let's say as a minister of something you need the average age of your population.  \n",
        "\n",
        "Let's look at the population mean and sample mean for the data set we have created in previous notebooks.There are only 30 distinct x values in the pupolation data. Let pick a subset of such distinct x.\n",
        "\n",
        "\n"
      ],
      "metadata": {
        "id": "PxAQonrAJ4Rv"
      }
    },
    {
      "cell_type": "code",
      "source": [
        "print(population[:, 0])\n",
        "len(population[:,0])\n",
        "distinct_xs = np.unique(population[:, 0])\n",
        "len(distinct_xs)\n",
        "x_samp_index = np.linspace(0, len(distinct_xs)-1, 100).astype(int)\n",
        "x_samples = distinct_xs[x_samp_index]\n",
        "x_samples\n",
        "n_repeat = len(population[:,0]) // len(distinct_xs)\n",
        "n_repeat"
      ],
      "metadata": {
        "id": "zCDURIavHXqp",
        "outputId": "e3526a35-fa78-4419-d095-6ca4a9aaa524",
        "colab": {
          "base_uri": "https://localhost:8080/"
        }
      },
      "execution_count": 5,
      "outputs": [
        {
          "output_type": "stream",
          "name": "stdout",
          "text": [
            "[ 1.  1.  1. ... 10. 10. 10.]\n"
          ]
        },
        {
          "output_type": "execute_result",
          "data": {
            "text/plain": [
              "10000"
            ]
          },
          "metadata": {},
          "execution_count": 5
        }
      ]
    },
    {
      "cell_type": "markdown",
      "source": [
        "We sampled 100 distinct x and stored them in `x_samples`. There are several observations for each x in sample and thus several responses in the population. Thus we can have several sampling with given `x_samples`. Let's pick one such and plot it:\n",
        "Next thing is you wanna randomly pick y's that are response to these x's. Not easiest to implement now. think of abstraction HERE!!!"
      ],
      "metadata": {
        "id": "ethR8N-tJBj2"
      }
    },
    {
      "cell_type": "markdown",
      "source": [],
      "metadata": {
        "id": "XE1IUMNRJ_mg"
      }
    },
    {
      "cell_type": "code",
      "source": [
        "rand_gen = np.random.default_rng(2)\n",
        "def sample_response(x_sams, population, rand_gen):\n",
        "  for x in x_sams:\n",
        "    # generate integer between 0 to n_repeat\n",
        "    index = rand_gen.integers(0, n_repeat)\n",
        "    yield (population[x * n_repeat + index, 0], population[x * n_repeat + index, 1],)\n",
        "\n",
        "y_for_x_samples = np.array(list(sample_response(x_samp_index, population, rand_gen))\n",
        ")\n",
        "\n",
        "\n",
        "# YAY HERE!! plot the sample distro and mark it's mean with red"
      ],
      "metadata": {
        "id": "eMzW6EcQIVNh"
      },
      "execution_count": 14,
      "outputs": []
    },
    {
      "cell_type": "code",
      "source": [
        "import matplotlib.pyplot as plt\n",
        "fig, ax = plt.subplots(ncols=2)\n",
        "ax[0].scatter(y_for_x_samples[:,0], y_for_x_samples[:,1] )\n",
        "# ax[1] = ax[0].twinx()\n",
        "# ax[1].axhlhine(y=np.mean(y_for_x_samples[:,1]), color='r')\n",
        "ax[1].hist(y_for_x_samples[:,1], bins=40)"
      ],
      "metadata": {
        "id": "4cemphAOJLfw",
        "outputId": "2ba32937-3894-442d-c938-8ae9bbf179fe",
        "colab": {
          "base_uri": "https://localhost:8080/",
          "height": 656
        }
      },
      "execution_count": 21,
      "outputs": [
        {
          "output_type": "execute_result",
          "data": {
            "text/plain": [
              "(array([2., 1., 2., 2., 5., 1., 2., 0., 4., 3., 4., 3., 6., 1., 2., 4., 3.,\n",
              "        1., 2., 1., 4., 4., 3., 2., 4., 1., 5., 3., 1., 4., 2., 1., 2., 1.,\n",
              "        2., 5., 3., 2., 1., 1.]),\n",
              " array([ 4.93218929,  5.42660439,  5.92101948,  6.41543458,  6.90984967,\n",
              "         7.40426477,  7.89867986,  8.39309496,  8.88751005,  9.38192515,\n",
              "         9.87634024, 10.37075534, 10.86517043, 11.35958553, 11.85400062,\n",
              "        12.34841572, 12.84283081, 13.33724591, 13.831661  , 14.3260761 ,\n",
              "        14.82049119, 15.31490628, 15.80932138, 16.30373647, 16.79815157,\n",
              "        17.29256666, 17.78698176, 18.28139685, 18.77581195, 19.27022704,\n",
              "        19.76464214, 20.25905723, 20.75347233, 21.24788742, 21.74230252,\n",
              "        22.23671761, 22.73113271, 23.2255478 , 23.7199629 , 24.21437799,\n",
              "        24.70879309]),\n",
              " <BarContainer object of 40 artists>)"
            ]
          },
          "metadata": {},
          "execution_count": 21
        },
        {
          "output_type": "display_data",
          "data": {
            "text/plain": [
              "<Figure size 640x480 with 2 Axes>"
            ],
            "image/png": "[encoded data removed]"
          },
          "metadata": {}
        }
      ]
    },
    {
      "cell_type": "markdown",
      "source": [
        "\n",
        "\n",
        "https://en.wikipedia.org/wiki/Sampling_distribution\n",
        "start with mu but get to beta_i HERE!!!\n",
        "\n",
        "The concept of unbiased estimator pops up one more time. HERE!!!\n",
        "\n",
        "\n",
        "Then we look at expected value of sample statistices over multiple sampling. Also we look at variance of stuff within sample, and variance of sample stat over several samplings. This indeed is an intersting case when sample stat is defined to be the mean of sample. HERE!!!\n",
        "\n",
        "\n",
        "\n",
        "\n",
        "notebook we try to look at the model coefficients ( 𝛽𝑖 's ) as summary statistics defined on samples. You can also think of them as measures since samples are subsets.\n",
        "\n",
        "\n",
        "\n",
        "These can help understand concept of Standard Error and F-test better."
      ],
      "metadata": {
        "id": "yZAr3y2KG8K8"
      }
    },
    {
      "cell_type": "code",
      "execution_count": null,
      "metadata": {
        "id": "y1GpZkuAJvYU"
      },
      "outputs": [],
      "source": []
    }
  ],
  "metadata": {
    "language_info": {
      "name": "python"
    },
    "colab": {
      "provenance": [],
      "include_colab_link": true
    },
    "kernelspec": {
      "name": "python3",
      "display_name": "Python 3"
    }
  },
  "nbformat": 4,
  "nbformat_minor": 0
}