{
  "cells": [
    {
      "cell_type": "markdown",
      "metadata": {
        "id": "view-in-github",
        "colab_type": "text"
      },
      "source": [
        "<a href=\"https://colab.research.google.com/github/aminehd/AminehTechnicalWritings/blob/main/LinearRegressionMatrix.ipynb\" target=\"_parent\"><img src=\"https://colab.research.google.com/assets/colab-badge.svg\" alt=\"Open In Colab\"/></a>"
      ]
    },
    {
      "cell_type": "markdown",
      "source": [
        "Outline\n",
        "- Introduction (Purpose + scope)\n",
        "- Body\n",
        "  - Load data in repo\n",
        "  - Linear regression is solving linear equations approximately.\n",
        "  - Matrix notation of linear regression.\n",
        "  - Different algebraic ways one can view the problem.\n",
        "  - The line fitting.\n",
        "- Conclusion:"
      ],
      "metadata": {
        "id": "dnGbKJ-RUUuM"
      }
    },
    {
      "cell_type": "markdown",
      "source": [
        "##Git Setup"
      ],
      "metadata": {
        "id": "ShDhAWSsYB6R"
      }
    },
    {
      "cell_type": "code",
      "source": [
        "import google.colab\n",
        "repo_path = 'AminehTechnicalWritings'\n",
        "!git -C $repo_path pull origin || git clone https://github.com/aminehd/AminehTechnicalWritings/ $repo_path\n",
        "local_clone = '/content/' + repo_path\n",
        "!git config --global user.email \"amineh.dadsetan@gmail.com\"\n",
        "!git config --global user.name \"Amineh Dadsetan\""
      ],
      "metadata": {
        "id": "19DE6S_AX97z",
        "outputId": "f2881b65-49c3-4fea-f293-a0e18d2385f3",
        "colab": {
          "base_uri": "https://localhost:8080/"
        }
      },
      "execution_count": 1,
      "outputs": [
        {
          "output_type": "stream",
          "name": "stdout",
          "text": [
            "fatal: cannot change to 'AminehTechnicalWritings': No such file or directory\n",
            "Cloning into 'AminehTechnicalWritings'...\n",
            "remote: Enumerating objects: 107, done.\u001b[K\n",
            "remote: Counting objects: 100% (107/107), done.\u001b[K\n",
            "remote: Compressing objects: 100% (104/104), done.\u001b[K\n",
            "remote: Total 107 (delta 55), reused 3 (delta 1), pack-reused 0\u001b[K\n",
            "Receiving objects: 100% (107/107), 3.04 MiB | 21.17 MiB/s, done.\n",
            "Resolving deltas: 100% (55/55), done.\n"
          ]
        }
      ]
    },
    {
      "cell_type": "markdown",
      "source": [
        "## Introduction\n",
        "I have created a [jupyter notebook](https://colab.research.google.com/github/aminehd/AminehTechnicalWritings/blob/main/DistributionsOfAspectsOfData.ipynb) to generate some random data.\n",
        "\n",
        "Note: At the end of each notebook, I save artifact to the repo so we can load them in any subsequent notebook. 👾 📦\n",
        "\n",
        "The random data from  previous notebook follows the assumption of linear regression. This assumes that if you subtract a linear combination of predictors from the response, the result will have a standard normal distribution. Hence, you can fit a linear model to a given sample.\n",
        "\n",
        "\n",
        "\n",
        "It's important to pause a bit and notice the differenc of a given sample of size n and the whole population. Let's look at a given sample. ⏸\n",
        "\n",
        "\n",
        "\n",
        "\n"
      ],
      "metadata": {
        "id": "-GrjszX0UXVK"
      }
    },
    {
      "cell_type": "code",
      "source": [
        "import numpy as np\n",
        "files = np.load(local_clone + '/population.npz')\n",
        "# sample = np.load(local_clone + '/sample.npy'\n",
        "population = files['arr_0']\n",
        "population.shape"
      ],
      "metadata": {
        "colab": {
          "base_uri": "https://localhost:8080/"
        },
        "id": "-r3NHJOxJL4N",
        "outputId": "c8b7e97a-99fb-458c-fa02-c612a363c87e"
      },
      "execution_count": 2,
      "outputs": [
        {
          "output_type": "execute_result",
          "data": {
            "text/plain": [
              "(300000, 2)"
            ]
          },
          "metadata": {},
          "execution_count": 2
        }
      ]
    },
    {
      "cell_type": "code",
      "source": [
        "n = 30\n",
        "sample_index = np.random.choice(population.shape[0], n)\n",
        "sample = population[sample_index];\n",
        "sample.shape"
      ],
      "metadata": {
        "colab": {
          "base_uri": "https://localhost:8080/"
        },
        "id": "zJ36DZ4nK7aE",
        "outputId": "d7c81c0b-381e-4f82-fbe7-8092bd969109"
      },
      "execution_count": 3,
      "outputs": [
        {
          "output_type": "execute_result",
          "data": {
            "text/plain": [
              "(30, 2)"
            ]
          },
          "metadata": {},
          "execution_count": 3
        }
      ]
    },
    {
      "cell_type": "code",
      "source": [
        "import matplotlib.pyplot as plt\n",
        "fix, axes = plt.subplots(ncols=2)\n",
        "# sample[:,0], sample[:,1]\n",
        "axes[0].scatter(sample[:,0], sample[:,1])\n",
        "axes[0].set_title('Sample distribution')\n",
        "axes[1].set_title('Population distribution')\n",
        "axes[1].scatter(population[:,0], population[:,1])"
      ],
      "metadata": {
        "colab": {
          "base_uri": "https://localhost:8080/",
          "height": 469
        },
        "id": "C8IKsSGKKfew",
        "outputId": "50329536-8610-4a5b-c0eb-9514eea17c6e"
      },
      "execution_count": 4,
      "outputs": [
        {
          "output_type": "execute_result",
          "data": {
            "text/plain": [
              "<matplotlib.collections.PathCollection at 0x79cc70188a60>"
            ]
          },
          "metadata": {},
          "execution_count": 4
        },
        {
          "output_type": "display_data",
          "data": {
            "text/plain": [
              "<Figure size 640x480 with 2 Axes>"
            ],
            "image/png": "[encoded data removed]"
          },
          "metadata": {}
        }
      ]
    },
    {
      "cell_type": "markdown",
      "source": [
        "However, we have not used matrix notation yet. We have considered the sample as  set of size n. Using matrix notation would mean viewing a sample for a given feature,  as a single data point with n-dimensions and not a set anymore. You'll get p n-dimensional vectors. You could also view a sample as n p-dimensinal vectors.\n",
        "\n",
        "Fitting a linear model to data is similar to solving n equations with p variables, with one small difference. We can add an error term to the right side of the equation, so the system always has a solution. However, the trade-off is that there will always be an error, sometimes less sometimes more.\n",
        "Adding error term was part of method of [least squar](https://en.wikipedia.org/wiki/Least_squares#:~:text=The%20first%20clear%20and%20concise,the%20shape%20of%20the%20Earth.) invented by  Legendre, french matematician.\n",
        "\n",
        "The equations for a given sample of size n looks likes:\n",
        "$$\n",
        "\\begin{align}\n",
        "y_1 &= \\beta_1 x_{11} + \\cdots + \\beta_p x_{1p} + \\beta_0 + \\epsilon_1\\\\\n",
        "y_2 &= \\beta_1 x_{21} + \\cdots + \\beta_p x_{2p} + \\beta_0 + \\epsilon_2\\\\\n",
        "&\\vdots \\\\\n",
        "y_n &= \\beta_1 x_{n1} + \\cdots + \\beta_p x_{np}  + \\beta_0 + \\epsilon_n\n",
        "\\end{align}\n",
        "$$\n",
        "\n",
        "Using matrix notation: 🦣\n",
        "$$\n",
        "y =\n",
        "\\begin{bmatrix}\n",
        "y_1 \\\\\n",
        "y_2 \\\\\n",
        "\\vdots \\\\\n",
        "y_n\n",
        "\\end{bmatrix}\n",
        "=\n",
        "\\begin{bmatrix}\n",
        "x_{11} & x_{12} & \\ldots & x_{1p} \\\\\n",
        "x_{21} & x_{22} & \\ldots & x_{2p} \\\\\n",
        "\\vdots & \\vdots & \\ddots & \\vdots \\\\\n",
        "x_{n1} & x_{n2} & \\ldots & x_{np}\n",
        "\\end{bmatrix}\n",
        "\\begin{bmatrix}\n",
        "\\beta_1 \\\\\n",
        "\\vdots \\\\\n",
        "\\beta_p\n",
        "\\end{bmatrix}\n",
        "+\n",
        "\\begin{bmatrix}\n",
        "\\beta_0 \\\\\n",
        "\\beta_0 \\\\\n",
        "\\vdots \\\\\n",
        "\\beta_0\n",
        "\\end{bmatrix}\n",
        "+ ϵ$$\n",
        "\n",
        "A tiny trick helps putting $\\beta_0$ with rest of $\\beta_i$'s. At least help visually. 🎉 🧙\n",
        "$$\n",
        "y =\n",
        "\\begin{bmatrix}\n",
        "1 & x_{11} & x_{12} & \\ldots & x_{1p} \\\\\n",
        "1 & x_{21} & x_{22} & \\ldots & x_{2p} \\\\\n",
        "\\vdots &\\vdots & \\vdots & \\ddots & \\vdots \\\\\n",
        "1 & x_{n1} & x_{n2} & \\ldots & x_{np}\n",
        "\\end{bmatrix}\n",
        "\\begin{bmatrix}\n",
        "\\beta_0 \\\\\n",
        "\\vdots \\\\\n",
        "\\beta_p \\\\\n",
        "\\end{bmatrix}\n",
        "+ ϵ\n",
        "$$\n",
        "Another little trick here would help making the left hand side 0. 🧙\n",
        "$$\n",
        "0 =\n",
        "\\begin{bmatrix}\n",
        "1 & x_{11} & x_{12} & \\ldots & x_{1p} & y_1\\\\\n",
        "1 & x_{21} & x_{22} & \\ldots & x_{2p} & y_2\\\\\n",
        "\\vdots &\\vdots & \\vdots & \\ddots & \\vdots \\\\\n",
        "1 & x_{n1} & x_{n2} & \\ldots & x_{np} & y_n\n",
        "\\end{bmatrix}\n",
        "\\begin{bmatrix}\n",
        "\\beta_0 \\\\\n",
        "\\vdots\\\\\n",
        "\\beta_n\\\\\n",
        "-1\n",
        "\\end{bmatrix}\n",
        "+ ϵ\n",
        "$$\n",
        "There is two linear algebraic interpretations of this:\n",
        "\n",
        "\n",
        "1.   There are p n-dimensional vectors $x_i = [1, x_{1i}, \\ldots, x_{np}]^T$. The second formula means we would like the y to happens on the span of $x_i$'s. To solve the system, one would like  a linear combination of the $x_i$'s that equals to y. Subsequently that means finding $p + 1$ scalars $\\beta_0, /cdots , \\beta_p$.\n",
        "2.   List item HERE!!!\n",
        "\n"
      ],
      "metadata": {
        "id": "P3AqCTUnDqE_"
      }
    },
    {
      "cell_type": "markdown",
      "source": [
        "HERE!! Oh everything looks so nce and neat without the epsilon. what to do with epsilon??\n",
        "add a paragraph about history of method of least square (euler, legendre --> gause)"
      ],
      "metadata": {
        "id": "20tdkyo3Vpf2"
      }
    },
    {
      "cell_type": "markdown",
      "source": [
        "import p"
      ],
      "metadata": {
        "id": "q-O-oT46KhHC"
      }
    },
    {
      "cell_type": "markdown",
      "source": [
        "\n",
        "At first glance, it looks like we can model these as p  (number of features) in n-dimensional space. And then we can define the purpose to be to find a linear combination of given p points that is equal to y which is another n dimensional vector. That means we sould like that span of p vectors, capture vector y.\n",
        "\n",
        "But the graphs are another view that is p+1 dimensional space and n points and fitting a linear surface. why? HERE!!!"
      ],
      "metadata": {
        "id": "yQB89VbbFY-y"
      }
    },
    {
      "cell_type": "code",
      "execution_count": null,
      "metadata": {
        "id": "Kpave9KfUT6V"
      },
      "outputs": [],
      "source": [
        "We haven't used any matrix notation yet. Let's switch to matrix notation.\n",
        "At first glance, it looks like we can model these as p  (number of features) in n-dimensional space. And then we can define the purpose to be to find a linear combination of given p points that is equal to y which is another n dimensional vector. That means we sould like that span of p vectors, capture vector y.\n",
        "\n",
        "But the graphs are another view that is p+1 dimensional space and n points and fitting a linear surface. why? HERE!!!"
      ]
    }
  ],
  "metadata": {
    "language_info": {
      "name": "python"
    },
    "colab": {
      "provenance": [],
      "include_colab_link": true
    },
    "kernelspec": {
      "name": "python3",
      "display_name": "Python 3"
    }
  },
  "nbformat": 4,
  "nbformat_minor": 0
}