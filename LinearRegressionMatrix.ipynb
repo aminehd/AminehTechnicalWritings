{
  "cells": [
    {
      "cell_type": "markdown",
      "source": [
        "Outline\n",
        "- Introduction (Purpose + scope)\n",
        "- Body\n",
        "  - Linear regression is solving linear equations approximately.\n",
        "  - Matrix notation of linear regression.\n",
        "  - Different algebraic ways one can view the problem.\n",
        "  - The line fitting.\n",
        "- Conclusion:"
      ],
      "metadata": {
        "id": "dnGbKJ-RUUuM"
      }
    },
    {
      "cell_type": "markdown",
      "source": [
        "##Git Setup"
      ],
      "metadata": {
        "id": "ShDhAWSsYB6R"
      }
    },
    {
      "cell_type": "code",
      "source": [
        "import google.colab\n",
        "repo_path = 'AminehTechnicalWritings'\n",
        "!git -C $repo_path pull origin || git clone https://github.com/aminehd/AminehTechnicalWritings/ $repo_path\n",
        "local_clone = '/content/' + repo_path\n",
        "!git config --global user.email \"amineh.dadsetan@gmail.com\"\n",
        "!git config --global user.name \"Amineh Dadsetan\""
      ],
      "metadata": {
        "id": "19DE6S_AX97z",
        "outputId": "4d4bae9d-90be-4148-ece9-edeb380e67eb",
        "colab": {
          "base_uri": "https://localhost:8080/"
        }
      },
      "execution_count": 1,
      "outputs": [
        {
          "output_type": "stream",
          "name": "stdout",
          "text": [
            "fatal: cannot change to 'AminehTechnicalWritings': No such file or directory\n",
            "Cloning into 'AminehTechnicalWritings'...\n",
            "remote: Enumerating objects: 98, done.\u001b[K\n",
            "remote: Counting objects: 100% (98/98), done.\u001b[K\n",
            "remote: Compressing objects: 100% (95/95), done.\u001b[K\n",
            "remote: Total 98 (delta 50), reused 3 (delta 1), pack-reused 0\u001b[K\n",
            "Receiving objects: 100% (98/98), 3.01 MiB | 15.35 MiB/s, done.\n",
            "Resolving deltas: 100% (50/50), done.\n"
          ]
        }
      ]
    },
    {
      "cell_type": "markdown",
      "source": [
        "## Introduction\n",
        "I have created a [jupyter notebook](https://colab.research.google.com/github/aminehd/AminehTechnicalWritings/blob/main/DistributionsOfAspectsOfData.ipynb) to generate some randome data that one can use to fit a linear regression model on it.  \n",
        "It means if you substract a linear combination of predictors from the response, the result has a standard normal disribution. HERE!!!\n"
      ],
      "metadata": {
        "id": "-GrjszX0UXVK"
      }
    },
    {
      "cell_type": "code",
      "execution_count": null,
      "metadata": {
        "id": "Kpave9KfUT6V"
      },
      "outputs": [],
      "source": [
        "We haven't used any matrix notation yet. Let's switch to matrix notation.\n",
        "At first glance, it looks like we can model these as p  (number of features) in n-dimensional space. And then we can define the purpose to be to find a linear combination of given p points that is equal to y which is another n dimensional vector. That means we sould like that span of p vectors, capture vector y.\n",
        "\n",
        "But the graphs are another view that is p+1 dimensional space and n points and fitting a linear surface. why? HERE!!!"
      ]
    }
  ],
  "metadata": {
    "language_info": {
      "name": "python"
    },
    "colab": {
      "provenance": []
    },
    "kernelspec": {
      "name": "python3",
      "display_name": "Python 3"
    }
  },
  "nbformat": 4,
  "nbformat_minor": 0
}