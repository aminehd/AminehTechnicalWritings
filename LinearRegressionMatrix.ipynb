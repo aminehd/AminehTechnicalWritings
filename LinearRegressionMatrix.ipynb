{
  "cells": [
    {
      "cell_type": "markdown",
      "metadata": {
        "id": "view-in-github",
        "colab_type": "text"
      },
      "source": [
        "<a href=\"https://colab.research.google.com/github/aminehd/AminehTechnicalWritings/blob/main/LinearRegressionMatrix.ipynb\" target=\"_parent\"><img src=\"https://colab.research.google.com/assets/colab-badge.svg\" alt=\"Open In Colab\"/></a>"
      ]
    },
    {
      "cell_type": "markdown",
      "source": [
        "Outline\n",
        "- Introduction (Purpose + scope)\n",
        "- Body\n",
        "  - Linear regression is solving linear equations approximately.\n",
        "  - Matrix notation of linear regression.\n",
        "  - Different algebraic ways one can view the problem.\n",
        "  - The line fitting.\n",
        "- Conclusion:"
      ],
      "metadata": {
        "id": "dnGbKJ-RUUuM"
      }
    },
    {
      "cell_type": "markdown",
      "source": [
        "##Git Setup"
      ],
      "metadata": {
        "id": "ShDhAWSsYB6R"
      }
    },
    {
      "cell_type": "code",
      "source": [
        "import google.colab\n",
        "repo_path = 'AminehTechnicalWritings'\n",
        "!git -C $repo_path pull origin || git clone https://github.com/aminehd/AminehTechnicalWritings/ $repo_path\n",
        "local_clone = '/content/' + repo_path\n",
        "!git config --global user.email \"amineh.dadsetan@gmail.com\"\n",
        "!git config --global user.name \"Amineh Dadsetan\""
      ],
      "metadata": {
        "id": "19DE6S_AX97z",
        "outputId": "2914823c-bc89-4945-f51a-7a9cbcb2affd",
        "colab": {
          "base_uri": "https://localhost:8080/"
        }
      },
      "execution_count": 1,
      "outputs": [
        {
          "output_type": "stream",
          "name": "stdout",
          "text": [
            "fatal: cannot change to 'AminehTechnicalWritings': No such file or directory\n",
            "Cloning into 'AminehTechnicalWritings'...\n",
            "remote: Enumerating objects: 101, done.\u001b[K\n",
            "remote: Counting objects: 100% (101/101), done.\u001b[K\n",
            "remote: Compressing objects: 100% (98/98), done.\u001b[K\n",
            "remote: Total 101 (delta 51), reused 3 (delta 1), pack-reused 0\u001b[K\n",
            "Receiving objects: 100% (101/101), 3.01 MiB | 16.96 MiB/s, done.\n",
            "Resolving deltas: 100% (51/51), done.\n"
          ]
        }
      ]
    },
    {
      "cell_type": "markdown",
      "source": [
        "## Introduction\n",
        "I have created a [jupyter notebook](https://colab.research.google.com/github/aminehd/AminehTechnicalWritings/blob/main/DistributionsOfAspectsOfData.ipynb) to generate some random data. The random data from  previous notebook follows the assumption of linear regression. This assumes that if you subtract a linear combination of predictors from the response, the result will have a standard normal distribution. Hence, you can fit a linear model to a given sample.\n",
        "\n",
        "It's important to pause a bit and notice the differenc of a given sample of size n and the whole population. Let's look at a given sample\n",
        "\n",
        "\n",
        "\n",
        "\n"
      ],
      "metadata": {
        "id": "-GrjszX0UXVK"
      }
    },
    {
      "cell_type": "code",
      "source": [
        "import numpy as np\n",
        "files = np.load(local_clone + '/population.npz')\n",
        "# sample = np.load(local_clone + '/sample.npy'\n",
        "population = files['arr_0']\n",
        "population.shape"
      ],
      "metadata": {
        "colab": {
          "base_uri": "https://localhost:8080/"
        },
        "id": "-r3NHJOxJL4N",
        "outputId": "b2d0ec75-68a8-48ab-a8d3-c7c07ef32579"
      },
      "execution_count": 11,
      "outputs": [
        {
          "output_type": "execute_result",
          "data": {
            "text/plain": [
              "(300000, 2)"
            ]
          },
          "metadata": {},
          "execution_count": 11
        }
      ]
    },
    {
      "cell_type": "code",
      "source": [
        "n = 30\n",
        "sample_index = np.random.choice(population.shape[0], n)\n",
        "sample = population[sample_index];\n",
        "sample.shape"
      ],
      "metadata": {
        "colab": {
          "base_uri": "https://localhost:8080/"
        },
        "id": "zJ36DZ4nK7aE",
        "outputId": "f1357d23-0894-4aea-b728-393eb7ebde42"
      },
      "execution_count": 20,
      "outputs": [
        {
          "output_type": "execute_result",
          "data": {
            "text/plain": [
              "(30, 2)"
            ]
          },
          "metadata": {},
          "execution_count": 20
        }
      ]
    },
    {
      "cell_type": "code",
      "source": [
        "import matplotlib.pyplot as plt\n",
        "fix, axes = plt.subplots(ncols=2)\n",
        "# sample[:,0], sample[:,1]\n",
        "axes[0].scatter(sample[:,0], sample[:,1])\n",
        "axes[0].set_title('Sample distribution')\n",
        "axes[1].set_title('Population distribution')\n",
        "axes[1].scatter(population[:,0], population[:,1])"
      ],
      "metadata": {
        "colab": {
          "base_uri": "https://localhost:8080/",
          "height": 469
        },
        "id": "C8IKsSGKKfew",
        "outputId": "72dbebb5-befa-4918-b93d-2f20c4b11a68"
      },
      "execution_count": 31,
      "outputs": [
        {
          "output_type": "execute_result",
          "data": {
            "text/plain": [
              "<matplotlib.collections.PathCollection at 0x7f681efc9390>"
            ]
          },
          "metadata": {},
          "execution_count": 31
        },
        {
          "output_type": "display_data",
          "data": {
            "text/plain": [
              "<Figure size 640x480 with 2 Axes>"
            ],
            "image/png": "[encoded data removed]"
          },
          "metadata": {}
        }
      ]
    },
    {
      "cell_type": "markdown",
      "source": [
        "However, we have not used matrix notation yet. We have considered n observations as a sample set. Using matrix notation would mean viewing a sample for a given feature as a single data point with n-dimensions and not a set anymore.\n",
        "\n",
        "Fitting a linear model to data is similar to solving n equations with p variables, with one small difference. We can add an error term to the right side of the equation, so the system always has a solution. However, the trade-off is that there will always be an error, sometimes less sometimes more.\n",
        "Adding error term was part of method of [least squar](https://en.wikipedia.org/wiki/Least_squares#:~:text=The%20first%20clear%20and%20concise,the%20shape%20of%20the%20Earth.) invented by  Legendre, french matematician.\n",
        "\n",
        "The equations for a given sample of size n looks likes: HERE!!\n",
        "\n",
        "\n",
        "$$\n",
        "\\begin{bmatrix}\n",
        "y_1 \\\\\n",
        "y_2 \\\\\n",
        "\\vdots \\\\\n",
        "y_n\n",
        "\\end{bmatrix}\n",
        "=\n",
        "\\begin{bmatrix}\n",
        "x_{11} & x_{12} & \\ldots & x_{1p} \\\\\n",
        "x_{21} & x_{22} & \\ldots & x_{2p} \\\\\n",
        "\\vdots & \\vdots & \\ddots & \\vdots \\\\\n",
        "x_{n1} & x_{n2} & \\ldots & x_{np}\n",
        "\\end{bmatrix}\n",
        "\\begin{bmatrix}\n",
        "\\beta_1 \\\\\n",
        "\\beta_2 \\\\\n",
        "\\vdots \\\\\n",
        "\\beta_p\n",
        "\\end{bmatrix}\n",
        "+\n",
        "\\begin{bmatrix}\n",
        "b_0 \\\\\n",
        "b_0 \\\\\n",
        "\\vdots \\\\\n",
        "b_0\n",
        "\\end{bmatrix}$$"
      ],
      "metadata": {
        "id": "P3AqCTUnDqE_"
      }
    },
    {
      "cell_type": "markdown",
      "source": [
        "import p"
      ],
      "metadata": {
        "id": "q-O-oT46KhHC"
      }
    },
    {
      "cell_type": "markdown",
      "source": [
        "\n",
        "At first glance, it looks like we can model these as p  (number of features) in n-dimensional space. And then we can define the purpose to be to find a linear combination of given p points that is equal to y which is another n dimensional vector. That means we sould like that span of p vectors, capture vector y.\n",
        "\n",
        "But the graphs are another view that is p+1 dimensional space and n points and fitting a linear surface. why? HERE!!!"
      ],
      "metadata": {
        "id": "yQB89VbbFY-y"
      }
    },
    {
      "cell_type": "code",
      "execution_count": null,
      "metadata": {
        "id": "Kpave9KfUT6V"
      },
      "outputs": [],
      "source": [
        "We haven't used any matrix notation yet. Let's switch to matrix notation.\n",
        "At first glance, it looks like we can model these as p  (number of features) in n-dimensional space. And then we can define the purpose to be to find a linear combination of given p points that is equal to y which is another n dimensional vector. That means we sould like that span of p vectors, capture vector y.\n",
        "\n",
        "But the graphs are another view that is p+1 dimensional space and n points and fitting a linear surface. why? HERE!!!"
      ]
    }
  ],
  "metadata": {
    "language_info": {
      "name": "python"
    },
    "colab": {
      "provenance": [],
      "include_colab_link": true
    },
    "kernelspec": {
      "name": "python3",
      "display_name": "Python 3"
    }
  },
  "nbformat": 4,
  "nbformat_minor": 0
}