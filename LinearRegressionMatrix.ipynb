{
  "cells": [
    {
      "cell_type": "markdown",
      "metadata": {
        "id": "view-in-github",
        "colab_type": "text"
      },
      "source": [
        "<a href=\"https://colab.research.google.com/github/aminehd/AminehTechnicalWritings/blob/main/LinearRegressionMatrix.ipynb\" target=\"_parent\"><img src=\"https://colab.research.google.com/assets/colab-badge.svg\" alt=\"Open In Colab\"/></a>"
      ]
    },
    {
      "cell_type": "markdown",
      "source": [
        "Outline\n",
        "- Introduction (Purpose + scope)\n",
        "- Body\n",
        "  - Load data in repo\n",
        "  - Linear regression is solving linear equations approximately.\n",
        "  - Matrix notation of linear regression.\n",
        "  - Different algebraic ways one can view the problem.\n",
        "  - The line fitting.\n",
        "  - Connection between method of least squares and the distribution of error terms.\n",
        "- Conclusion:"
      ],
      "metadata": {
        "id": "dnGbKJ-RUUuM"
      }
    },
    {
      "cell_type": "markdown",
      "source": [
        "##Git Setup"
      ],
      "metadata": {
        "id": "ShDhAWSsYB6R"
      }
    },
    {
      "cell_type": "code",
      "source": [
        "import google.colab\n",
        "repo_path = 'AminehTechnicalWritings'\n",
        "!git -C $repo_path pull origin || git clone https://github.com/aminehd/AminehTechnicalWritings/ $repo_path\n",
        "local_clone = '/content/' + repo_path\n",
        "!git config --global user.email \"amineh.dadsetan@gmail.com\"\n",
        "!git config --global user.name \"Amineh Dadsetan\""
      ],
      "metadata": {
        "id": "19DE6S_AX97z",
        "outputId": "6e504cc3-f1e1-4ddc-ef2f-c06edc9481c2",
        "colab": {
          "base_uri": "https://localhost:8080/"
        }
      },
      "execution_count": null,
      "outputs": [
        {
          "output_type": "stream",
          "name": "stdout",
          "text": [
            "fatal: cannot change to 'AminehTechnicalWritings': No such file or directory\n",
            "Cloning into 'AminehTechnicalWritings'...\n",
            "remote: Enumerating objects: 125, done.\u001b[K\n",
            "remote: Counting objects: 100% (125/125), done.\u001b[K\n",
            "remote: Compressing objects: 100% (122/122), done.\u001b[K\n",
            "remote: Total 125 (delta 65), reused 3 (delta 1), pack-reused 0\u001b[K\n",
            "Receiving objects: 100% (125/125), 3.11 MiB | 17.30 MiB/s, done.\n",
            "Resolving deltas: 100% (65/65), done.\n"
          ]
        }
      ]
    },
    {
      "cell_type": "markdown",
      "source": [
        "## Introduction\n",
        "I have created a [jupyter notebook](https://colab.research.google.com/github/aminehd/AminehTechnicalWritings/blob/main/DistributionsOfAspectsOfData.ipynb) to generate some random data.\n",
        "\n",
        "Note: At the end of each notebook, I save artifact to the repo so we can load them in any subsequent notebook. 👾 📦\n",
        "\n",
        "The random data from  previous notebook follows the assumption of linear regression. This assumes that if you subtract a linear combination of predictors from the response, the result will have a standard normal distribution. Hence, you can fit a linear model to a given sample.\n",
        "\n",
        "\n",
        "\n",
        "It's important to pause a bit and notice the differenc of a given sample of size n and the whole population. Let's look at a given sample. ⏸\n",
        "\n",
        "\n",
        "\n",
        "\n"
      ],
      "metadata": {
        "id": "-GrjszX0UXVK"
      }
    },
    {
      "cell_type": "code",
      "source": [
        "import numpy as np\n",
        "files = np.load(local_clone + '/population.npz')\n",
        "# sample = np.load(local_clone + '/sample.npy'\n",
        "population = files['arr_0']\n",
        "population.shape"
      ],
      "metadata": {
        "colab": {
          "base_uri": "https://localhost:8080/"
        },
        "id": "-r3NHJOxJL4N",
        "outputId": "649748e6-9df7-4a16-89c2-ff7ffc0420ec"
      },
      "execution_count": null,
      "outputs": [
        {
          "output_type": "execute_result",
          "data": {
            "text/plain": [
              "(300000, 2)"
            ]
          },
          "metadata": {},
          "execution_count": 2
        }
      ]
    },
    {
      "cell_type": "code",
      "source": [
        "n = 30\n",
        "sample_index = np.random.choice(population.shape[0], n)\n",
        "sample = population[sample_index];\n",
        "sample.shape"
      ],
      "metadata": {
        "colab": {
          "base_uri": "https://localhost:8080/"
        },
        "id": "zJ36DZ4nK7aE",
        "outputId": "2935f51b-b6c8-4557-db79-3c9d89a8ca1c"
      },
      "execution_count": null,
      "outputs": [
        {
          "output_type": "execute_result",
          "data": {
            "text/plain": [
              "(30, 2)"
            ]
          },
          "metadata": {},
          "execution_count": 3
        }
      ]
    },
    {
      "cell_type": "code",
      "source": [
        "import matplotlib.pyplot as plt\n",
        "fix, axes = plt.subplots(ncols=2)\n",
        "# sample[:,0], sample[:,1]\n",
        "axes[0].scatter(sample[:,0], sample[:,1])\n",
        "axes[0].set_title('Sample distribution')\n",
        "axes[1].set_title('Population distribution')\n",
        "axes[1].scatter(population[:,0], population[:,1])"
      ],
      "metadata": {
        "colab": {
          "base_uri": "https://localhost:8080/",
          "height": 469
        },
        "id": "C8IKsSGKKfew",
        "outputId": "084d3db1-64a8-452b-b273-954a0afb0d92"
      },
      "execution_count": null,
      "outputs": [
        {
          "output_type": "execute_result",
          "data": {
            "text/plain": [
              "<matplotlib.collections.PathCollection at 0x7887247048b0>"
            ]
          },
          "metadata": {},
          "execution_count": 4
        },
        {
          "output_type": "display_data",
          "data": {
            "text/plain": [
              "<Figure size 640x480 with 2 Axes>"
            ],
            "image/png": "[encoded data removed]"
          },
          "metadata": {}
        }
      ]
    },
    {
      "cell_type": "markdown",
      "source": [
        "However, we have not used matrix notation yet. We have considered given sample as a set of size n.\n",
        "In contrast, using matrix notation would mean viewing a sample for a given feature,  as a single data point with n-dimensions and not a set anymore. You'll get p, n-dimensional vectors. You could also view a sample as n p-dimensinal vectors. But wait on that a bit.\n",
        "\n",
        "Fitting a linear model to data is similar to solving n equations with p variables, with one small difference. We can add an error term to the right side of the equation, so the system always has a solution. However, the trade-off is that there will always be an error, sometimes less sometimes more.\n",
        "Adding error term was part of [method of least squars](https://en.wikipedia.org/wiki/Least_squares#:~:text=The%20first%20clear%20and%20concise,the%20shape%20of%20the%20Earth.) invented by  Legendre, french matematician.\n",
        "\n",
        "The equations for a given sample of size n looks likes:\n",
        "$$\n",
        "\\begin{align}\n",
        "y_1 &= \\beta_1 x_{11} + \\cdots + \\beta_p x_{1p} + \\beta_0 + \\epsilon_1\\\\\n",
        "y_2 &= \\beta_1 x_{21} + \\cdots + \\beta_p x_{2p} + \\beta_0 + \\epsilon_2\\\\\n",
        "&\\vdots \\\\\n",
        "y_n &= \\beta_1 x_{n1} + \\cdots + \\beta_p x_{np}  + \\beta_0 + \\epsilon_n\n",
        "\\end{align}\n",
        "$$\n",
        "\n",
        "Using matrix notation: 🦣\n",
        "$$\n",
        "y =\n",
        "\\begin{bmatrix}\n",
        "y_1 \\\\\n",
        "y_2 \\\\\n",
        "\\vdots \\\\\n",
        "y_n\n",
        "\\end{bmatrix}\n",
        "=\n",
        "\\begin{bmatrix}\n",
        "x_{11} & x_{12} & \\ldots & x_{1p} \\\\\n",
        "x_{21} & x_{22} & \\ldots & x_{2p} \\\\\n",
        "\\vdots & \\vdots & \\ddots & \\vdots \\\\\n",
        "x_{n1} & x_{n2} & \\ldots & x_{np}\n",
        "\\end{bmatrix}\n",
        "\\begin{bmatrix}\n",
        "\\beta_1 \\\\\n",
        "\\vdots \\\\\n",
        "\\beta_p\n",
        "\\end{bmatrix}\n",
        "+\n",
        "\\begin{bmatrix}\n",
        "\\beta_0 \\\\\n",
        "\\beta_0 \\\\\n",
        "\\vdots \\\\\n",
        "\\beta_0\n",
        "\\end{bmatrix}\n",
        "+ ϵ$$\n",
        "\n",
        "A tiny trick helps putting $\\beta_0$ with rest of $\\beta_i$'s. At least help visually. 🎉 🧙\n",
        "$$\n",
        "y =\n",
        "\\begin{bmatrix}\n",
        "1 & x_{11} & x_{12} & \\ldots & x_{1p} \\\\\n",
        "1 & x_{21} & x_{22} & \\ldots & x_{2p} \\\\\n",
        "\\vdots &\\vdots & \\vdots & \\ddots & \\vdots \\\\\n",
        "1 & x_{n1} & x_{n2} & \\ldots & x_{np}\n",
        "\\end{bmatrix}\n",
        "\\begin{bmatrix}\n",
        "\\beta_0 \\\\\n",
        "\\vdots \\\\\n",
        "\\beta_p \\\\\n",
        "\\end{bmatrix}\n",
        "+ ϵ\n",
        "$$\n",
        "\n",
        "There is two linear algebraic interpretations of this:\n",
        "\n",
        "\n",
        "First interpretation is to have $p$ n-dimensional vectors where $\\mathbf{x}_0 = [1, 1, ..., 1]^T$ and for $j >0 $, $\\mathbf{x}_j = [x_{1i}, \\ldots, x_{nj}]^T$. Then one can expand the above formula to: 🤯\n",
        "\n",
        "$$\n",
        "y =\n",
        "\\begin{bmatrix}\n",
        "1 & x_{11} & x_{12} & \\ldots & x_{1p} \\\\\n",
        "1 & x_{21} & x_{22} & \\ldots & x_{2p} \\\\\n",
        "\\vdots &\\vdots & \\vdots & \\ddots & \\vdots \\\\\n",
        "1 & x_{n1} & x_{n2} & \\ldots & x_{np}\n",
        "\\end{bmatrix}\n",
        "\\begin{bmatrix}\n",
        "\\beta_0 \\\\\n",
        "\\vdots \\\\\n",
        "\\beta_p \\\\\n",
        "\\end{bmatrix}\n",
        "+ ϵ\n",
        "= \\\\\n",
        "\\beta_0 *\n",
        "\\begin{bmatrix}\n",
        "1\\\\\n",
        "1 \\\\\n",
        "\\vdots\\\\\n",
        "1\n",
        "\\end{bmatrix}\n",
        "+ \\cdots + \\beta_j *\n",
        "\\begin{bmatrix}\n",
        "x_{1j} \\\\\n",
        "x{2j} \\\\\n",
        "\\vdots \\\\\n",
        "x_{nj}\n",
        "\\end{bmatrix} + \\cdots + \\beta_p *\n",
        "\\begin{bmatrix}\n",
        "x_{1p} \\\\\n",
        "x_{2p} \\\\\n",
        "\\vdots \\\\\n",
        "x_{np}\n",
        "\\end{bmatrix} + \\epsilon =\\\\\n",
        "\\sum_{i \\in [0, ...,p]} \\beta_i * \\mathbf{x}_i\n",
        "$$\n",
        "\n",
        "The right hand of fomula is a linear combinations of all $\\mathbf{x}_i`s$ and the all one vector. The geometric interpretation of it is that we would like y to be in the hyperplane created by span of these $p + 1$ vectors. And subsequently write y as a linear combination of them.\n",
        "\n",
        "Now picture gets more clear. For example if  the $p +1 $ vectors  linearly independent, we can think of  them as a basis and thus writing y in terms of them is change of basis for y.\n",
        "\n",
        "Also, one one can see, the more feature there is compared to the sample size(n), the liklier it gets to have an answer because the vectors are gonna span more of the space.\n",
        "\n",
        "\n",
        "\n",
        "\n"
      ],
      "metadata": {
        "id": "P3AqCTUnDqE_"
      }
    },
    {
      "cell_type": "markdown",
      "source": [
        "The second algebraic view can be that there is n vectors, each p + 1 dimensions. For $ 1< i < n$ , $x_i = [y_i, x_{i,1}, ..., x_{ip}]^T$.\n",
        "\n",
        "\n",
        "But you are not looking for linear combinations of x_i's to equal to equal to y. In fact you are looking for a plane with p dimensions that all x_i exists on it. consequently you are looking for p scalars that identify such plain.\n",
        "So we are hoping they all fall on a p dimensional plane becuase we think there are p basis that can span all n points. However the p dimensional plain doesnt have to pass vector 0, so we need p + 1 such scalars to determine where  the plain meets y axes for when all x's are 0.\n",
        "these  p + 1 numbers are going to determine such plain.\n",
        "\n",
        "while it is nice to visualize the data point using second view, we mainly use the first view to solve the system of equations. Let's find such hyperplane for our sample data points ( or n vectors of 2-dimensional )\n"
      ],
      "metadata": {
        "id": "j61xxxCfAC2X"
      }
    },
    {
      "cell_type": "code",
      "source": [
        "# fit regression for sample of shape (30, 2)\n",
        "slope, intercept = np.polyfit(sample[:, 0], sample[:,1], 1)\n",
        "fig, ax = plt.subplots()\n",
        "ax.scatter(sample[:, 0], sample[:, 1])\n",
        "ax.plot(np.linspace(0, 10, 40), slope * np.linspace(0, 10, 40) + intercept, 'r')"
      ],
      "metadata": {
        "id": "QlszhiXB9uqc",
        "outputId": "1e960c2c-408f-491a-8d02-6a21794f2b6f",
        "colab": {
          "base_uri": "https://localhost:8080/",
          "height": 447
        }
      },
      "execution_count": null,
      "outputs": [
        {
          "output_type": "execute_result",
          "data": {
            "text/plain": [
              "[<matplotlib.lines.Line2D at 0x7886ef64c430>]"
            ]
          },
          "metadata": {},
          "execution_count": 15
        },
        {
          "output_type": "display_data",
          "data": {
            "text/plain": [
              "<Figure size 640x480 with 1 Axes>"
            ],
            "image/png": "[encoded data removed]"
          },
          "metadata": {}
        }
      ]
    },
    {
      "cell_type": "markdown",
      "source": [
        "## Connection between method of least squares and the Error terms\n",
        "\n",
        "Without the epsilon term, finding the regression parameters (or $\\beta_i$'s) looks like solving multiple linear equations and there is standard prodecures for it. But now what do we do with epsilon term.\n",
        "\n",
        "Let's take a look into the history of it.\n",
        "\n",
        "The method of least squares grew out of the fields of astronomy, as scientists tried to provide solutions to the challenges of navigating the Earth's oceans.\n",
        "\n",
        "Their astronomical observations were in form of lots of equations with lots of variables. But observations always have error in them. So there was cases that these equation do not have any solution. However, they really wanted a solution.\n",
        "\n",
        "Their trick was to add an error term, and expect that equations to always have some solution. Typically, multiple solutions exist, each with different error term values. The best solution is the one that minimizes the overall error.\n",
        "\n",
        "How to define the criterion for overal error term? Which function of error do we want to minimize? One possible such funtion is the sum of squares of errors. The modthod that finds the linear regression coefficients by minimizing the sum of square of errors is called method of least squares. Nowdays, method of least squares is part of Regression, particularly it is one possible loss function.\n",
        "\n",
        "\n",
        "The first clear and concise exposition of the method of least squares was published by [Legendre](https://en.wikipedia.org/wiki/Adrien-Marie_Legendre) in 1805.\n",
        "\n",
        "However, In 1809 Carl Friedrich Gauss published his method of calculating the orbits of celestial bodies.This naturally led to a priority dispute with Legendre. However, to Gauss's credit, he went beyond Legendre and succeeded in connecting the method of least squares with the principles of probability and to the normal distribution. We'll see how the method gets linked to the probability distribution of errors.\n",
        "\n",
        "But why method of least square is a good choice for finding the coefficients? the answer to this question depends on two things: firstly on the assumptions about error distribution, and secondly, on what are we looking for in a solution.  \n",
        "\n",
        "By picking a criterion for solving the equations, in practice, we find a estimate $\\hat{\\beta_j}$ for $\\beta_j$ in below equations. This estimate is a function of $X$ and $y$.\n",
        "\n",
        "$$\n",
        "\\begin{align}\n",
        "y_1 &= \\beta_1 x_{11} + \\cdots + \\beta_p x_{1p} + \\beta_0 + \\epsilon_1\\\\\n",
        "y_2 &= \\beta_1 x_{21} + \\cdots + \\beta_p x_{2p} + \\beta_0 + \\epsilon_2\\\\\n",
        "&\\vdots \\\\\n",
        "y_n &= \\beta_1 x_{n1} + \\cdots + \\beta_p x_{np}  + \\beta_0 + \\epsilon_n\n",
        "\\end{align}\n",
        "$$\n",
        "\n",
        "\n",
        "\n",
        "If we decide to minimize the sum of least square of errors, the estimator $\\hat{\\beta}$ will be called **ordinary least squares estimator (OLS)** and is below function\n",
        "$$\n",
        "\\beta_j =  (X^TX)^{-1}X^Ty\n",
        "$$\n",
        "\n",
        "⏰  Now, wait for it ..., it turns out that OLS is the **best unbiased linear estimator** or [BLUE](https://en.wikipedia.org/wiki/Gauss%E2%80%93Markov_theorem) under a few assumptions about the set of error random variables, $\\epsilon_i$:\n",
        "- They have mean zero: $E[\\epsilon_i]= 0$\n",
        "- They are homoscedastic, that is all have the same finite variance: $Var(\\epsilon_i) = \\sigma^2$ for all i and\n",
        "- Distinct error terms uncorrelated: $Cov(\\epsilon_i, \\epsilon_j) = 0, \\forall i \\neq j.$\n",
        "\n",
        "⭐ We can answer the question we asked a while ago: why method of least square is a good choice for finding the coefficients, specificaly when the error terms has a normal distribution?  Because under the assumption of normal distibution and uncorrelated error terms, the OLS estimator (that is result of using method of least squares) is going to be Best unbiased linear estimator or BLUE.\n",
        "\n",
        "🔹 The term BLUE suggests that there are other good estimators. OLS is the best one among the linear and unbiased ones. The fact that OLS estimator is linear in term of y's is easy to verify.\n",
        "\n",
        "However, we haven't explained what unbiased means.\n",
        "\n",
        "Here is an observation that helps answer above question:\n",
        "\n",
        "WHen there is no predictors and error follows normal distribution, mean of responses is what optimizes the sum of squared errors.\n",
        "In that case $y = [y_1, ..., y_n]^T$ and we would like to find best $\\beta_0$ to fit $y = \\hat{\\beta_0 }$. Then OLS would minimize $\\sum{(y_i - \\hat{\\beta_0})^2}$.\n",
        "\n",
        "If we use the $\\hat{\\beta_0}$ calculated for the sample to estimate the $\\beta_0$ for the whole population or better to say the real y for population, this estimation is *unbiased*. It means on average we expect $\\hat{\\beta_0}$ to equal to ${\\beta_0}$. Hence an unbiased estimator does not systemically over- or under-estimate the true value.\n",
        "\n",
        "So basically when predictors are 0 dimensional,  benefit of using method of least square as loss function, estimators would be unbiased over all samples.\n",
        "\n",
        "\n",
        "  In fact under the assumption of normally distributed errors, the least squares estimates have desirable properties such as being unbiased and having minimum variance among all linear estimators. That is one of the reasons that  method of least squares and normal distribution are tied together.\n",
        "  \n",
        "  \n",
        "\n",
        "\n",
        "\n",
        "## Conclusion\n",
        "We looked at linear regression problem in the form of solving multiple linear equations. Then we looked at two ways of interpreting a solution with matrixes (or linear spaces). Finally we contemplated on the error terms, method of least squares, and how the mothod is connected to the distribution of error terms.\n",
        "\n",
        "\n",
        "  \n",
        "  \n",
        "This concludes this not book. Next notebook we try to look at the model coefficients ($\\beta_i$'s ) as summary statistics defined on samples. You can also think of them as measures since samples are subsets.  \n",
        "\n",
        "Then we look at  expected value of sample statistices over multiple sampling. Also we look at variance of stuff within sample, and variance of sample   stat over several samplings. This indeed is an intersting case when sample stat is defined to be the mean of sample.\n",
        "\n",
        "\n",
        "These can help understand concept of Standard Error and F-test better.\n",
        "\n"
      ],
      "metadata": {
        "id": "20tdkyo3Vpf2"
      }
    }
  ],
  "metadata": {
    "language_info": {
      "name": "python"
    },
    "colab": {
      "provenance": [],
      "include_colab_link": true
    },
    "kernelspec": {
      "name": "python3",
      "display_name": "Python 3"
    }
  },
  "nbformat": 4,
  "nbformat_minor": 0
}