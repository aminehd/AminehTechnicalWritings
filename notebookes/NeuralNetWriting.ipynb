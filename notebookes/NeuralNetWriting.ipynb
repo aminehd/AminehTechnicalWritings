{
  "cells": [
    {
      "cell_type": "markdown",
      "source": [
        "Author: Amineh Dadsetan\n",
        "## Outline\n",
        "1. [Neural network as a generalization of linear regression](#neural-network-as-a-generalization-of-linear-regression\n",
        ")\n",
        "2. [How does it deal with non-linearity?](#how-does-it-deal-with-non-linearity?)\n",
        "3. [Transforming input to ouput through n layers: feed forward\n",
        "](#transforming-input-to-ouput-through-n-layers:-feed-forward )\n",
        "4. [What does it mean to train a neural net? how we do it.](###what-does-it-mean-to-train-a-neural-net?-how-we-do-it.)\n",
        "5. []()\n",
        "6. []()"
      ],
      "metadata": {
        "id": "PnW0O0mfqewV"
      }
    },
    {
      "cell_type": "markdown",
      "source": [
        "## Introduction"
      ],
      "metadata": {
        "id": "IOpvBT_VUmIK"
      }
    },
    {
      "cell_type": "markdown",
      "source": [
        "I started writing about Nueral Network which I am learning from Coursea.\n",
        "\n",
        "\n",
        "There are several things you could deep dive about as much as you want. However, to keep this short, I am trying to focus on some parts of it more and that is the simple linear algebraic stuff involved in defining and improving a neural network.\n",
        "\n",
        "In general, I am trying to introduce a nueral network internal working as a applying a series of linear transfromation in the forward direction ( on the input ) and the application of transposed of those linear transformations backwardly.\n"
      ],
      "metadata": {
        "id": "jBb4Xd1mUofq"
      }
    },
    {
      "cell_type": "markdown",
      "source": [
        "### Neural network as a generalization of linear regression\n",
        "A linear regression is a linear transformation from multi dimensional input x to one dimensional output y. A classifier neural network as a generalization of linear regression, is also a function that computes an output $y \\in \\mathbb{R}$ from a given input multidimensional $x \\in \\mathbb{R}^{n^{[0]}}$\n",
        "\n",
        "$$\n",
        "\\boxed{{y = nn(x), x \\in \\mathbb{R}^{n_0}, y \\in \\mathbb{R}}}\n",
        "$$\n",
        "\n",
        "We expect output of a classifier (nn) to be between 0 and 1: y should be closer to 1 when x is in the class and closer to 0 when x is not in the class.\n",
        "\n",
        "The goal is to find or train such functions that are more flexible than just a linear transformation. There are infinitely many way to find a function `nn` that satisfies this.  There are ways, however,  to limit our options. For example we can still use some linear transformation with unknown parameters and a fixed non-linear function. For now let’s assume we only need a linear transformation.\n",
        "\n",
        "You can also view a neural net as a function that transforms  $n^{[0]}$ dimensional vector $x$  to a 1 dimensional vector y. If this was a linear transformations, then a matrix of size $(n^{[0]}, 1)$  would do this perfectly, i.e, there exist a matrix $W \\in \\mathbb{R}^{n^{[0]} \\times 1}$\n",
        "\n",
        "$$\n",
        "\\boxed{\\huge{y = W . x}}\n",
        "$$\n",
        "\n",
        "\n",
        "*\\##keyword: linear regression, linear transformation*"
      ],
      "metadata": {
        "id": "rlK-HZjvTiFV"
      }
    },
    {
      "cell_type": "markdown",
      "source": [
        "### How does it deal with non-linearity?\n",
        "\n",
        "\n",
        "A neural net can be as simple as $y = W.x$ When a linear relationship exist from input to output, where W is a linear transformation from  $\\mathbb{R}^{n^{[0]}}$ dimensional vector to $\\mathbb{R}$. If such linearity doesn’t exist, all we need to do is to apply a non-linear function $g$ on top of it\n",
        "\n",
        "$$\n",
        "\\boxed{\\huge{y = g(W * x)}}\n",
        "$$\n",
        "\n",
        "In theory, any function can be **represented** as such a non-linear function on top of a linear  transformation. In fact all you need to do is to use any matrix that reshapes input dimension to the output dimension, and then use a nonlinear function that makes all values match for each data point.\n",
        "\n",
        "\n",
        "*\\##keywords: non-linear, represent*\n"
      ],
      "metadata": {
        "id": "gMLyFOa7UEvF"
      }
    },
    {
      "cell_type": "markdown",
      "source": [
        "### Transforming input to ouput through n layers: feed forward\n",
        "However, you don’t have to apply the linear transformation in one-go. You can break one it to several transformation and chain them through multiple layers. In fact you can have matrices $W^{[1]}, ..., W^{[L]}$ such that $W^{[1]}$ transform $n^{[0]}$ dim vector to  $n^{[1]}$ vector,… $W^{[i]}$  transforms a $n^{[i -1]}$ dimensional to $n^{[i ]}$ dimensional vector. Then you can write something like :\n",
        "\n",
        "\n",
        "$$\n",
        "\\boxed {\\huge{a^{[i]} = g(W^{[i]} . a^{[i - 1]} ) } }\n",
        "$$\n",
        "\n",
        "\n",
        "where ( $ a^{[i-1]} \\in \\mathbb{R}^{n^{[i-1]}} , a^{[i]} \\in \\mathbb{R}^{[n^{[i]}}$)\n",
        "\n",
        "And for all you need to remember is that the dimension of $W^{[i]}$  is $\\mathbb{R}^{n^{[i]} \\times n^{[i-1]}}$ applies that dimensional change from input to output.\n",
        "\n",
        "Each layer takes a vector $a^{[i]}$   of dimension $n^{[i]}$ as input, change the dimension a little bit, and then applies a simpler non linear function and out puts the vector $a^{[i + 1]}$ of dimension $n^{[i+1]}$. (technically it doesn’t need to change dimension)"
      ],
      "metadata": {
        "id": "98LKdweiUUfN"
      }
    },
    {
      "cell_type": "markdown",
      "source": [
        "![feedforward.png](data:image/png;base64,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)"
      ],
      "metadata": {
        "id": "0Rl7_MKHYbHy"
      }
    },
    {
      "cell_type": "markdown",
      "source": [
        "Perhaps breaking model into l layers, lets model express itself with  less complex non linear function.\n",
        "\n",
        "This action of repeatedly applying linear transformation $W^{[l]}$  and non linear function $g^{[l]}$, from the layer 0 (input x) all through   layer l (output y) is called a **feed forward.** This name makes more sense, when we define feed backward in a little bit that is to calculate the partial derivative  of input of layer i ($a^{[l]}$) .\n",
        "\n",
        "*\\##keyword: feedforward*"
      ],
      "metadata": {
        "id": "GdUfEPlKqf5x"
      }
    },
    {
      "cell_type": "markdown",
      "source": [
        "###What does it mean to train a neural net? how we do it.\n",
        "We talked about the feed forward, or how to calculate y based on x layer by layer. However, to  reach there  you need to  find the  matrixes $W^{[i]}$ . There is a pretty straightforward heuristic for this:\n",
        "\n",
        "- First we initialize W’s with random numbers . Remember we know the shape of all of the W’s for each layer.\n",
        "- Calculate the feedforward for initial W’s.\n",
        "- Then compute how far the output is from the output we want.\n",
        "- Then we find the best ***direction*** to move toward to improve computed output from desired output. Let’s call that a cost function.\n",
        "\n",
        "Ops i forgot to  define **cost function.** I could have defined it from the beginning. But it would be a bit of distraction from all the linear and non linear transformation that we talked about. Let’s just forget about it and  think of it as a function of output y or  $a^{[L]}$. Lets call it $J(y = a^{[L]})$. The training process is to improve the cost function iteratively, by changing the W’s just a little bit in the **correct direction**.\n",
        "\n",
        "*\\##Correct direction, cost function, a little nudge, oops we forgot…*"
      ],
      "metadata": {
        "id": "eUh3ZdMsUuSv"
      }
    },
    {
      "cell_type": "markdown",
      "source": [
        "### How to improve the initial parameters: feed backward\n",
        "The trickiest part of neural nets comes here: To improve the parameters of a neural net, we need the notion of changing the parameters by just a **little bit** in the right **direction** that leads in largest change in$J(y)$ . That is exactly what a partial derivative is about.  \n",
        "\n",
        "More formally, this directions  are\n",
        "\n",
        "$$\n",
        "dW^{[l]}\\ \\ \\  \\textbf{abbv.} \\ \\ \\   \\partial(J(y)) / \\partial(W^{[l]})\n",
        "$$\n",
        "\n",
        "for all layers $1 < l < L$.\n",
        "\n",
        "(to make the notation easier, lets abbreviate $\\partial(J(y))/\\partial(t)$ with just $dt$. (warning it is very confusing but Andrew Ng does this abbreviation all the time). So, we are interested in calculating $dW^{[l]}$  for all layer l’s. It is a good practice to think about the dimension of $dW^{[l]}$ . This is the amount of change we wanna make to $W^{[l]}$ so just judging by that, $dim(dW^{[l]})  = dim(W^{[l]})$.\n",
        "\n",
        "with some calculus you can prove that $dW^{[l]}$ can be calculated from $da^{[l]}$ using the **chain rule**. (watch 3 blue one brown or read mml)\n",
        "\n",
        "So if you have calculated all $da^{[l]}$ for all  layers, we can calculate all the nudges we need to make improvements."
      ],
      "metadata": {
        "id": "ALKDm-q4Ux1m"
      }
    },
    {
      "cell_type": "markdown",
      "source": [
        "### Chain rule and feed backward. The little nudges goes from right to left"
      ],
      "metadata": {
        "id": "0Cv5JcriVUZI"
      }
    },
    {
      "cell_type": "markdown",
      "source": [
        "First of all $da^{[l]}$ is a vector that has same dimension of $a^{[l]}$. The reason for that is $da^{[l]}$ is the amount by which we wanna change $a^{[l]}$  by. So both should be same shape.\n",
        "\n",
        "$$\n",
        "dim(da^{[l]}) = dim(a^{[l]})\n",
        "$$\n",
        "\n",
        "To improve the weights, we need to calculate $da^{[l]}$ for each layer l. These partial derivatives also can be calculated recursively based on **chain rule,** but starting from last layer.\n",
        "\n",
        " It means, we need to know $da^{[l + 1]}$ ( the next layer) to calculate the value of $da^{[l]}$ .\n",
        "\n",
        "So that is why it is called a feed backward: we calculate the derivatives from the last layer to the first layer using **chain rule.**\n",
        "\n",
        "How can we convert the $da^{[l + 1]}$ to $da^{[l ]}$ using chain rule? So there is a way to make sense of chain rule, without getting too deep in the mathematic of it. That is by noticing the shape of vectors and matrices that are supposed to perform such transformation. It is not going to be a mathematical proof but it does help you make sense of formulas. First remeber that dimension of them are $n^{[l + 1]}$ and $n^{[l]}$. So we’d like to transform a $n^{[l]}$  dimensional vector to an $n^{[l +1]}$  dimensional vector.\n",
        "\n",
        "All you need to do here is the opposite of a feed forward that is a feed backward: apply a non linear transformation on $da^{[l + 1]}$  then apply the $W^{[l ]}$  **transposed**. You can see for yourself by appliying the transposed of $W^{[l ]}$  applies the change of dimension that we need.\n",
        "\n",
        "$$\n",
        "\\boxed{ \\huge{da^{[l ]} = f(W^{[l + 1].T} . da^{[l + 1]} )}}\n",
        "$$\n",
        "\n",
        "where $da^{[l-1]} \\in \\mathbb{R}^{n^{[l-1]}} , da^{[l]} \\in \\mathbb{R}^{n^{[l]}}$.\n",
        "\n",
        "Below is a graphical way of saying it:"
      ],
      "metadata": {
        "id": "ga81eAs2SxjW"
      }
    },
    {
      "cell_type": "code",
      "source": [
        "import matplotlib.pyplot as plt\n",
        "import matplotlib.patches as patches\n",
        "\n",
        "# Create a new figure and axis\n",
        "fig, ax = plt.subplots(figsize=(6, 4))\n",
        "\n",
        "# First column vector rectangle\n",
        "first_col_vector = patches.Rectangle((-1.4, -1.2), 0.85, 2.3, edgecolor='black', facecolor='none', lw=2)\n",
        "ax.add_patch(first_col_vector)\n",
        "ax.text(2.5, 0.75, '$da^{[l]}_0$', fontsize=12, ha='center')\n",
        "ax.text(2.5, -0.75, '$da^{[l]}_{n^{[l]}}$', fontsize=12, ha='center')\n",
        "\n",
        "\n",
        "\n",
        "# Matrix rectangle\n",
        "matrix_rect = patches.Rectangle((-0.4, -1.5), 2.2, 3, edgecolor='black', facecolor='none', lw=2)\n",
        "ax.add_patch(matrix_rect)\n",
        "ax.text(0.75, 0, '$W^{[l + 1].T} \\in \\mathbb{R}^{n^{[l]} × n^{[l+1]}}$', fontsize=12, ha='center')\n",
        "\n",
        "# Equals sign\n",
        "ax.text(1.90, 0, '$=$', fontsize=16, ha='center')\n",
        "\n",
        "# Second column vector rectangle\n",
        "# second_col_vector = patches.Rectangle((2.1, -1.2), 0.75, 2.3, edgecolor='black', facecolor='none', lw=2)\n",
        "second_col_vector = patches.Rectangle((2.1, -1.8), 0.7, 3.6, edgecolor='black', facecolor='none', lw=2)\n",
        "ax.add_patch(second_col_vector)\n",
        "ax.text(-0.95, 0.75, '$da^{[l+1]}_0$', fontsize=12, ha='center')\n",
        "ax.text(-0.95, -0.75, '$da^{[l+1]}_{n^{[l+1]}}$', fontsize=12, ha='center')\n",
        "\n",
        "# Set axis limits and remove ticks\n",
        "ax.set_xlim(-2, 4)\n",
        "ax.set_ylim(-2, 2)\n",
        "ax.set_xticks([])\n",
        "ax.set_yticks([])\n",
        "ax.set_aspect('equal')\n",
        "ax.set_title('partial deravetives of Layer $\\mathcal{l}$ (Feed Backward)')\n",
        "# Display the plot\n",
        "plt.show()\n"
      ],
      "metadata": {
        "id": "RPE6dYnBWFnT",
        "outputId": "30403b12-8502-4795-fe11-afb74e0fa0b2",
        "colab": {
          "base_uri": "https://localhost:8080/",
          "height": 369
        }
      },
      "execution_count": 5,
      "outputs": [
        {
          "output_type": "display_data",
          "data": {
            "text/plain": [
              "<Figure size 600x400 with 1 Axes>"
            ],
            "image/png": "[encoded data removed]"
          },
          "metadata": {}
        }
      ]
    },
    {
      "cell_type": "code",
      "source": [],
      "metadata": {
        "id": "_WUGeBn2WxRU"
      },
      "execution_count": null,
      "outputs": []
    }
  ],
  "metadata": {
    "language_info": {
      "name": "python"
    },
    "colab": {
      "provenance": []
    },
    "kernelspec": {
      "name": "python3",
      "display_name": "Python 3"
    }
  },
  "nbformat": 4,
  "nbformat_minor": 0
}