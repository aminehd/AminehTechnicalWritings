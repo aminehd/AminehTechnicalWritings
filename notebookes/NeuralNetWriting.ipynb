{
  "cells": [
    {
      "cell_type": "markdown",
      "source": [
        "### Neural network as a generalization of linear regression\n",
        "A linear regression is a linear transformation from multi dimensional input x to one dimensional output y. A classifier neural network as a generalization of linear regression, is also a function that computes an output $y \\in \\mathbb{R}$ from a given input multidimensional $x \\in \\mathbb{R}^{n^{[0]}}$\n",
        "\n",
        "$$\n",
        "\\boxed{{y = nn(x), x \\in \\mathbb{R}^{n_0}, y \\in \\mathbb{R}}}\n",
        "$$\n",
        "\n",
        "We expect output of a classifier (nn) to be between 0 and 1: y should be closer to 1 when x is in the class and closer to 0 when x is not in the class.\n",
        "\n",
        "The goal is to find or train such functions that are more flexible than just a linear transformation. There are infinitely many way to find a function `nn` that satisfies this.  There are ways, however,  to limit our options. For example we can still use some linear transformation with unknown parameters and a fixed non-linear function. For now let’s assume we only need a linear transformation.\n",
        "\n",
        "You can also view a neural net as a function that transforms  $n^{[0]}$ dimensional vector $x$  to a 1 dimensional vector y. If this was a linear transformations, then a matrix of size $(n^{[0]}, 1)$  would do this perfectly, i.e, there exist a matrix $W \\in \\mathbb{R}^{n^{[0]} \\times 1}$\n",
        "\n",
        "$$\n",
        "\\boxed{\\huge{y = W . x}}\n",
        "$$\n",
        "\n",
        "####keyword: linear regression, linear transformation\n"
      ],
      "metadata": {
        "id": "rlK-HZjvTiFV"
      }
    },
    {
      "cell_type": "markdown",
      "source": [
        "### How does it deal with non-linearity?\n",
        "\n",
        "\n",
        "A neural net can be as simple as $y = W.x$ When a linear relationship exist from input to output, where W is a linear transformation from  $\\mathbb{R}^{n^{[0]}}$ dimensional vector to $\\mathbb{R}$. If such linearity doesn’t exist, all we need to do is to apply a non-linear function $g$ on top of it\n",
        "\n",
        "$$\n",
        "\\boxed{\\huge{y = g(W * x)}}\n",
        "$$\n",
        "\n",
        "In theory, any function can be **represented** as such a non-linear function on top of a linear  transformation. In fact all you need to do is to use any matrix that reshapes input dimension to the output dimension, and then use a nonlinear function that makes all values match for each data point.\n",
        "\n",
        "####keywords: non-linear, represent\n"
      ],
      "metadata": {
        "id": "gMLyFOa7UEvF"
      }
    },
    {
      "cell_type": "markdown",
      "source": [
        "### Transforming input to ouput through n layers: feed forward\n",
        "However, you don’t have to apply the linear transformation in one-go. You can break one it to several transformation and chain them through multiple layers. In fact you can have matrices $W^{[1]}, ..., W^{[L]}$ such that $W^{[1]}$ transform $n^{[0]}$ dim vector to  $n^{[1]}$ vector,… $W^{[i]}$  transforms a $n^{[i -1]}$ dimensional to $n^{[i ]}$ dimensional vector. Then you can write something like :\n",
        "\n",
        "\n",
        "$$\n",
        "\\boxed {\\huge{a^{[i]} = g(W^{[i]} . a^{[i - 1]} ) } }\n",
        "$$\n",
        "\n",
        "\n",
        "where ( $ a^{[i-1]} \\in \\mathbb{R}^{n^{[i-1]}} , a^{[i]} \\in \\mathbb{R}^{[n^{[i]}}$)\n",
        "\n",
        "And for all you need to remember is that the dimension of $W^{[i]}$  is $\\mathbb{R}^{n^{[i]} \\times n^{[i-1]}}$ applies that dimensional change from input to output.\n",
        "\n",
        "Each layer takes a vector $a^{[i]}$   of dimension $n^{[i]}$ as input, change the dimension a little bit, and then applies a simpler non linear function and out puts the vector $a^{[i + 1]}$ of dimension $n^{[i+1]}$. (technically it doesn’t need to change dimension)"
      ],
      "metadata": {
        "id": "98LKdweiUUfN"
      }
    },
    {
      "cell_type": "markdown",
      "source": [
        "![download.png](data:image/png;base64,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)"
      ],
      "metadata": {
        "id": "-FlLg6l_tYmh"
      }
    },
    {
      "cell_type": "markdown",
      "source": [
        "Perhaps breaking model into l layers, lets model express itself with  less complex non linear function.\n",
        "\n",
        "This action of repeatedly applying linear transformation $W^{[l]}$  and non linear function $g^{[l]}$, from the layer 0 (input x) all through   layer l (output y) is called a **feed forward.** This name makes more sense, when we define feed backward in a little bit that is to calculate the partial derivative  of input of layer i ($a^{[l]}$) .\n",
        "\n",
        "####keyword: feedforward"
      ],
      "metadata": {
        "id": "GdUfEPlKqf5x"
      }
    },
    {
      "cell_type": "markdown",
      "source": [
        "###What does it mean to train a neural net? how we do it."
      ],
      "metadata": {
        "id": "eUh3ZdMsUuSv"
      }
    },
    {
      "cell_type": "code",
      "source": [],
      "metadata": {
        "id": "AD1_jTfgqg3b"
      },
      "execution_count": null,
      "outputs": []
    },
    {
      "cell_type": "markdown",
      "source": [
        "### How to improve the initial parameters: feed backward"
      ],
      "metadata": {
        "id": "ALKDm-q4Ux1m"
      }
    },
    {
      "cell_type": "markdown",
      "source": [
        "### Chain rule and feed backward. The little nudges goes from right to left"
      ],
      "metadata": {
        "id": "0Cv5JcriVUZI"
      }
    }
  ],
  "metadata": {
    "language_info": {
      "name": "python"
    },
    "colab": {
      "provenance": []
    },
    "kernelspec": {
      "name": "python3",
      "display_name": "Python 3"
    }
  },
  "nbformat": 4,
  "nbformat_minor": 0
}