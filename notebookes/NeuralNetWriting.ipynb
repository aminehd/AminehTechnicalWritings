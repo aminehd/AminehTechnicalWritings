{
  "cells": [
    {
      "cell_type": "markdown",
      "source": [
        "### Neural network as a generalization of linear regression\n",
        "A linear regression is a linear transformation from multi dimensional input x to one dimensional output y. A classifier neural network as a generalization of linear regression, is also a function that computes an output $y \\in \\mathbb{R}$ from a given input multidimensional $x \\in \\mathbb{R}^{n^{[0]}}$\n",
        "\n",
        "$$\n",
        "\\boxed{{y = nn(x), x \\in \\mathbb{R}^{n_0}, y \\in \\mathbb{R}}}\n",
        "$$\n",
        "\n",
        "We expect output of a classifier (nn) to be between 0 and 1: y should be closer to 1 when x is in the class and closer to 0 when x is not in the class.\n",
        "\n",
        "The goal is to find or train such functions that are more flexible than just a linear transformation. There are infinitely many way to find a function `nn` that satisfies this.  There are ways, however,  to limit our options. For example we can still use some linear transformation with unknown parameters and a fixed non-linear function. For now let’s assume we only need a linear transformation.\n",
        "\n",
        "You can also view a neural net as a function that transforms  $n^{[0]}$ dimensional vector $x$  to a 1 dimensional vector y. If this was a linear transformations, then a matrix of size $(n^{[0]}, 1)$  would do this perfectly, i.e, there exist a matrix $W \\in \\mathbb{R}^{n^{[0]} \\times 1}$\n",
        "\n",
        "$$\n",
        "\\boxed{\\huge{y = W . x}}\n",
        "$$\n",
        "\n",
        "####keyword: linear regression, linear transformation\n"
      ],
      "metadata": {
        "id": "rlK-HZjvTiFV"
      }
    },
    {
      "cell_type": "markdown",
      "source": [
        "### How does it deal with non-linearity?\n",
        "\n",
        "\n",
        "A neural net can be as simple as $y = W.x$ When a linear relationship exist from input to output, where W is a linear transformation from  $\\mathbb{R}^{n^{[0]}}$ dimensional vector to $\\mathbb{R}$. If such linearity doesn’t exist, all we need to do is to apply a non-linear function $g$ on top of it\n",
        "\n",
        "$$\n",
        "\\boxed{\\huge{y = g(W * x)}}\n",
        "$$\n",
        "\n",
        "In theory, any function can be **represented** as such a non-linear function on top of a linear  transformation. In fact all you need to do is to use any matrix that reshapes input dimension to the output dimension, and then use a nonlinear function that makes all values match for each data point.\n",
        "\n",
        "####keywords: non-linear, represent\n"
      ],
      "metadata": {
        "id": "gMLyFOa7UEvF"
      }
    },
    {
      "cell_type": "markdown",
      "source": [
        "### Transforming input to ouput through n layers: feed forward\n",
        "However, you don’t have to apply the linear transformation in one-go. You can break one it to several transformation and chain them through multiple layers. In fact you can have matrices $W^{[1]}, ..., W^{[L]}$ such that $W^{[1]}$ transform $n^{[0]}$ dim vector to  $n^{[1]}$ vector,… $W^{[i]}$  transforms a $n^{[i -1]}$ dimensional to $n^{[i ]}$ dimensional vector. Then you can write something like :\n",
        "\n",
        "\n",
        "$$\n",
        "\\boxed {\\huge{a^{[i]} = g(W^{[i]} . a^{[i - 1]} ) } }\n",
        "$$\n",
        "\n",
        "\n",
        "where ( $ a^{[i-1]} \\in \\mathbb{R}^{n^{[i-1]}} , a^{[i]} \\in \\mathbb{R}^{[n^{[i]}}$)\n",
        "\n",
        "And for all you need to remember is that the dimension of $W^{[i]}$  is $\\mathbb{R}^{n^{[i]} \\times n^{[i-1]}}$ applies that dimensional change from input to output.\n",
        "\n",
        "Each layer takes a vector $a^{[i]}$   of dimension $n^{[i]}$ as input, change the dimension a little bit, and then applies a simpler non linear function and out puts the vector $a^{[i + 1]}$ of dimension $n^{[i+1]}$. (technically it doesn’t need to change dimension)"
      ],
      "metadata": {
        "id": "98LKdweiUUfN"
      }
    },
    {
      "cell_type": "markdown",
      "source": [
        "![layerLFeedForward.png](data:image/png;base64,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)"
      ],
      "metadata": {
        "id": "-FlLg6l_tYmh"
      }
    },
    {
      "cell_type": "markdown",
      "source": [
        "Perhaps breaking model into l layers, lets model express itself with  less complex non linear function.\n",
        "\n",
        "This action of repeatedly applying linear transformation $W^{[l]}$  and non linear function $g^{[l]}$, from the layer 0 (input x) all through   layer l (output y) is called a **feed forward.** This name makes more sense, when we define feed backward in a little bit that is to calculate the partial derivative  of input of layer i ($a^{[l]}$) .\n",
        "\n",
        "####keyword: feedforward"
      ],
      "metadata": {
        "id": "GdUfEPlKqf5x"
      }
    },
    {
      "cell_type": "markdown",
      "source": [
        "###What does it mean to train a neural net? how we do it."
      ],
      "metadata": {
        "id": "eUh3ZdMsUuSv"
      }
    },
    {
      "cell_type": "code",
      "source": [],
      "metadata": {
        "id": "AD1_jTfgqg3b"
      },
      "execution_count": null,
      "outputs": []
    },
    {
      "cell_type": "markdown",
      "source": [
        "### How to improve the initial parameters: feed backward"
      ],
      "metadata": {
        "id": "ALKDm-q4Ux1m"
      }
    },
    {
      "cell_type": "markdown",
      "source": [
        "### Chain rule and feed backward. The little nudges goes from right to left"
      ],
      "metadata": {
        "id": "0Cv5JcriVUZI"
      }
    }
  ],
  "metadata": {
    "language_info": {
      "name": "python"
    },
    "colab": {
      "provenance": []
    },
    "kernelspec": {
      "name": "python3",
      "display_name": "Python 3"
    }
  },
  "nbformat": 4,
  "nbformat_minor": 0
}