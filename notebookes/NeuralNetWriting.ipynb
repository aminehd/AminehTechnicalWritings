{
  "cells": [
    {
      "cell_type": "markdown",
      "metadata": {
        "id": "view-in-github",
        "colab_type": "text"
      },
      "source": [
        "<a href=\"https://colab.research.google.com/github/aminehd/AminehTechnicalWritings/blob/main/notebookes/NeuralNetWriting.ipynb\" target=\"_parent\"><img src=\"https://colab.research.google.com/assets/colab-badge.svg\" alt=\"Open In Colab\"/></a>"
      ]
    },
    {
      "cell_type": "markdown",
      "source": [
        "Author: Amineh Dadsetan\n",
        "## Outline\n",
        "1. [Neural network as a generalization of linear regression](#neural-network-as-a-generalization-of-linear-regression\n",
        ")\n",
        "2. [How does it deal with non-linearity?](#how-does-it-deal-with-non-linearity?)\n",
        "3. [Transforming input to ouput through n layers: feed forward\n",
        "](#transforming-input-to-ouput-through-n-layers:-feed-forward )\n",
        "4. [What does it mean to train a neural net? how we do it.](###what-does-it-mean-to-train-a-neural-net?-how-we-do-it.)\n",
        "5. []()\n",
        "6. []()"
      ],
      "metadata": {
        "id": "PnW0O0mfqewV"
      }
    },
    {
      "cell_type": "markdown",
      "source": [
        "## Introduction"
      ],
      "metadata": {
        "id": "IOpvBT_VUmIK"
      }
    },
    {
      "cell_type": "markdown",
      "source": [
        "I started writing about Nueral Network which I am learning from Coursea.\n",
        "\n",
        "\n",
        "There are several things you could deep dive about as much as you want. However, to keep this short, I am trying to focus on some parts of it more and that is the simple linear algebraic stuff involved in defining and improving a neural network.\n",
        "\n",
        "In general, I am trying to introduce a nueral network internal working as a applying a series of linear transfromation in the forward direction ( on the input ) and the application of transposed of those linear transformations backwardly.\n"
      ],
      "metadata": {
        "id": "jBb4Xd1mUofq"
      }
    },
    {
      "cell_type": "markdown",
      "source": [
        "### Neural network as a generalization of linear regression\n",
        "A linear regression is a linear transformation from multi dimensional input x to one dimensional output y. A classifier neural network as a generalization of linear regression, is also a function that computes an output $y \\in \\mathbb{R}$ from a given input multidimensional $x \\in \\mathbb{R}^{n^{[0]}}$\n",
        "\n",
        "$$\n",
        "\\boxed{{y = nn(x), x \\in \\mathbb{R}^{n_0}, y \\in \\mathbb{R}}}\n",
        "$$\n",
        "\n",
        "We expect output of a classifier (nn) to be between 0 and 1: y should be closer to 1 when x is in the class and closer to 0 when x is not in the class.\n",
        "\n",
        "The goal is to find or train such functions that are more flexible than just a linear transformation. There are infinitely many way to find a function `nn` that satisfies this.  There are ways, however,  to limit our options. For example we can still use some linear transformation with unknown parameters and a fixed non-linear function. For now let’s assume we only need a linear transformation.\n",
        "\n",
        "You can also view a neural net as a function that transforms  $n^{[0]}$ dimensional vector $x$  to a 1 dimensional vector y. If this was a linear transformations, then a matrix of size $(n^{[0]}, 1)$  would do this perfectly, i.e, there exist a matrix $W \\in \\mathbb{R}^{n^{[0]} \\times 1}$\n",
        "\n",
        "$$\n",
        "\\boxed{\\huge{y = W . x}}\n",
        "$$\n",
        "\n",
        "\n",
        "*\\##keyword: linear regression, linear transformation*"
      ],
      "metadata": {
        "id": "rlK-HZjvTiFV"
      }
    },
    {
      "cell_type": "markdown",
      "source": [
        "### How does it deal with non-linearity?\n",
        "\n",
        "\n",
        "A neural net can be as simple as $y = W.x$ When a linear relationship exist from input to output, where W is a linear transformation from  $\\mathbb{R}^{n^{[0]}}$ dimensional vector to $\\mathbb{R}$. If such linearity doesn’t exist, all we need to do is to apply a non-linear function $g$ on top of it\n",
        "\n",
        "$$\n",
        "\\boxed{\\huge{y = g(W * x)}}\n",
        "$$\n",
        "\n",
        "In theory, any function can be **represented** as such a non-linear function on top of a linear  transformation. In fact all you need to do is to use any matrix that reshapes input dimension to the output dimension, and then use a nonlinear function that makes all values match for each data point.\n",
        "\n",
        "\n",
        "*\\##keywords: non-linear, represent*\n"
      ],
      "metadata": {
        "id": "gMLyFOa7UEvF"
      }
    },
    {
      "cell_type": "markdown",
      "source": [
        "### Transforming input to ouput through n layers: feed forward\n",
        "However, you don’t have to apply the linear transformation in one-go. You can break one it to several transformation and chain them through multiple layers. In fact you can have matrices $W^{[1]}, ..., W^{[L]}$ such that $W^{[1]}$ transform $n^{[0]}$ dim vector to  $n^{[1]}$ vector,… $W^{[i]}$  transforms a $n^{[i -1]}$ dimensional to $n^{[i ]}$ dimensional vector. Then you can write something like :\n",
        "\n",
        "\n",
        "$$\n",
        "\\boxed {\\huge{a^{[i]} = g(W^{[i]} . a^{[i - 1]} ) } }\n",
        "$$\n",
        "\n",
        "\n",
        "where ( $ a^{[i-1]} \\in \\mathbb{R}^{n^{[i-1]}} , a^{[i]} \\in \\mathbb{R}^{[n^{[i]}}$)\n",
        "\n",
        "And for all you need to remember is that the dimension of $W^{[i]}$  is $\\mathbb{R}^{n^{[i]} \\times n^{[i-1]}}$ applies that dimensional change from input to output.\n",
        "\n",
        "Each layer takes a vector $a^{[i]}$   of dimension $n^{[i]}$ as input, change the dimension a little bit, and then applies a simpler non linear function and out puts the vector $a^{[i + 1]}$ of dimension $n^{[i+1]}$. (technically it doesn’t need to change dimension)"
      ],
      "metadata": {
        "id": "98LKdweiUUfN"
      }
    },
    {
      "cell_type": "markdown",
      "source": [
        "![feedforward.png](data:image/png;base64,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)"
      ],
      "metadata": {
        "id": "zbKaG97QaIMh"
      }
    },
    {
      "cell_type": "markdown",
      "source": [
        "Perhaps breaking model into l layers, lets model express itself with  less complex non linear function.\n",
        "\n",
        "This action of repeatedly applying linear transformation $W^{[l]}$  and non linear function $g^{[l]}$, from the layer 0 (input x) all through   layer l (output y) is called a **feed forward.** This name makes more sense, when we define feed backward in a little bit that is to calculate the partial derivative  of input of layer i ($a^{[l]}$) .\n",
        "\n",
        "*\\##keyword: feedforward*"
      ],
      "metadata": {
        "id": "GdUfEPlKqf5x"
      }
    },
    {
      "cell_type": "markdown",
      "source": [
        "###What does it mean to train a neural net? how we do it.\n",
        "We talked about the feed forward, or how to calculate y based on x layer by layer. However, to  reach there  you need to  find the  matrixes $W^{[i]}$ . There is a pretty straightforward heuristic for this:\n",
        "\n",
        "- First we initialize W’s with random numbers . Remember we know the shape of all of the W’s for each layer.\n",
        "- Calculate the feedforward for initial W’s.\n",
        "- Then compute how far the output is from the output we want.\n",
        "- Then we find the best ***direction*** to move toward to improve computed output from desired output. Let’s call that a cost function.\n",
        "\n",
        "Ops i forgot to  define **cost function.** I could have defined it from the beginning. But it would be a bit of distraction from all the linear and non linear transformation that we talked about. Let’s just forget about it and  think of it as a function of output y or  $a^{[L]}$. Lets call it $J(y = a^{[L]})$. The training process is to improve the cost function iteratively, by changing the W’s just a little bit in the **correct direction**.\n",
        "\n",
        "*\\##Correct direction, cost function, a little nudge, oops we forgot…*"
      ],
      "metadata": {
        "id": "eUh3ZdMsUuSv"
      }
    },
    {
      "cell_type": "markdown",
      "source": [
        "### How to improve the initial parameters: feed backward\n",
        "The trickiest part of neural nets comes here: To improve the parameters of a neural net, we need the notion of changing the parameters by just a **little bit** in the right **direction** that leads in largest change in$J(y)$ . That is exactly what a partial derivative is about.  \n",
        "\n",
        "More formally, this directions  are\n",
        "\n",
        "$$\n",
        "dW^{[l]}\\ \\ \\  \\textbf{abbv.} \\ \\ \\   \\partial(J(y)) / \\partial(W^{[l]})\n",
        "$$\n",
        "\n",
        "for all layers $1 < l < L$.\n",
        "\n",
        "(to make the notation easier, lets abbreviate $\\partial(J(y))/\\partial(t)$ with just $dt$. (warning it is very confusing but Andrew Ng does this abbreviation all the time). So, we are interested in calculating $dW^{[l]}$  for all layer l’s. It is a good practice to think about the dimension of $dW^{[l]}$ . This is the amount of change we wanna make to $W^{[l]}$ so just judging by that, $dim(dW^{[l]})  = dim(W^{[l]})$.\n",
        "\n",
        "with some calculus you can prove that $dW^{[l]}$ can be calculated from $da^{[l]}$ using the **chain rule**. (watch 3 blue one brown or read mml)\n",
        "\n",
        "So if you have calculated all $da^{[l]}$ for all  layers, we can calculate all the nudges we need to make improvements."
      ],
      "metadata": {
        "id": "ALKDm-q4Ux1m"
      }
    },
    {
      "cell_type": "markdown",
      "source": [
        "### Chain rule and feed backward. The little nudges goes from right to left"
      ],
      "metadata": {
        "id": "0Cv5JcriVUZI"
      }
    },
    {
      "cell_type": "markdown",
      "source": [
        "First of all $da^{[l]}$ is a vector that has same dimension of $a^{[l]}$. The reason for that is $da^{[l]}$ is the amount by which we wanna change $a^{[l]}$  by. So both should be same shape.\n",
        "\n",
        "$$\n",
        "dim(da^{[l]}) = dim(a^{[l]})\n",
        "$$\n",
        "\n",
        "To improve the weights, we need to calculate $da^{[l]}$ for each layer l. These partial derivatives also can be calculated recursively based on **chain rule,** but starting from last layer.\n",
        "\n",
        " It means, we need to know $da^{[l + 1]}$ ( the next layer) to calculate the value of $da^{[l]}$ .\n",
        "\n",
        "So that is why it is called a feed backward: we calculate the derivatives from the last layer to the first layer using **chain rule.**\n",
        "\n",
        "How can we convert the $da^{[l + 1]}$ to $da^{[l ]}$ using chain rule? So there is a way to make sense of chain rule, without getting too deep in the mathematic of it. That is by noticing the shape of vectors and matrices that are supposed to perform such transformation. It is not going to be a mathematical proof but it does help you make sense of formulas. First remeber that dimension of them are $n^{[l + 1]}$ and $n^{[l]}$. So we’d like to transform a $n^{[l]}$  dimensional vector to an $n^{[l +1]}$  dimensional vector.\n",
        "\n",
        "All you need to do here is the opposite of a feed forward that is a feed backward: apply a non linear transformation on $da^{[l + 1]}$  then apply the $W^{[l ]}$  **transposed**. You can see for yourself by appliying the transposed of $W^{[l ]}$  applies the change of dimension that we need.\n",
        "\n",
        "$$\n",
        "\\boxed{ \\huge{da^{[l ]} = f(W^{[l + 1].T} . da^{[l + 1]} )}}\n",
        "$$\n",
        "\n",
        "where $da^{[l-1]} \\in \\mathbb{R}^{n^{[l-1]}} , da^{[l]} \\in \\mathbb{R}^{n^{[l]}}$.\n",
        "\n",
        "Below is a graphical way of saying it:"
      ],
      "metadata": {
        "id": "ga81eAs2SxjW"
      }
    },
    {
      "cell_type": "markdown",
      "source": [
        "![feedbackward.png](data:image/png;base64,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)"
      ],
      "metadata": {
        "id": "_2pdrjfyfCmX"
      }
    },
    {
      "cell_type": "code",
      "source": [],
      "metadata": {
        "id": "_WUGeBn2WxRU"
      },
      "execution_count": null,
      "outputs": []
    }
  ],
  "metadata": {
    "language_info": {
      "name": "python"
    },
    "colab": {
      "provenance": [],
      "include_colab_link": true
    },
    "kernelspec": {
      "name": "python3",
      "display_name": "Python 3"
    }
  },
  "nbformat": 4,
  "nbformat_minor": 0
}