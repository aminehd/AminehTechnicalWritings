{
  "cells": [
    {
      "cell_type": "markdown",
      "metadata": {
        "id": "view-in-github",
        "colab_type": "text"
      },
      "source": [
        "<a href=\"https://colab.research.google.com/github/aminehd/AminehTechnicalWritings/blob/main/notebookes/NeuralNetWriting.ipynb\" target=\"_parent\"><img src=\"https://colab.research.google.com/assets/colab-badge.svg\" alt=\"Open In Colab\"/></a>"
      ]
    },
    {
      "cell_type": "markdown",
      "source": [
        "Author: Amineh Dadsetan\n",
        "## Outline\n",
        "1. [Neural network as a generalization of linear regression](#neural-network-as-a-generalization-of-linear-regression\n",
        ")\n",
        "2. [How does it deal with non-linearity?](#how-does-it-deal-with-non-linearity?)\n",
        "3. [Transforming input to ouput through n layers: feed forward\n",
        "](#transforming-input-to-ouput-through-n-layers:-feed-forward )\n",
        "4. [What does it mean to train a neural net? how we do it.](###what-does-it-mean-to-train-a-neural-net?-how-we-do-it.)\n",
        "5. []()\n",
        "6. []()"
      ],
      "metadata": {
        "id": "PnW0O0mfqewV"
      }
    },
    {
      "cell_type": "markdown",
      "source": [
        "## Introduction"
      ],
      "metadata": {
        "id": "IOpvBT_VUmIK"
      }
    },
    {
      "cell_type": "markdown",
      "source": [
        "I started writing about Nueral Network which I am learning from Coursea.\n",
        "\n",
        "\n",
        "There are several things you could deep dive about as much as you want. However, to keep this short, I am trying to focus on some parts of it more and that is the simple linear algebraic stuff involved in defining and improving a neural network.\n",
        "\n",
        "In general, I am trying to introduce a nueral network internal working as a applying a series of linear transfromation in the forward direction ( on the input ) and the application of transposed of those linear transformations backwardly.\n"
      ],
      "metadata": {
        "id": "jBb4Xd1mUofq"
      }
    },
    {
      "cell_type": "markdown",
      "source": [
        "### Neural network as a generalization of linear regression\n",
        "A linear regression is a linear transformation from multi dimensional input x to one dimensional output y. A classifier neural network as a generalization of linear regression, is also a function that computes an output $y \\in \\mathbb{R}$ from a given input multidimensional $x \\in \\mathbb{R}^{n^{[0]}}$\n",
        "\n",
        "$$\n",
        "\\boxed{{y = nn(x), x \\in \\mathbb{R}^{n_0}, y \\in \\mathbb{R}}}\n",
        "$$\n",
        "\n",
        "We expect output of a classifier (nn) to be between 0 and 1: y should be closer to 1 when x is in the class and closer to 0 when x is not in the class.\n",
        "\n",
        "The goal is to find or train such functions that are more flexible than just a linear transformation. There are infinitely many way to find a function `nn` that satisfies this.  There are ways, however,  to limit our options. For example we can still use some linear transformation with unknown parameters and a fixed non-linear function. For now let’s assume we only need a linear transformation.\n",
        "\n",
        "You can also view a neural net as a function that transforms  $n^{[0]}$ dimensional vector $x$  to a 1 dimensional vector y. If this was a linear transformations, then a matrix of size $(n^{[0]}, 1)$  would do this perfectly, i.e, there exist a matrix $W \\in \\mathbb{R}^{n^{[0]} \\times 1}$\n",
        "\n",
        "$$\n",
        "\\boxed{\\huge{y = W . x}}\n",
        "$$\n",
        "\n",
        "\n",
        "*\\##keyword: linear regression, linear transformation*"
      ],
      "metadata": {
        "id": "rlK-HZjvTiFV"
      }
    },
    {
      "cell_type": "markdown",
      "source": [
        "### How does it deal with non-linearity?\n",
        "\n",
        "\n",
        "A neural net can be as simple as $y = W.x$ When a linear relationship exist from input to output, where W is a linear transformation from  $\\mathbb{R}^{n^{[0]}}$ dimensional vector to $\\mathbb{R}$. If such linearity doesn’t exist, all we need to do is to apply a non-linear function $g$ on top of it\n",
        "\n",
        "$$\n",
        "\\boxed{\\huge{y = g(W * x)}}\n",
        "$$\n",
        "\n",
        "In theory, any function can be **represented** as such a non-linear function on top of a linear  transformation. In fact all you need to do is to use any matrix that reshapes input dimension to the output dimension, and then use a nonlinear function that makes all values match for each data point.\n",
        "\n",
        "\n",
        "*\\##keywords: non-linear, represent*\n"
      ],
      "metadata": {
        "id": "gMLyFOa7UEvF"
      }
    },
    {
      "cell_type": "markdown",
      "source": [
        "### Transforming input to ouput through n layers: feed forward\n",
        "However, you don’t have to apply the linear transformation in one-go. You can break one it to several transformation and chain them through multiple layers. In fact you can have matrices $W^{[1]}, ..., W^{[L]}$ such that $W^{[1]}$ transform $n^{[0]}$ dim vector to  $n^{[1]}$ vector,… $W^{[i]}$  transforms a $n^{[i -1]}$ dimensional to $n^{[i ]}$ dimensional vector. Then you can write something like :\n",
        "\n",
        "\n",
        "$$\n",
        "\\boxed {\\huge{a^{[i]} = g(W^{[i]} . a^{[i - 1]} ) } }\n",
        "$$\n",
        "\n",
        "\n",
        "where ( $ a^{[i-1]} \\in \\mathbb{R}^{n^{[i-1]}} , a^{[i]} \\in \\mathbb{R}^{[n^{[i]}}$)\n",
        "\n",
        "And for all you need to remember is that the dimension of $W^{[i]}$  is $\\mathbb{R}^{n^{[i]} \\times n^{[i-1]}}$ applies that dimensional change from input to output.\n",
        "\n",
        "Each layer takes a vector $a^{[i]}$   of dimension $n^{[i]}$ as input, change the dimension a little bit, and then applies a simpler non linear function and out puts the vector $a^{[i + 1]}$ of dimension $n^{[i+1]}$. (technically it doesn’t need to change dimension)"
      ],
      "metadata": {
        "id": "98LKdweiUUfN"
      }
    },
    {
      "cell_type": "markdown",
      "source": [
        "![feedforward.png](data:image/png;base64,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)"
      ],
      "metadata": {
        "id": "zbKaG97QaIMh"
      }
    },
    {
      "cell_type": "markdown",
      "source": [
        "Perhaps breaking model into l layers, lets model express itself with  less complex non linear function.\n",
        "\n",
        "This action of repeatedly applying linear transformation $W^{[l]}$  and non linear function $g^{[l]}$, from the layer 0 (input x) all through   layer l (output y) is called a **feed forward.** This name makes more sense, when we define feed backward in a little bit that is to calculate the partial derivative  of input of layer i ($a^{[l]}$) .\n",
        "\n",
        "*\\##keyword: feedforward*"
      ],
      "metadata": {
        "id": "GdUfEPlKqf5x"
      }
    },
    {
      "cell_type": "markdown",
      "source": [
        "###What does it mean to train a neural net? how we do it.\n",
        "We talked about the feed forward, or how to calculate y based on x layer by layer. However, to  reach there  you need to  find the  matrixes $W^{[i]}$ . There is a pretty straightforward heuristic for this:\n",
        "\n",
        "- First we initialize W’s with random numbers . Remember we know the shape of all of the W’s for each layer.\n",
        "- Calculate the feedforward for initial W’s.\n",
        "- Then compute how far the output is from the output we want.\n",
        "- Then we find the best ***direction*** to move toward to improve computed output from desired output. Let’s call that a cost function.\n",
        "\n",
        "Ops i forgot to  define **cost function.** I could have defined it from the beginning. But it would be a bit of distraction from all the linear and non linear transformation that we talked about. Let’s just forget about it and  think of it as a function of output y or  $a^{[L]}$. Lets call it $J(y = a^{[L]})$. The training process is to improve the cost function iteratively, by changing the W’s just a little bit in the **correct direction**.\n",
        "\n",
        "*\\##Correct direction, cost function, a little nudge, oops we forgot…*"
      ],
      "metadata": {
        "id": "eUh3ZdMsUuSv"
      }
    },
    {
      "cell_type": "markdown",
      "source": [
        "### How to improve the initial parameters: feed backward\n",
        "The trickiest part of neural nets comes here: To improve the parameters of a neural net, we need the notion of changing the parameters by just a **little bit** in the right **direction** that leads in largest change in$J(y)$ . That is exactly what a partial derivative is about.  \n",
        "\n",
        "More formally, this directions  are\n",
        "\n",
        "$$\n",
        "dW^{[l]}\\ \\ \\  \\textbf{abbv.} \\ \\ \\   \\partial(J(y)) / \\partial(W^{[l]})\n",
        "$$\n",
        "\n",
        "for all layers $1 < l < L$.\n",
        "\n",
        "(to make the notation easier, lets abbreviate $\\partial(J(y))/\\partial(t)$ with just $dt$. (warning it is very confusing but Andrew Ng does this abbreviation all the time). So, we are interested in calculating $dW^{[l]}$  for all layer l’s. It is a good practice to think about the dimension of $dW^{[l]}$ . This is the amount of change we wanna make to $W^{[l]}$ so just judging by that, $dim(dW^{[l]})  = dim(W^{[l]})$.\n",
        "\n",
        "with some calculus you can prove that $dW^{[l]}$ can be calculated from $da^{[l]}$ using the **chain rule**. (watch 3 blue one brown or read mml)\n",
        "\n",
        "So if you have calculated all $da^{[l]}$ for all  layers, we can calculate all the nudges we need to make improvements."
      ],
      "metadata": {
        "id": "ALKDm-q4Ux1m"
      }
    },
    {
      "cell_type": "markdown",
      "source": [
        "### Chain rule and feed backward. The little nudges goes from right to left"
      ],
      "metadata": {
        "id": "0Cv5JcriVUZI"
      }
    },
    {
      "cell_type": "markdown",
      "source": [
        "First of all $da^{[l]}$ is a vector that has same dimension of $a^{[l]}$. The reason for that is $da^{[l]}$ is the amount by which we wanna change $a^{[l]}$  by. So both should be same shape.\n",
        "\n",
        "$$\n",
        "dim(da^{[l]}) = dim(a^{[l]})\n",
        "$$\n",
        "\n",
        "To improve the weights, we need to calculate $da^{[l]}$ for each layer l. These partial derivatives also can be calculated recursively based on **chain rule,** but starting from last layer.\n",
        "\n",
        " It means, we need to know $da^{[l + 1]}$ ( the next layer) to calculate the value of $da^{[l]}$ .\n",
        "\n",
        "So that is why it is called a feed backward: we calculate the derivatives from the last layer to the first layer using **chain rule.**\n",
        "\n",
        "How can we convert the $da^{[l + 1]}$ to $da^{[l ]}$ using chain rule? So there is a way to make sense of chain rule, without getting too deep in the mathematic of it. That is by noticing the shape of vectors and matrices that are supposed to perform such transformation. It is not going to be a mathematical proof but it does help you make sense of formulas. First remeber that dimension of them are $n^{[l + 1]}$ and $n^{[l]}$. So we’d like to transform a $n^{[l]}$  dimensional vector to an $n^{[l +1]}$  dimensional vector.\n",
        "\n",
        "All you need to do here is the opposite of a feed forward that is a feed backward: apply a non linear transformation on $da^{[l + 1]}$  then apply the $W^{[l ]}$  **transposed**. You can see for yourself by appliying the transposed of $W^{[l ]}$  applies the change of dimension that we need.\n",
        "\n",
        "$$\n",
        "\\boxed{ \\huge{da^{[l ]} = f(W^{[l + 1].T} . da^{[l + 1]} )}}\n",
        "$$\n",
        "\n",
        "where $da^{[l-1]} \\in \\mathbb{R}^{n^{[l-1]}} , da^{[l]} \\in \\mathbb{R}^{n^{[l]}}$.\n",
        "\n",
        "Below is a graphical way of saying it:"
      ],
      "metadata": {
        "id": "ga81eAs2SxjW"
      }
    },
    {
      "cell_type": "code",
      "source": [
        "import matplotlib.pyplot as plt\n",
        "import matplotlib.patches as patches\n",
        "\n",
        "# Create a new figure and axis\n",
        "fig, ax = plt.subplots(figsize=(6, 4))\n",
        "\n",
        "# First column vector rectangle\n",
        "first_col_vector = patches.Rectangle((-1.4, -1.2), 0.85, 2.3, edgecolor='black', facecolor='none', lw=2)\n",
        "ax.add_patch(first_col_vector)\n",
        "ax.text(2.5, 0.75, '$da^{[l]}_0$', fontsize=12, ha='center')\n",
        "ax.text(2.5, -0.75, '$da^{[l]}_{n^{[l]}}$', fontsize=12, ha='center')\n",
        "\n",
        "\n",
        "\n",
        "# Matrix rectangle\n",
        "matrix_rect = patches.Rectangle((-0.4, -1.5), 2.2, 3, edgecolor='black', facecolor='none', lw=2)\n",
        "ax.add_patch(matrix_rect)\n",
        "ax.text(0.75, 0, '$W^{[l + 1].T} \\in \\mathbb{R}^{n^{[l]} × n^{[l+1]}}$', fontsize=12, ha='center')\n",
        "\n",
        "# Equals sign\n",
        "ax.text(1.90, 0, '$=$', fontsize=16, ha='center')\n",
        "\n",
        "# Second column vector rectangle\n",
        "# second_col_vector = patches.Rectangle((2.1, -1.2), 0.75, 2.3, edgecolor='black', facecolor='none', lw=2)\n",
        "second_col_vector = patches.Rectangle((2.1, -1.8), 0.7, 3.6, edgecolor='black', facecolor='none', lw=2)\n",
        "ax.add_patch(second_col_vector)\n",
        "ax.text(-0.95, 0.75, '$da^{[l+1]}_0$', fontsize=12, ha='center')\n",
        "ax.text(-0.95, -0.75, '$da^{[l+1]}_{n^{[l+1]}}$', fontsize=12, ha='center')\n",
        "\n",
        "# Set axis limits and remove ticks\n",
        "ax.set_xlim(-2, 4)\n",
        "ax.set_ylim(-2, 2)\n",
        "ax.set_xticks([])\n",
        "ax.set_yticks([])\n",
        "ax.set_aspect('equal')\n",
        "ax.set_title('partial deravetives of Layer $\\mathcal{l}$ (Feed Backward)')\n",
        "# Display the plot\n",
        "plt.show()\n"
      ],
      "metadata": {
        "colab": {
          "base_uri": "https://localhost:8080/",
          "height": 369
        },
        "id": "RPE6dYnBWFnT",
        "outputId": "30403b12-8502-4795-fe11-afb74e0fa0b2"
      },
      "execution_count": 5,
      "outputs": [
        {
          "output_type": "display_data",
          "data": {
            "text/plain": [
              "<Figure size 600x400 with 1 Axes>"
            ],
            "image/png": "[encoded data removed]"
          },
          "metadata": {}
        }
      ]
    },
    {
      "cell_type": "code",
      "source": [],
      "metadata": {
        "id": "_WUGeBn2WxRU"
      },
      "execution_count": null,
      "outputs": []
    }
  ],
  "metadata": {
    "language_info": {
      "name": "python"
    },
    "colab": {
      "provenance": [],
      "include_colab_link": true
    },
    "kernelspec": {
      "name": "python3",
      "display_name": "Python 3"
    }
  },
  "nbformat": 4,
  "nbformat_minor": 0
}