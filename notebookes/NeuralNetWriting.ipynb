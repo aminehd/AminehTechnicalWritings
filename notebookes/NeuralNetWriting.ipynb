{
  "cells": [
    {
      "cell_type": "markdown",
      "metadata": {
        "id": "view-in-github",
        "colab_type": "text"
      },
      "source": [
        "<a href=\"https://colab.research.google.com/github/aminehd/AminehTechnicalWritings/blob/main/notebookes/NeuralNetWriting.ipynb\" target=\"_parent\"><img src=\"https://colab.research.google.com/assets/colab-badge.svg\" alt=\"Open In Colab\"/></a>"
      ]
    },
    {
      "cell_type": "markdown",
      "source": [
        "### How to model a classifier neural network  and what does it do?\n",
        "A classifier neural network is a function that computes an output $y \\in \\mathbb{R}$ from a given input $x \\in \\mathbb{R}^{n^{[0]}}$"
      ],
      "metadata": {
        "id": "rlK-HZjvTiFV"
      }
    },
    {
      "cell_type": "markdown",
      "source": [
        "### How does it deal with non-linearity?\n",
        "\n",
        "\n",
        "\n"
      ],
      "metadata": {
        "id": "gMLyFOa7UEvF"
      }
    },
    {
      "cell_type": "markdown",
      "source": [
        "### Transforming input to ouput through n layers: feed forward"
      ],
      "metadata": {
        "id": "98LKdweiUUfN"
      }
    },
    {
      "cell_type": "markdown",
      "source": [
        "### What is missing though? we haven’t trained the model yet"
      ],
      "metadata": {
        "id": "eUh3ZdMsUuSv"
      }
    },
    {
      "cell_type": "markdown",
      "source": [
        "### How to improve the initial parameters: feed backward"
      ],
      "metadata": {
        "id": "ALKDm-q4Ux1m"
      }
    },
    {
      "cell_type": "markdown",
      "source": [
        "### Chain rule and feed backward. The little nudges goes from right to left"
      ],
      "metadata": {
        "id": "0Cv5JcriVUZI"
      }
    }
  ],
  "metadata": {
    "language_info": {
      "name": "python"
    },
    "colab": {
      "provenance": [],
      "include_colab_link": true
    }
  },
  "nbformat": 4,
  "nbformat_minor": 0
}