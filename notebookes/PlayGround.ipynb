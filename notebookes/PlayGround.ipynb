{
  "cells": [
    {
      "cell_type": "markdown",
      "metadata": {
        "id": "view-in-github",
        "colab_type": "text"
      },
      "source": [
        "<a href=\"https://colab.research.google.com/github/aminehd/AminehTechnicalWritings/blob/main/notebookes/PlayGround.ipynb\" target=\"_parent\"><img src=\"https://colab.research.google.com/assets/colab-badge.svg\" alt=\"Open In Colab\"/></a>"
      ]
    },
    {
      "cell_type": "code",
      "execution_count": 45,
      "metadata": {
        "colab": {
          "base_uri": "https://localhost:8080/"
        },
        "id": "PAsAEW60Z0U9",
        "outputId": "35d7b225-f7de-4fb3-f706-8b6934d13300"
      },
      "outputs": [
        {
          "output_type": "stream",
          "name": "stdout",
          "text": [
            "Already up to date.\n",
            "/bin/bash: -c: line 1: unexpected EOF while looking for matching `\"'\n",
            "/bin/bash: -c: line 2: syntax error: unexpected end of file\n"
          ]
        }
      ],
      "source": [
        "import google.colab\n",
        "repo_path = 'AminehTechnicalWritings'\n",
        "!git -C $repo_path pull origin || git clone https://github.com/aminehd/AminehTechnicalWritings/ $repo_path\n",
        "local_clone = '/content/' + repo_path\n",
        "!git config --global user.email \"amineh.dadsetan@gmail.com\"\n",
        "!git config --global user.name \"Amineh Dadsetan"
      ]
    },
    {
      "cell_type": "code",
      "execution_count": 46,
      "metadata": {
        "colab": {
          "base_uri": "https://localhost:8080/"
        },
        "id": "S_orVC2KZ0U9",
        "outputId": "d0ccf064-2238-4828-e0ac-829f91cff65c"
      },
      "outputs": [
        {
          "output_type": "stream",
          "name": "stdout",
          "text": [
            "The autoreload extension is already loaded. To reload it, use:\n",
            "  %reload_ext autoreload\n",
            "The autoreload extension is already loaded. To reload it, use:\n",
            "  %reload_ext autoreload\n"
          ]
        }
      ],
      "source": [
        "%load_ext autoreload\n",
        "%autoreload 2\n",
        "# Import utility functions that provide answers to challenges\n",
        "%load_ext autoreload\n",
        "\n",
        "\n",
        "import sys\n",
        "sys.path.insert(1, '/content/AminehTechnicalWritings/src')\n",
        "\n",
        "%aimport sampling_utils\n",
        "\n",
        "import sampling_utils as su\n",
        "import numpy as np\n",
        "from sampling_utils import Population\n",
        "import pandas as pd\n",
        ""
      ]
    },
    {
      "cell_type": "code",
      "source": [
        "# Example usage:\n",
        "builder = Population.Builder(num_samples=1000)\n",
        "population = (builder\n",
        "              .add_predictor('X1', range(0, 100), 2.5)\n",
        "              .add_predictor('X2', range(5, 200), -1.2)\n",
        "              .add_predictor('X3', range(5, 200), -1.2)\n",
        "              .set_intercept(4)\n",
        "              .set_noise(2)\n",
        "              .build())\n",
        "\n",
        "\n",
        "df = population.generate_data()\n",
        "# print(df.head())"
      ],
      "metadata": {
        "id": "5F7Os22alwFN"
      },
      "execution_count": 47,
      "outputs": []
    },
    {
      "cell_type": "code",
      "source": [
        "mesh = np.zeros(shape=(10, 10))\n",
        "mesh_df = pd.DataFrame(mesh)"
      ],
      "metadata": {
        "id": "FQ2xYq2UphDI"
      },
      "execution_count": 48,
      "outputs": []
    },
    {
      "cell_type": "code",
      "source": [
        "from typing import Sequence\n",
        "input = (len(\n",
        "                population.predictors[name]\n",
        "            ) for name in population.predictors)\n",
        "predictor_mesh = np.zeros(shape=list(input))\n",
        "predictor_mesh.shape\n",
        "\n",
        "\n",
        "population.predictor_mesh.shape\n"
      ],
      "metadata": {
        "id": "sljg3DHApkz4",
        "outputId": "6b8f45ea-dbc7-449d-a932-1e834826c5ea",
        "colab": {
          "base_uri": "https://localhost:8080/"
        }
      },
      "execution_count": 49,
      "outputs": [
        {
          "output_type": "execute_result",
          "data": {
            "text/plain": [
              "(100, 195, 195)"
            ]
          },
          "metadata": {},
          "execution_count": 49
        }
      ]
    },
    {
      "cell_type": "code",
      "source": [],
      "metadata": {
        "id": "Bly9rl6Iq52a"
      },
      "execution_count": null,
      "outputs": []
    }
  ],
  "metadata": {
    "language_info": {
      "name": "python"
    },
    "colab": {
      "provenance": [],
      "include_colab_link": true
    },
    "kernelspec": {
      "name": "python3",
      "display_name": "Python 3"
    }
  },
  "nbformat": 4,
  "nbformat_minor": 0
}