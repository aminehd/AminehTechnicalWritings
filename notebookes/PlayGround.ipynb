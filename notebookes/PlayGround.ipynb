{
  "cells": [
    {
      "cell_type": "code",
      "execution_count": 3,
      "metadata": {
        "id": "PAsAEW60Z0U9",
        "outputId": "68ddd3f1-beb5-4b5b-d462-38c6fccff626",
        "colab": {
          "base_uri": "https://localhost:8080/"
        }
      },
      "outputs": [
        {
          "output_type": "stream",
          "name": "stdout",
          "text": [
            "fatal: cannot change to 'AminehTechnicalWritings': No such file or directory\n",
            "Cloning into 'AminehTechnicalWritings'...\n",
            "remote: Enumerating objects: 537, done.\u001b[K\n",
            "remote: Counting objects: 100% (50/50), done.\u001b[K\n",
            "remote: Compressing objects: 100% (50/50), done.\u001b[K\n",
            "remote: Total 537 (delta 27), reused 0 (delta 0), pack-reused 487\u001b[K\n",
            "Receiving objects: 100% (537/537), 4.05 MiB | 9.54 MiB/s, done.\n",
            "Resolving deltas: 100% (336/336), done.\n",
            "/bin/bash: -c: line 1: unexpected EOF while looking for matching `\"'\n",
            "/bin/bash: -c: line 2: syntax error: unexpected end of file\n"
          ]
        }
      ],
      "source": [
        "import google.colab\n",
        "repo_path = 'AminehTechnicalWritings'\n",
        "!git -C $repo_path pull origin || git clone https://github.com/aminehd/AminehTechnicalWritings/ $repo_path\n",
        "local_clone = '/content/' + repo_path\n",
        "!git config --global user.email \"amineh.dadsetan@gmail.com\"\n",
        "!git config --global user.name \"Amineh Dadsetan"
      ]
    },
    {
      "cell_type": "code",
      "execution_count": 4,
      "metadata": {
        "id": "S_orVC2KZ0U9",
        "outputId": "94e48cb8-00c5-4868-bf17-78691c83cef2",
        "colab": {
          "base_uri": "https://localhost:8080/"
        }
      },
      "outputs": [
        {
          "output_type": "stream",
          "name": "stdout",
          "text": [
            "The autoreload extension is already loaded. To reload it, use:\n",
            "  %reload_ext autoreload\n"
          ]
        }
      ],
      "source": [
        "%load_ext autoreload\n",
        "%autoreload 2\n",
        "# Import utility functions that provide answers to challenges\n",
        "%load_ext autoreload\n",
        "\n",
        "\n",
        "import sys\n",
        "sys.path.insert(1, '/content/AminehTechnicalWritings/src')\n",
        "\n",
        "# %aimport sampling_utils\n",
        "\n",
        "import sampling_utils as su\n",
        "import numpy as np\n",
        ""
      ]
    }
  ],
  "metadata": {
    "language_info": {
      "name": "python"
    },
    "colab": {
      "provenance": []
    },
    "kernelspec": {
      "name": "python3",
      "display_name": "Python 3"
    }
  },
  "nbformat": 4,
  "nbformat_minor": 0
}