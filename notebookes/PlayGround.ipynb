{
 "cells": [
  {
   "cell_type": "code",
   "execution_count": null,
   "metadata": {},
   "outputs": [],
   "source": [
    "import google.colab\n",
    "repo_path = 'AminehTechnicalWritings'\n",
    "!git -C \n",
    "repo_path\n",
    "local_clone = '/content/' + repo_path\n",
    "!git config --global user.email \"amineh.dadsetan@gmail.com\"\n",
    "!git config --global user.name \"Amineh Dadsetan\";"
   ]
  },
  {
   "cell_type": "code",
   "execution_count": null,
   "metadata": {},
   "outputs": [],
   "source": [
    "%load_ext autoreload\n",
    "%autoreload 2\n",
    "import sys\n",
    "sys.path.insert(1, '/content/AminehTechnicalWritings/src')\n",
    "import sampling_utils as su\n",
    "     "
   ]
  }
 ],
 "metadata": {
  "language_info": {
   "name": "python"
  }
 },
 "nbformat": 4,
 "nbformat_minor": 2
}
