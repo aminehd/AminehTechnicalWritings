{
  "cells": [
    {
      "cell_type": "markdown",
      "metadata": {
        "id": "view-in-github",
        "colab_type": "text"
      },
      "source": [
        "<a href=\"https://colab.research.google.com/github/aminehd/AminehTechnicalWritings/blob/main/notebookes/LinearRegressionMatrix.ipynb\" target=\"_parent\"><img src=\"https://colab.research.google.com/assets/colab-badge.svg\" alt=\"Open In Colab\"/></a>"
      ]
    },
    {
      "cell_type": "markdown",
      "source": [
        "Outline\n",
        "- Load data in repo\n",
        "- Introduction (Purpose + scope)\n",
        "- Body\n",
        "  - Linear regression is solving linear equations approximately.\n",
        "     - Matrix notation of linear regression equations.\n",
        "     - build X matrix with loaded data\n",
        "     - Solve \" X β = y\"\n",
        "    - Why $\\widehat{\\beta}$ and not just $\\beta$\n",
        "\n",
        "  - How to solve uncertain set of linear equations?\n",
        "  - The line fitting.\n",
        "  - Connection between method of least squares and the distribution of error terms.\n",
        "- Conclusion:\n",
        "- Appendix: Some linear algebra\n",
        "  - questions\n",
        "  - switch to another view: column space\n",
        "  - revisit two questions\n",
        "  - Go back a bit, what if no solution, what about projection ...\n",
        "  - rank of X, stuff about the projecting\n",
        "  - what if it has solution\n"
      ],
      "metadata": {
        "id": "dnGbKJ-RUUuM"
      }
    },
    {
      "cell_type": "markdown",
      "source": [],
      "metadata": {
        "id": "S7ukZ1whHh99"
      }
    },
    {
      "cell_type": "markdown",
      "source": [
        "##Git Setup"
      ],
      "metadata": {
        "id": "ShDhAWSsYB6R"
      }
    },
    {
      "cell_type": "code",
      "source": [
        "import google.colab\n",
        "repo_path = 'AminehTechnicalWritings'\n",
        "!git -C $repo_path pull origin || git clone https://github.com/aminehd/AminehTechnicalWritings/ $repo_path\n",
        "local_clone = '/content/' + repo_path\n",
        "!git config --global user.email \"amineh.dadsetan@gmail.com\"\n",
        "!git config --global user.name \"Amineh Dadsetan\""
      ],
      "metadata": {
        "id": "19DE6S_AX97z",
        "outputId": "1f230813-f111-4104-946d-89112017d781",
        "colab": {
          "base_uri": "https://localhost:8080/"
        }
      },
      "execution_count": null,
      "outputs": [
        {
          "output_type": "stream",
          "name": "stdout",
          "text": [
            "fatal: cannot change to 'AminehTechnicalWritings': No such file or directory\n",
            "Cloning into 'AminehTechnicalWritings'...\n",
            "remote: Enumerating objects: 407, done.\u001b[K\n",
            "remote: Counting objects: 100% (266/266), done.\u001b[K\n",
            "remote: Compressing objects: 100% (174/174), done.\u001b[K\n",
            "remote: Total 407 (delta 169), reused 152 (delta 89), pack-reused 141\u001b[K\n",
            "Receiving objects: 100% (407/407), 3.79 MiB | 15.11 MiB/s, done.\n",
            "Resolving deltas: 100% (248/248), done.\n"
          ]
        }
      ]
    },
    {
      "cell_type": "code",
      "source": [
        "%load_ext autoreload\n",
        "%autoreload 2\n",
        "import sys\n",
        "sys.path.insert(1, '/content/AminehTechnicalWritings/src')\n",
        "import sampling_utils as su\n",
        "import numpy as np\n",
        "import matplotlib.pyplot as plt"
      ],
      "metadata": {
        "id": "5j4eSlknAHha"
      },
      "execution_count": null,
      "outputs": []
    },
    {
      "cell_type": "code",
      "source": [
        "population = su.get_population(local_clone + '/data/population.npz')\n",
        "population.shape"
      ],
      "metadata": {
        "id": "0W6vmWNrAOcm",
        "outputId": "f04f8cee-f399-4192-debb-5e6d7ab03c55",
        "colab": {
          "base_uri": "https://localhost:8080/"
        }
      },
      "execution_count": null,
      "outputs": [
        {
          "output_type": "execute_result",
          "data": {
            "text/plain": [
              "(300000, 2)"
            ]
          },
          "metadata": {},
          "execution_count": 3
        }
      ]
    },
    {
      "cell_type": "markdown",
      "source": [
        "## Introduction\n",
        "In this notebook, I would like to go through the linear regression concepts. The way I came across the concept in differnt books goes like this.\n",
        "First some introduction of statistics concepts of how the data looks like, whats a predictor, what is a response, and the goal that is to train from a **sample** data set.\n",
        " And then there is some matrix notations plus loss functions and instruction on how to use them to reach the goal which is training the model based on given **sample**.\n",
        " Ocasionally, at the end, there might be a word or two on how Maximum liklihood or Best Linear Unbiased Estimator  is relevent to the subject.\n",
        "\n",
        "So you see, it starts with statistics, then turns to linear algebra and some analysis, and finally a lot of probability that sounds very uncalled for.\n",
        "\n",
        "In this notebook, I attempt to teach the linear regression, while separating all this major ideas from different fields of study. I also try to implement python function that serves as a mechanism to talk about all this mathematical abstractions. My hope is to give the audience tools to answer their questions about all this concepts using the python utilities . Hopefully, I can build more tools around them to teach even more complex Machine Learning concepts.\n",
        "\n",
        "I think the key point to understand linear regression and methods built around it, is to pause and think about difference of **populataion data set** and a given **sample data set**. Let's play around with the two concept with our data. ⏸\n",
        "\n",
        "I have wrote some utility function that helps you build a sampler around given population.\n",
        "Once you built a sampler from population, you can fix the set of predictors (`set_sample_xs`). Finally you can use `sample_response` to sample `y`s with replacement.\n",
        "You can think of it as a experiment in which the predictor is age and outcome is their credit score. Before starting the experminet you know how many people and from what ages you would like to run experiment on. Just knowing the ages (predictor) is not enought since there is so many people with same age thus so many credit scores (response) that can be used as training set.  So what you need to do is to sample actual people of the given ages to study their credit scores.\n",
        "\n",
        "\n",
        "\n",
        "\n",
        "\n",
        "\n"
      ],
      "metadata": {
        "id": "-GrjszX0UXVK"
      }
    },
    {
      "cell_type": "code",
      "source": [
        "\n",
        "sampler = su.PopulationSampler(population)\n",
        "x_samp_index, x_samples = sampler.set_sample_xs(100)\n",
        "resp = np.array(list(sampler.sample_response()))\n",
        "x, y = resp[:, 0], resp[:, 1]\n"
      ],
      "metadata": {
        "id": "OSu41WDF_GAe"
      },
      "execution_count": null,
      "outputs": []
    },
    {
      "cell_type": "code",
      "source": [
        "fix, axes = plt.subplots(ncols=2)\n",
        "# sample[:,0], sample[:,1]\n",
        "axes[0].scatter(x, y)\n",
        "axes[0].set_title('Sample distribution')\n",
        "axes[1].set_title('Population distribution')\n",
        "axes[1].scatter(population[:,0], population[:,1]);\n"
      ],
      "metadata": {
        "colab": {
          "base_uri": "https://localhost:8080/",
          "height": 452
        },
        "id": "C8IKsSGKKfew",
        "outputId": "33ef4070-5f00-46cc-e280-684d6644f752"
      },
      "execution_count": null,
      "outputs": [
        {
          "output_type": "display_data",
          "data": {
            "text/plain": [
              "<Figure size 640x480 with 2 Axes>"
            ],
            "image/png": "[encoded data removed]"
          },
          "metadata": {}
        }
      ]
    },
    {
      "cell_type": "markdown",
      "source": [
        "\n",
        "The random data from  previous notebook follows the assumption of linear regression. This assumes that if you subtract a linear combination of predictors from the response, the result will have a standard normal distribution. Hence, you can fit a linear model to a given sample.\n",
        "\n",
        "\n",
        "The fact is that we either don't have access to the whole population, or it is computationally too difficult to fit linear regression on the whole population set.\n",
        "\n",
        "\n",
        "Because of that we pull a set of samples, (sample data set) and fit the model on it. But how do we know that the sample follows the assumption of linear regression as well? What if the sample data set is a horrible representetive of population data set and not random at all? The way to ensure is to sample with replacement. Doing so lets us make assuption about distribution of error for the given sample.\n",
        "\n",
        "Although we can make some assumption on the sample data set, it is not gonna be the same assumption as we do for the whole population. That is we say the **linear regression coefficients** for a sample is an estimate for linear regression coefficients for population data set. ($\\beta$ vs $\\widehat\\beta$. More on that [here](https://colab.research.google.com/github/aminehd/AminehTechnicalWritings/blob/main/notebookes/LinearRegressionMatrix.ipynb#scrollTo=cwhNfPNNkFAH) )\n",
        "\n"
      ],
      "metadata": {
        "id": "-KOrLgcoKBXL"
      }
    },
    {
      "cell_type": "markdown",
      "source": [
        "### Linear regression is solving linear equations approximately\n",
        "\n",
        "Plotting the responses versus predictors reveals a noticeable linear pattern, both in the sample and population datasets. In our case it faintly resembles a line in 2D space that can be described with two numbers: slope and intercept.\n",
        "\n",
        "Fitting a linear model to data is similar to solving n equations with p variables, with the goal of finding the coefficient.  There is  one small difference: fitting linear model is approximate, while solving system of linear equations is exact solutions.\n",
        "\n",
        "\n",
        "Going back to history of linear regression, the first use of fitting linear models to observed data originated from the field of astronomy. Scientists attempted to determine fixed parameters related to the positions and motions of celestial bodies based on astronomical data, under the assumption of a linear model.\n",
        "However, these observations were subject to errors, leading to instances where the equations had no solutions.\n",
        "\n",
        "Their trick was to introduce an error term, ensuring that the equations would always have at least one solution.\n",
        "\n",
        "Likewise, we can add an error term to the right side of our equations, ensuring that the system always has a solution. However, the caveat is that multiple solutions will exists, each with different error term values and we need to find a criteria that which set of errors are better overall. Or alternatively we can decide  which solution is more likely to be the correct one, if we have a distribution on the error terms.  But hold off on that that part and let's focus on the system of linear equations for now.\n",
        "\n",
        "\n",
        "\n",
        "The equations for a given sample of size n looks likes:\n",
        "$$\n",
        "\\begin{align}\n",
        "y_1 &= \\beta_1 x_{11} + \\cdots + \\beta_p x_{1p} + \\beta_0 + \\epsilon_1\\\\\n",
        "y_2 &= \\beta_1 x_{21} + \\cdots + \\beta_p x_{2p} + \\beta_0 + \\epsilon_2\\\\\n",
        "&\\vdots \\\\\n",
        "y_n &= \\beta_1 x_{n1} + \\cdots + \\beta_p x_{np}  + \\beta_0 + \\epsilon_n\n",
        "\\end{align}\n",
        "$$\n",
        "\n",
        "\n",
        "At this point the problem statement is more forma. In other word, asking to find the best line that fits the sample data is not as clear as asking to solve a set of linear equations. However, we haven't yet talked about how to solve them.\n",
        "\n",
        "Before delving into solving the linear equtions, lets see some algebraic interpretation of this.\n",
        "\n",
        "\n"
      ],
      "metadata": {
        "id": "P3AqCTUnDqE_"
      }
    },
    {
      "cell_type": "markdown",
      "source": [
        "### Matrix notation of linear regression.\n",
        "\n",
        "Samples are a set of tuples. To use linear algebra, we can switch to their notations, which is vectors and matrices.\n",
        "Each predictor can be viewed as a row vector, (e.g, $x_i = [ x_{i,1}, ..., x_{ip}]^T$.)  . It means predictors are n vecotres each of p dimensions. You can even stack them on top of each other: 🦣\n",
        "$$\n",
        "y =\n",
        "\\begin{bmatrix}\n",
        "y_1 \\\\\n",
        "y_2 \\\\\n",
        "\\vdots \\\\\n",
        "y_n\n",
        "\\end{bmatrix}\n",
        "=\n",
        "\\begin{bmatrix}\n",
        "x_{11} & x_{12} & \\ldots & x_{1p} \\\\\n",
        "x_{21} & x_{22} & \\ldots & x_{2p} \\\\\n",
        "\\vdots & \\vdots & \\ddots & \\vdots \\\\\n",
        "x_{n1} & x_{n2} & \\ldots & x_{np}\n",
        "\\end{bmatrix}\n",
        "\\begin{bmatrix}\n",
        "\\beta_1 \\\\\n",
        "\\vdots \\\\\n",
        "\\beta_p\n",
        "\\end{bmatrix}\n",
        "+\n",
        "\\begin{bmatrix}\n",
        "\\beta_0 \\\\\n",
        "\\beta_0 \\\\\n",
        "\\vdots \\\\\n",
        "\\beta_0\n",
        "\\end{bmatrix}\n",
        "+ ϵ$$\n",
        "\n",
        "You can see that the intercept is a vector that is n-times repeatition of $\\beta_0$ ( a bit awkward 🤷).\n",
        "\n",
        "A tiny trick helps putting $\\beta_0$ with rest of $\\beta_i$'s. At least help visually. 🎉 🧙\n",
        "$$\n",
        "y =\n",
        "\\begin{bmatrix}\n",
        "1 & x_{11} & x_{12} & \\ldots & x_{1p} \\\\\n",
        "1 & x_{21} & x_{22} & \\ldots & x_{2p} \\\\\n",
        "\\vdots &\\vdots & \\vdots & \\ddots & \\vdots \\\\\n",
        "1 & x_{n1} & x_{n2} & \\ldots & x_{np}\n",
        "\\end{bmatrix}\n",
        "\\begin{bmatrix}\n",
        "\\beta_0 \\\\\n",
        "\\vdots \\\\\n",
        "\\beta_p \\\\\n",
        "\\end{bmatrix}\n",
        "+ ϵ\n",
        "$$\n",
        "\n",
        "For ease, we refer to the above augmented matrix as $\\tilde{x}$:\n",
        "$$\n",
        "\\tilde{X} = \\begin{bmatrix}\n",
        "1 & x_{11} & x_{12} & \\ldots & x_{1p} \\\\\n",
        "1 & x_{21} & x_{22} & \\ldots & x_{2p} \\\\\n",
        "\\vdots &\\vdots & \\vdots & \\ddots & \\vdots \\\\\n",
        "1 & x_{n1} & x_{n2} & \\ldots & x_{np}\n",
        "\\end{bmatrix}\n",
        "$$\n",
        "Just to make it a bit easier, we rename $\\tilde{X}$ to X again. So by referring to $X$ we reffer to the augmented X.\n",
        "\n"
      ],
      "metadata": {
        "id": "lOKRikQQJdV6"
      }
    },
    {
      "cell_type": "markdown",
      "source": [
        "### build X matrix\n",
        "\n",
        "HERE!!! construct X from the data. Play with it\n",
        "\n",
        "\n"
      ],
      "metadata": {
        "id": "rchfxvM41TIM"
      }
    },
    {
      "cell_type": "markdown",
      "source": [
        "Lets build the X matrix\n"
      ],
      "metadata": {
        "id": "ICHlTFCJ1Nkr"
      }
    },
    {
      "cell_type": "code",
      "source": [
        "\n",
        "X = np.c_[np.ones(100), x]\n",
        "print(f\"Shape of X: {X.shape}\")\n",
        "print(f\"Rank of X: {np.linalg.matrix_rank(X)}\")\n",
        "\n"
      ],
      "metadata": {
        "id": "mHrQR0nhwTOa",
        "colab": {
          "base_uri": "https://localhost:8080/"
        },
        "outputId": "648647ab-3e6f-485c-f38e-25d2870cf095"
      },
      "execution_count": null,
      "outputs": [
        {
          "output_type": "stream",
          "name": "stdout",
          "text": [
            "Shape of X: (100, 2)\n",
            "Rank of X: 2\n"
          ]
        }
      ]
    },
    {
      "cell_type": "code",
      "source": [],
      "metadata": {
        "id": "FMmg9L5Scwgt"
      },
      "execution_count": null,
      "outputs": []
    },
    {
      "cell_type": "markdown",
      "source": [
        "###  Solve \" X $\\widehat{\\beta}$ + ϵ= y\"\n",
        "\n",
        "\n",
        "\n",
        "\n",
        "Putting all observation in a matrix, yields one line equation that is equivalent to solving the system of linear equations  that is :\n",
        "$$ \\textbf{X} \\widehat{\\beta} + \\epsilon = y$$\n",
        "\n",
        "Solving such equation would have been a standard procedure, if there were no error term $\\epsilon$ or uncertanty in other words.\n",
        "\n",
        "By a solution to $ \\textbf{X} \\widehat{\\beta} + \\epsilon = y$, we mean finding a value for $\\widehat{\\beta}$ and for $\\epsilon$.  But probably there is way too many answers for them. How to find the best? The simplest idea is to find one that has min value for $||\\epsilon|| =||\\mathbf{X} \\widehat{\\beta} - y||$.\n",
        "\n",
        "There are several ways to find $\\widehat{\\beta}$ such that it minimizes $||\\mathbf{X} \\widehat{\\beta} - y||$. For example taking partial deravatives in respect to $x_j$'s and find where all of them are 0.\n",
        "\n",
        "\n",
        " my favorite approach is the one that uses some linear algebraic concepts such as projection. This is how it goes:\n",
        "\n",
        "The minimum value of $||\\textbf{X} \\widehat{\\beta}  - y||$ is the distance of y from it's projection onto column space of X. Lets call such projection $\\widehat{y}$. Thus $||\\textbf{X} \\widehat{\\beta}||$ has minimum value when  \n",
        "\n",
        "$$\\textbf{X} \\widehat{\\beta}  = \\widehat{y}$$\n",
        "$\\textbf{X}$ and $\\widehat{y}$ are known and the goal is to find unkonwn $\\widehat{\\beta}$. This one is guaranteed to have solutions.\n",
        "\n",
        ". So all you need is to project y to columns space of $\\mathbf{X}$ and then solve a simple matrix equation that is guaranteed to have an answer.  \n",
        "\n",
        "\n",
        "Long story short, there exists unique solution for $\\widehat{\\beta}$ that minimizes $||X \\widehat{\\beta} - y||$ and that is:\n",
        "$$(X^T X)^{-1} X^T y$$\n",
        "\n",
        "We denote the $(X^TX)^{-1} X^T$  by $X^+$\n",
        "\n",
        "For a full proof of the procedure you can take a look at the [appendix](https://colab.research.google.com/github/aminehd/AminehTechnicalWritings/blob/main/notebookes/LinearRegressionMatrix.ipynb#scrollTo=KWHMu8ZeHkst).  \n",
        "\n",
        "Lets inspect the $X$ and $X^TX$ and finally $X^+$ matrix. We have built matrix `X` by putting together the all predictors in the sample. Shape of X is `(100,2)`. Which means it is not square matrix thus not inversible. How about rank of `X`?\n"
      ],
      "metadata": {
        "id": "cwhNfPNNkFAH"
      }
    },
    {
      "cell_type": "code",
      "source": [
        "print(f\"{X.shape=}\")\n",
        "rank_X = np.linalg.matrix_rank(X)\n",
        "print(f\"{rank_X=}\")"
      ],
      "metadata": {
        "id": "OUBqmyFLdqQW",
        "outputId": "77704643-3716-400f-bc3e-4402a0191469",
        "colab": {
          "base_uri": "https://localhost:8080/"
        }
      },
      "execution_count": null,
      "outputs": [
        {
          "output_type": "stream",
          "name": "stdout",
          "text": [
            "X.shape=(100, 2)\n",
            "rank_X=2\n"
          ]
        }
      ]
    },
    {
      "cell_type": "markdown",
      "source": [
        "HERE!!!!Let's do the same for $X^TX$:"
      ],
      "metadata": {
        "id": "aqDm6qdefHyx"
      }
    },
    {
      "cell_type": "code",
      "source": [
        "XTX = X.T @ X\n",
        "print(f\"{XTX.shape=}\")\n",
        "rank_XTX = np.linalg.matrix_rank(XTX)\n",
        "print(f\"{rank_XTX=}\")"
      ],
      "metadata": {
        "id": "qpzB01ZffGLC",
        "outputId": "c92f1681-e1d7-4a71-88ec-6644ebfb66b2",
        "colab": {
          "base_uri": "https://localhost:8080/"
        }
      },
      "execution_count": null,
      "outputs": [
        {
          "output_type": "stream",
          "name": "stdout",
          "text": [
            "XTX.shape=(2, 2)\n",
            "rank_XTX=2\n"
          ]
        }
      ]
    },
    {
      "cell_type": "code",
      "source": [
        "X_plus = X @ np.linalg.inv(np.transpose(X) @ X) @ np.transpose(X)\n",
        "X_plus.shape\n",
        "y.shape\n",
        "y_hat = X_plus @ y"
      ],
      "metadata": {
        "id": "JHfWx2cPtnLd"
      },
      "execution_count": null,
      "outputs": []
    },
    {
      "cell_type": "markdown",
      "source": [
        "Based on the matrix notation, we can construct the matrix X:"
      ],
      "metadata": {
        "id": "NKt3SmFvLBge"
      }
    },
    {
      "cell_type": "markdown",
      "source": [
        "At this point we claim that `y_hat` is in the column space of X. In fact we also claim that `y_hat` is the prediction obtained my method of least square.\n",
        "\n"
      ],
      "metadata": {
        "id": "gEwyjQ4NEYah"
      }
    },
    {
      "cell_type": "code",
      "source": [
        "b, residuals, rank, s = np.linalg.lstsq(X, y, rcond=None)\n",
        "\n",
        "estimate_y = b[0] + b[1] * x\n",
        "print(f\"L2 norm of difference of estimat_y with y_hat: {np.sum(np.square(estimate_y - y_hat)):.2e}\")\n"
      ],
      "metadata": {
        "id": "fO_Hq8EyFRAu",
        "outputId": "e729d3a4-afb2-46f2-8e4a-75b425e2b645",
        "colab": {
          "base_uri": "https://localhost:8080/"
        }
      },
      "execution_count": null,
      "outputs": [
        {
          "output_type": "stream",
          "name": "stdout",
          "text": [
            "L2 norm of difference of estimat_y with y_hat: 8.94e-27\n"
          ]
        }
      ]
    },
    {
      "cell_type": "markdown",
      "source": [
        "As you can see the  norm of the distance of the estimated_y and y_hat is  almost 0 (8.94e-27). So to find estimated response, all you need is multiply `X_plus` by `y`.   Similarly you can  HERE!!!!!!!!"
      ],
      "metadata": {
        "id": "c3hXlWLcJcnv"
      }
    },
    {
      "cell_type": "markdown",
      "source": [
        "\n",
        "\n",
        "\n",
        "HERE!!!\n",
        "we arrive at:\n",
        "$${\\displaystyle {\\widehat {\\beta }}=(X^{\\operatorname {T} }X)^{-1}X^{\\operatorname {T} }y}$$\n",
        "HERE!!! Why the books calculate $\\hat{\\beta}$ instead of $\\{beta}$\n"
      ],
      "metadata": {
        "id": "dwygEhfQ_ky0"
      }
    },
    {
      "cell_type": "markdown",
      "source": [
        "### Why $\\widehat{\\beta}$ and not just $\\beta$\n",
        "I would like to have a quick note on why we set out to find $\\widehat{\\beta}$ and not the $\\beta$. $\\beta$ is the population regression coefficient whereas $\\widehat{\\beta}$ is the sample regression coefficient. By solving the equation for a given sample, we find values for  $\\beta$ and $\\epsilon$. The $\\widehat{}$ sign basically tells us that there is no guarantee that by following a procedure on a given sample we are going to find the exact $\\beta$ simply because we see a portion of whole data. But keep in mind a good procedure is one that calculates unbiased $\\widehat{\\beta}$ over all possible samples (meaning their average equals the poulation regression coefficients). 🎩"
      ],
      "metadata": {
        "id": "IOAwHr7_QqV9"
      }
    },
    {
      "cell_type": "markdown",
      "source": [
        "### what motivates $||X \\widehat\\beta - y ||$ as a loss function\n",
        "\n",
        "\n",
        "If you like to see more reasoning behind why we picked $||Ax -b ||$ as lose function, or as a function to minimize, I can add some more to it.In context of linear regression, $\\widehat{ \\beta}$ is called [**ordinary least squares estimator**](https://en.wikipedia.org/wiki/Gauss%E2%80%93Markov_theorem).\n",
        "\n",
        "\n",
        "\n",
        "One way to justify the loss function as $||X \\widehat\\beta - y ||$, is to use the concept of **Best Linear Unbiased Estimator**.\n",
        "\n",
        "The idea in the procedure is that instead of aiming to find real value for $\\beta$, we aim for finding an estimator called $\\widehat\\beta$. Because of linear assumptions, we are specifically looking for a linear estimator.\n",
        "\n",
        "So what do we mean by linear? It means $\\widehat\\beta$ is linear in $y$ which means you can write $\\widehat\\beta$ in the form of a matrix $A$ time $y$ (e.g., $\\widehat\\beta = A y$). Goal would be to find matrix A.\n",
        "\n",
        "Even with the assumption of linearity, there is going to be a lot of such estimator. Another assumpotion is being unbiased. HERE!!! explain unbiased\n",
        "HERE!!! explain the assumptions on $\\epsilon$\n",
        "\n",
        "\n",
        "\n",
        "\n",
        "\n",
        "HERE!!!!!!!!!find proof that uses maximum liklihood and the dist of error to justify minimization of AX-b. HERE!!!!!!sketch of proofTo find the most likely y, under the condition of normal error,  which yields to minimizing  $||Ax -b ||$ ( It turns loss function to a liklihood function https://www.cs.princeton.edu/courses/archive/fall18/cos324/files/mle-regression.pdf)\n",
        "\n",
        "Statisticians typically motivate ordinary least squares by the [principle of maximum likelihood](https://en.wikipedia.org/wiki/Gauss%E2%80%93Markov_theorem)  because of this feature.\n",
        "\n",
        "HERE!!! use the loaded data to show XTX effect."
      ],
      "metadata": {
        "id": "lTtJjTtS_FI1"
      }
    },
    {
      "cell_type": "markdown",
      "source": [],
      "metadata": {
        "id": "Jsg_jA34--Zm"
      }
    },
    {
      "cell_type": "code",
      "source": [],
      "metadata": {
        "id": "ebHB_8C1ybVN"
      },
      "execution_count": null,
      "outputs": []
    },
    {
      "cell_type": "code",
      "source": [],
      "metadata": {
        "id": "XEJ7vNrd1E6E"
      },
      "execution_count": null,
      "outputs": []
    },
    {
      "cell_type": "markdown",
      "source": [
        "### Line fitting"
      ],
      "metadata": {
        "id": "5EkDqnBoybzL"
      }
    },
    {
      "cell_type": "markdown",
      "source": [
        "while it is nice to visualize the data point using second view, we mainly use the first view to solve the system of equations. Let's find such hyperplane for our sample data points ( or n vectors of 2-dimensional )"
      ],
      "metadata": {
        "id": "1zQD7KnbZLML"
      }
    },
    {
      "cell_type": "code",
      "source": [
        "# fit regression for sample of shape (30, 2)\n",
        "slope, intercept = np.polyfit(sample[:, 0], sample[:,1], 1)\n",
        "fig, ax = plt.subplots()\n",
        "ax.scatter(sample[:, 0], sample[:, 1])\n",
        "ax.plot(np.linspace(0, 10, 40), slope * np.linspace(0, 10, 40) + intercept, 'r')"
      ],
      "metadata": {
        "id": "QlszhiXB9uqc",
        "outputId": "1e960c2c-408f-491a-8d02-6a21794f2b6f",
        "colab": {
          "base_uri": "https://localhost:8080/",
          "height": 447
        }
      },
      "execution_count": null,
      "outputs": [
        {
          "output_type": "execute_result",
          "data": {
            "text/plain": [
              "[<matplotlib.lines.Line2D at 0x7886ef64c430>]"
            ]
          },
          "metadata": {},
          "execution_count": 15
        },
        {
          "output_type": "display_data",
          "data": {
            "text/plain": [
              "<Figure size 640x480 with 1 Axes>"
            ],
            "image/png": "[encoded data removed]"
          },
          "metadata": {}
        }
      ]
    },
    {
      "cell_type": "markdown",
      "source": [
        "## Connection between method of least squares and the Error terms\n",
        "\n",
        "Without the epsilon term, finding the regression parameters (or $\\beta_i$'s) looks like solving multiple linear equations and there is standard prodecures for it. But now what do we do with epsilon term.\n",
        "\n",
        "Let's take a look into the history of it.\n",
        "\n",
        "The method of least squares grew out of the fields of astronomy, as scientists tried to provide solutions to the challenges of navigating the Earth's oceans.\n",
        "\n",
        "Their astronomical observations were in form of lots of equations with lots of variables. But observations always have error in them. So there was cases that these equation do not have any solution. However, they really wanted a solution.\n",
        "\n",
        "Their trick was to add an error term, and expect that equations to always have some solution. Typically, multiple solutions exist, each with different error term values. The best solution is the one that minimizes the overall error.\n",
        "\n",
        "How to define the criterion for overal error term? Which function of error do we want to minimize? One possible such funtion is the sum of squares of errors. The modthod that finds the linear regression coefficients by minimizing the sum of square of errors is called method of least squares. Nowdays, method of least squares is part of Regression, particularly it is one possible loss function.\n",
        "\n",
        "\n",
        "The first clear and concise exposition of the method of least squares was published by [Legendre](https://en.wikipedia.org/wiki/Adrien-Marie_Legendre) in 1805.\n",
        "\n",
        "However, In 1809 Carl Friedrich Gauss published his method of calculating the orbits of celestial bodies.This naturally led to a priority dispute with Legendre. However, to Gauss's credit, he went beyond Legendre and succeeded in connecting the method of least squares with the principles of probability and to the normal distribution. We'll see how the method gets linked to the probability distribution of errors.\n",
        "\n",
        "But why method of least square is a good choice for finding the coefficients? the answer to this question depends on two things: firstly on the assumptions about error distribution, and secondly, on what are we looking for in a solution.  \n",
        "\n",
        "By picking a criterion for solving the equations, in practice, we find a estimate $\\hat{\\beta_j}$ for $\\beta_j$ in below equations. This estimate is a function of $X$ and $y$.\n",
        "\n",
        "$$\n",
        "\\begin{align}\n",
        "y_1 &= \\beta_1 x_{11} + \\cdots + \\beta_p x_{1p} + \\beta_0 + \\epsilon_1\\\\\n",
        "y_2 &= \\beta_1 x_{21} + \\cdots + \\beta_p x_{2p} + \\beta_0 + \\epsilon_2\\\\\n",
        "&\\vdots \\\\\n",
        "y_n &= \\beta_1 x_{n1} + \\cdots + \\beta_p x_{np}  + \\beta_0 + \\epsilon_n\n",
        "\\end{align}\n",
        "$$\n",
        "\n",
        "\n",
        "\n",
        "If we decide to minimize the sum of least square of errors, the estimator $\\hat{\\beta}$ will be called **ordinary least squares estimator (OLS)** and is below function\n",
        "$$\n",
        "\\beta_j =  (X^TX)^{-1}X^Ty\n",
        "$$\n",
        "\n",
        "⏰  Now, wait for it ..., it turns out that OLS is the **best unbiased linear estimator** or [BLUE](https://en.wikipedia.org/wiki/Gauss%E2%80%93Markov_theorem) under a few assumptions about the set of error random variables, $\\epsilon_i$:\n",
        "- They have mean zero: $E[\\epsilon_i]= 0$\n",
        "- They are homoscedastic, that is all have the same finite variance: $Var(\\epsilon_i) = \\sigma^2$ for all i and\n",
        "- Distinct error terms uncorrelated: $Cov(\\epsilon_i, \\epsilon_j) = 0, \\forall i \\neq j.$\n",
        "\n",
        "⭐ We can answer the question we asked a while ago: why method of least square is a good choice for finding the coefficients, specificaly when the error terms has a normal distribution?  Because under the assumption of normal distibution and uncorrelated error terms, the OLS estimator (that is result of using method of least squares) is going to be Best unbiased linear estimator or BLUE.\n",
        "\n",
        "🔹 The term BLUE suggests that there are other good estimators. OLS is the best one among the linear and unbiased ones. The fact that OLS estimator is linear in term of y's is easy to verify.\n",
        "\n",
        "However, we haven't explained what unbiased means.\n",
        "\n",
        "Here is an observation that helps answer above question:\n",
        "\n",
        "WHen there is no predictors and error follows normal distribution, mean of responses is what optimizes the sum of squared errors.\n",
        "In that case $y = [y_1, ..., y_n]^T$ and we would like to find best $\\beta_0$ to fit $y = \\hat{\\beta_0 }$. Then OLS would minimize $\\sum{(y_i - \\hat{\\beta_0})^2}$.\n",
        "\n",
        "If we use the $\\hat{\\beta_0}$ calculated for the sample to estimate the $\\beta_0$ for the whole population or better to say the real y for population, this estimation is *unbiased*. It means on average we expect $\\hat{\\beta_0}$ to equal to ${\\beta_0}$. Hence an unbiased estimator does not systemically over- or under-estimate the true value.\n",
        "\n",
        "So basically when predictors are 0 dimensional,  benefit of using method of least square as loss function, estimators would be unbiased over all samples.\n",
        "\n",
        "\n",
        "  In fact under the assumption of normally distributed errors, the least squares estimates have desirable properties such as being unbiased and having minimum variance among all linear estimators. That is one of the reasons that  method of least squares and normal distribution are tied together.\n",
        "  \n",
        "  \n",
        "\n",
        "\n",
        "\n",
        "## Conclusion\n",
        "We looked at linear regression problem in the form of solving multiple linear equations. Then we looked at two ways of interpreting a solution with matrixes (or linear spaces). Finally we contemplated on the error terms, method of least squares, and how the mothod is connected to the distribution of error terms.\n",
        "\n",
        "\n",
        "  \n",
        "  \n",
        "This concludes this not book. Next notebook we try to look at the model coefficients ($\\beta_i$'s ) as summary statistics defined on samples. You can also think of them as measures since samples are subsets.  \n",
        "\n",
        "Then we look at  expected value of sample statistices over multiple sampling. Also we look at variance of stuff within sample, and variance of sample   stat over several samplings. This indeed is an intersting case when sample stat is defined to be the mean of sample.\n",
        "\n",
        "\n",
        "These can help understand concept of Standard Error and F-test better.\n",
        "\n"
      ],
      "metadata": {
        "id": "20tdkyo3Vpf2"
      }
    },
    {
      "cell_type": "markdown",
      "source": [
        "## Appendix: Some linear algebra\n",
        "As we said the minimum value of $||\\textbf{X} \\widehat{\\beta}  - y||$ is the distance of y from it's projection onto column space of X. Lets say $\\widehat{y}$ is the projection of $y$ onto column space of X. Thus $||\\textbf{X} \\widehat{\\beta}||$ has minimum value when:  \n",
        "\n",
        "$$\\textbf{X} \\widehat{\\beta}  = \\widehat{y}$$\n",
        "\n",
        "So we ended up with a matrix equation that always has an answer. That is great. To find the least square solution, all we need to do is to find the projection $\\widehat{y}$ and then solve the new equation."
      ],
      "metadata": {
        "id": "KWHMu8ZeHkst"
      }
    },
    {
      "cell_type": "markdown",
      "source": [
        "Since we are going to work a lot with column space of X, lets denot it by $RAN_X$.\n",
        "\n",
        "How can we project $y$ to columns space of $\\mathbf{X}$?\n",
        " Turns out it really depends. For example if $\\mathbf{X}$ is a square matrix, then every vector of right dimension is already on column space of $\\mathbf{X}$.If $\\mathbf{X}$ columns are orthonormal basis, $\\mathbf{X}\\mathbf{X}^T$ is desired projection.\n",
        "\n",
        "Let's take a closer look\n",
        "\n",
        "Since $X \\widehat\\beta$ is eqaul to image of $y$ on $RAN_X$. Thus $X\\beta - y$ is prependicular to any column $x_i$ of $X$. That means\n",
        "$${x_i}^T .(X \\widehat\\beta - y) = 0$$\n",
        "For all $i$'s\n",
        "stacking the ${x_i}^T$ on top of each other as rows yields:\n",
        "$$\n",
        "\\begin{align}\n",
        "X^T (X \\widehat\\beta - y) = 0 & \\\\\n",
        "X^T X \\widehat\\beta = X^T y \\tag{Norma Equation}\n",
        "\\end{align}\n",
        "$$\n",
        "Since $X^TX$ is a square matrix and we if it has non 0 determinant it is invertible (easy thing to check). We use this fact to solve the $\\widehat\\beta$\n",
        "$$\\widehat\\beta = (X^TX)^{-1} X^T y$$\n",
        "\n",
        "Few things to notice here. First of all, solution for $\\widehat\\beta$ only depends on $X$ and not on $y$ anymore. Secondly we did a lot of mind bending matrix calculation just to reach to **Normal equation** ? Also if why don't we just use inverted X instead of inverting  $X^T X$ ? Well a shallow answer might be because $X^T X$ is a square matrix.\n",
        "\n",
        "HERE!!! GO through rest of stuff and delete maybe\n",
        "HERE!!! read bilinear forms https://en.wikipedia.org/wiki/Change_of_basis"
      ],
      "metadata": {
        "id": "vlfrCrCmJ16m"
      }
    },
    {
      "cell_type": "markdown",
      "source": [
        "\n",
        "\n",
        "\n",
        "\n",
        "![Screenshot 2024-04-28 at 9.48.05 AM.png](data:image/png;base64,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)\n",
        "\n",
        "\n",
        "\n",
        "\n",
        "\n",
        "\n"
      ],
      "metadata": {
        "id": "e-VLojeY2TMV"
      }
    },
    {
      "cell_type": "markdown",
      "source": [
        "HERE!!!! read 5. Adjoint of a linear transformation (152/286). Fundamental subspaces revisited. for linalgdonewrong, before proceeding, maybe choose some excerise from it and work it out with data.\n",
        "2.1. Orthogonal and orthonormal bases. (137/ 286)\n",
        "4. Least square solution. Formula for the orthogonal projection\n",
        "\n",
        "HERE!!!! make a line for $\\mathbf{X}(\\mathbf{X}^T\\mathbf{X})^{-1}X^T$ and name it.\n",
        "While $\\mathbf{X}(\\mathbf{X}^T\\mathbf{X})^{-1}X^T y =  X \\widehat{\\beta}$ might have multiple solution, one trivial solution is $\\hat{\\beta} = (X^TX)^{-1}X^T y$ by removing X from the right and left side\n",
        "\n",
        "HERE!!!(easier way to arrive at it?what if y is in column space of X? does it simplify? see with data)\n",
        " HERE!!!\n",
        "**sources**\n",
        "1. https://en.wikipedia.org/wiki/Projection_(linear_algebra)#Formulas\n",
        "2. https://www-users.cse.umn.edu/~rejto/4242/4242_2final_sol3.pdf\n",
        "3. https://math.stackexchange.com/questions/1816364/the-svd-solution-to-linear-least-squares-linear-system-of-equations\n",
        "\n",
        "\n",
        "HERE!!! put all X(XTX)-1 craziness to here, **NAME** my important eqs for easier reference 🌨 First tag them with **(NAME=EXPANDED_MATRIX_EQ)**. ask chat how\n",
        "\n",
        "HERE!!!! so what is the solution for $\\widhat{beta}$???\n",
        "\n",
        "Now lets sample a set and try these matrices.\n",
        "Let's construct the  matrix X for the data we sampled. We can check some algebraic measures on matrix X then. I would suggest try to answer a few questions for yourself, such as\n",
        "1. what is the shape of X?\n",
        "2. what is the rank of X?"
      ],
      "metadata": {
        "id": "DhZY9ZCrjvDD"
      }
    }
  ],
  "metadata": {
    "language_info": {
      "name": "python"
    },
    "colab": {
      "provenance": [],
      "include_colab_link": true
    },
    "kernelspec": {
      "name": "python3",
      "display_name": "Python 3"
    }
  },
  "nbformat": 4,
  "nbformat_minor": 0
}