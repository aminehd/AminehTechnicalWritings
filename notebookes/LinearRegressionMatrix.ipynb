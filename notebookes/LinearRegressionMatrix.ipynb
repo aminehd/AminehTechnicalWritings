{
  "cells": [
    {
      "cell_type": "markdown",
      "metadata": {
        "id": "view-in-github",
        "colab_type": "text"
      },
      "source": [
        "<a href=\"https://colab.research.google.com/github/aminehd/AminehTechnicalWritings/blob/main/notebookes/LinearRegressionMatrix.ipynb\" target=\"_parent\"><img src=\"https://colab.research.google.com/assets/colab-badge.svg\" alt=\"Open In Colab\"/></a>"
      ]
    },
    {
      "cell_type": "markdown",
      "source": [
        "Outline\n",
        "- Load data in repo\n",
        "- Introduction (Purpose + scope)\n",
        "- Body\n",
        "  - Linear regression is solving linear equations approximately.\n",
        "     - Matrix notation of linear regression equations.\n",
        "     - build X matrix with loaded data\n",
        "     - Solve \" X β = y\"\n",
        "  - How to solve uncertain set of linear equations?\n",
        "  - The line fitting.\n",
        "  - Connection between method of least squares and the distribution of error terms.\n",
        "- Conclusion:\n",
        "- Appendix: Some linear algebra\n",
        "  - questions\n",
        "  - switch to another view: column space\n",
        "  - revisit two questions\n",
        "  - Go back a bit, what if no solution, what about projection ...\n",
        "  - rank of X, stuff about the projecting\n",
        "  - what if it has solution\n"
      ],
      "metadata": {
        "id": "dnGbKJ-RUUuM"
      }
    },
    {
      "cell_type": "markdown",
      "source": [],
      "metadata": {
        "id": "S7ukZ1whHh99"
      }
    },
    {
      "cell_type": "markdown",
      "source": [
        "##Git Setup"
      ],
      "metadata": {
        "id": "ShDhAWSsYB6R"
      }
    },
    {
      "cell_type": "code",
      "source": [
        "import google.colab\n",
        "repo_path = 'AminehTechnicalWritings'\n",
        "!git -C $repo_path pull origin || git clone https://github.com/aminehd/AminehTechnicalWritings/ $repo_path\n",
        "local_clone = '/content/' + repo_path\n",
        "!git config --global user.email \"amineh.dadsetan@gmail.com\"\n",
        "!git config --global user.name \"Amineh Dadsetan\""
      ],
      "metadata": {
        "id": "19DE6S_AX97z"
      },
      "execution_count": null,
      "outputs": []
    },
    {
      "cell_type": "code",
      "source": [
        "%load_ext autoreload\n",
        "%autoreload 2\n",
        "import sys\n",
        "sys.path.insert(1, '/content/AminehTechnicalWritings/src')\n",
        "import sampling_utils as su\n",
        "import numpy as np\n",
        "import matplotlib.pyplot as plt"
      ],
      "metadata": {
        "id": "5j4eSlknAHha"
      },
      "execution_count": null,
      "outputs": []
    },
    {
      "cell_type": "code",
      "source": [
        "population = su.get_population(local_clone + '/data/population.npz')\n",
        "population.shape"
      ],
      "metadata": {
        "id": "0W6vmWNrAOcm",
        "outputId": "c7110c90-0e68-4702-ae9b-40b1df3b398d",
        "colab": {
          "base_uri": "https://localhost:8080/"
        }
      },
      "execution_count": null,
      "outputs": [
        {
          "output_type": "execute_result",
          "data": {
            "text/plain": [
              "(300000, 2)"
            ]
          },
          "metadata": {},
          "execution_count": 3
        }
      ]
    },
    {
      "cell_type": "markdown",
      "source": [
        "## Introduction\n",
        "In this notebook, I would like to go through the linear regression concepts. It's in first chapter of all AI/ML books. Usually the author starts very inncocently by showing some plots of dots, scattered approximately along a line.\n",
        "\n",
        " Then they flash a bunch of matrixes at you. Just a bit before end of the chapter,  they make an apeal to you to believe it was all about Maximum liklihood framework and normal probability distribution, all along.\n",
        "\n",
        "  Maybe it's only me, but I'm always lost after the matrix notation.\n",
        " That's why I wanted to gain a cohesive understanding of the whole flow and how each step leads to another. This notebook is what I have learnt about it.\n",
        "\n",
        "\n",
        "I have created a [jupyter notebook](https://colab.research.google.com/github/aminehd/AminehTechnicalWritings/blob/main/DistributionsOfAspectsOfData.ipynb) to generate some random data.\n",
        "\n",
        "At the end of each notebook, I save artifact to the repo so we can load them in any subsequent notebook. 👾 📦\n",
        "\n",
        "The random data from  previous notebook follows the assumption of linear regression. This assumes that if you subtract a linear combination of predictors from the response, the result will have a standard normal distribution. Hence, you can fit a linear model to a given sample.\n",
        "\n",
        "\n",
        "\n",
        "It's important to pause a bit and notice the differenc of a given sample of size n and the whole population. Let's look at a given sample. ⏸\n",
        "\n",
        "\n",
        "\n",
        "\n"
      ],
      "metadata": {
        "id": "-GrjszX0UXVK"
      }
    },
    {
      "cell_type": "code",
      "source": [
        "\n",
        "sampler = su.PopulationSampler(population)\n",
        "x_samp_index, x_samples = sampler.set_sample_xs(100)\n",
        "resp = np.array(list(sampler.sample_response()))\n",
        "x, y = resp[:, 0], resp[:, 1]\n"
      ],
      "metadata": {
        "id": "OSu41WDF_GAe"
      },
      "execution_count": null,
      "outputs": []
    },
    {
      "cell_type": "code",
      "source": [
        "fix, axes = plt.subplots(ncols=2)\n",
        "# sample[:,0], sample[:,1]\n",
        "axes[0].scatter(x, y)\n",
        "axes[0].set_title('Sample distribution')\n",
        "axes[1].set_title('Population distribution')\n",
        "axes[1].scatter(population[:,0], population[:,1]);\n"
      ],
      "metadata": {
        "colab": {
          "base_uri": "https://localhost:8080/",
          "height": 452
        },
        "id": "C8IKsSGKKfew",
        "outputId": "c5625154-88e2-4197-ceef-d767ca138cec"
      },
      "execution_count": null,
      "outputs": [
        {
          "output_type": "display_data",
          "data": {
            "text/plain": [
              "<Figure size 640x480 with 2 Axes>"
            ],
            "image/png": "[encoded data removed]"
          },
          "metadata": {}
        }
      ]
    },
    {
      "cell_type": "markdown",
      "source": [
        "### Linear regression is solving linear equations approximately\n",
        "\n",
        "Plotting the responses versus predictors reveals a noticeable linear pattern, both in the sample and population datasets. In our case it faintly resembles a line in 2D space that can be described with two numbers: slope and intercept.\n",
        "\n",
        "Fitting a linear model to data is similar to solving n equations with p variables, with the goal of finding the coefficient.  There is  one small difference: fitting linear model is approximate, while solving system of linear equations is exact solutions.\n",
        "\n",
        "\n",
        "Going back to history of linear regression, the first use of fitting linear models to observed data originated from the field of astronomy. Scientists attempted to determine fixed parameters related to the positions and motions of celestial bodies based on astronomical data, under the assumption of a linear model.\n",
        "However, these observations were subject to errors, leading to instances where the equations had no solutions.\n",
        "\n",
        "Their trick was to introduce an error term, ensuring that the equations would always have at least one solution.\n",
        "\n",
        "Likewise, we can add an error term to the right side of our equations, ensuring that the system always has a solution. However, the caveat is that multiple solutions will exists, each with different error term values and we need to find a criteria that which set of errors are better overall. Or alternatively we can decide  which solution is more likely to be the correct one, if we have a distribution on the error terms.  But hold off on that that part and let's focus on the system of linear equations for now.\n",
        "\n",
        "\n",
        "\n",
        "The equations for a given sample of size n looks likes:\n",
        "$$\n",
        "\\begin{align}\n",
        "y_1 &= \\beta_1 x_{11} + \\cdots + \\beta_p x_{1p} + \\beta_0 + \\epsilon_1\\\\\n",
        "y_2 &= \\beta_1 x_{21} + \\cdots + \\beta_p x_{2p} + \\beta_0 + \\epsilon_2\\\\\n",
        "&\\vdots \\\\\n",
        "y_n &= \\beta_1 x_{n1} + \\cdots + \\beta_p x_{np}  + \\beta_0 + \\epsilon_n\n",
        "\\end{align}\n",
        "$$\n",
        "\n",
        "\n",
        "At this point the problem statement is more forma. In other word, asking to find the best line that fits the sample data is not as clear as asking to solve a set of linear equations. However, we haven't yet talked about how to solve them.\n",
        "\n",
        "Before delving into solving the linear equtions, lets see some algebraic interpretation of this.\n",
        "\n",
        "\n"
      ],
      "metadata": {
        "id": "P3AqCTUnDqE_"
      }
    },
    {
      "cell_type": "markdown",
      "source": [
        "### Matrix notation of linear regression.\n",
        "\n",
        "Samples are a set of tuples. To use linear algebra, we can switch to their notations, which is vectors and matrices.\n",
        "Each predictor can be viewed as a row vector, (e.g, $x_i = [ x_{i,1}, ..., x_{ip}]^T$.)  . It means predictors are n vecotres each of p dimensions. You can even stack them on top of each other: 🦣\n",
        "$$\n",
        "y =\n",
        "\\begin{bmatrix}\n",
        "y_1 \\\\\n",
        "y_2 \\\\\n",
        "\\vdots \\\\\n",
        "y_n\n",
        "\\end{bmatrix}\n",
        "=\n",
        "\\begin{bmatrix}\n",
        "x_{11} & x_{12} & \\ldots & x_{1p} \\\\\n",
        "x_{21} & x_{22} & \\ldots & x_{2p} \\\\\n",
        "\\vdots & \\vdots & \\ddots & \\vdots \\\\\n",
        "x_{n1} & x_{n2} & \\ldots & x_{np}\n",
        "\\end{bmatrix}\n",
        "\\begin{bmatrix}\n",
        "\\beta_1 \\\\\n",
        "\\vdots \\\\\n",
        "\\beta_p\n",
        "\\end{bmatrix}\n",
        "+\n",
        "\\begin{bmatrix}\n",
        "\\beta_0 \\\\\n",
        "\\beta_0 \\\\\n",
        "\\vdots \\\\\n",
        "\\beta_0\n",
        "\\end{bmatrix}\n",
        "+ ϵ$$\n",
        "\n",
        "You can see that the intercept is a vector that is n-times repeatition of $\\beta_0$ ( a bit awkward 🤷).\n",
        "\n",
        "A tiny trick helps putting $\\beta_0$ with rest of $\\beta_i$'s. At least help visually. 🎉 🧙\n",
        "$$\n",
        "y =\n",
        "\\begin{bmatrix}\n",
        "1 & x_{11} & x_{12} & \\ldots & x_{1p} \\\\\n",
        "1 & x_{21} & x_{22} & \\ldots & x_{2p} \\\\\n",
        "\\vdots &\\vdots & \\vdots & \\ddots & \\vdots \\\\\n",
        "1 & x_{n1} & x_{n2} & \\ldots & x_{np}\n",
        "\\end{bmatrix}\n",
        "\\begin{bmatrix}\n",
        "\\beta_0 \\\\\n",
        "\\vdots \\\\\n",
        "\\beta_p \\\\\n",
        "\\end{bmatrix}\n",
        "+ ϵ\n",
        "$$\n",
        "\n",
        "For ease, we refer to the above augmented matrix as $\\tilde{x}$:\n",
        "$$\n",
        "\\tilde{X} = \\begin{bmatrix}\n",
        "1 & x_{11} & x_{12} & \\ldots & x_{1p} \\\\\n",
        "1 & x_{21} & x_{22} & \\ldots & x_{2p} \\\\\n",
        "\\vdots &\\vdots & \\vdots & \\ddots & \\vdots \\\\\n",
        "1 & x_{n1} & x_{n2} & \\ldots & x_{np}\n",
        "\\end{bmatrix}\n",
        "$$\n",
        "Just to make it a bit easier, we rename $\\tilde{X}$ to X again. So by referring to $X$ we reffer to the augmented X.\n",
        "\n"
      ],
      "metadata": {
        "id": "lOKRikQQJdV6"
      }
    },
    {
      "cell_type": "markdown",
      "source": [
        "### build X matrix\n",
        "\n",
        "HERE!!! construct X from the data. Play with it\n",
        "\n",
        "\n"
      ],
      "metadata": {
        "id": "rchfxvM41TIM"
      }
    },
    {
      "cell_type": "markdown",
      "source": [
        "Lets build the X matrix\n"
      ],
      "metadata": {
        "id": "ICHlTFCJ1Nkr"
      }
    },
    {
      "cell_type": "code",
      "source": [
        "\n",
        "X = np.c_[np.ones(100), x]\n",
        "print(f\"Shape of X: {X.shape}\")\n",
        "print(f\"Rank of X: {np.linalg.matrix_rank(X)}\")\n",
        "\n"
      ],
      "metadata": {
        "id": "mHrQR0nhwTOa",
        "colab": {
          "base_uri": "https://localhost:8080/"
        },
        "outputId": "0bddf682-5413-4e9c-a54d-12400b809051"
      },
      "execution_count": null,
      "outputs": [
        {
          "output_type": "stream",
          "name": "stdout",
          "text": [
            "Shape of X: (100, 2)\n",
            "Rank of X: 2\n"
          ]
        }
      ]
    },
    {
      "cell_type": "code",
      "source": [],
      "metadata": {
        "id": "FMmg9L5Scwgt"
      },
      "execution_count": null,
      "outputs": []
    },
    {
      "cell_type": "markdown",
      "source": [
        "###  Solve \" X β + ϵ= y\"\n",
        "\n",
        "Putting all observation in a matrix, yields one line equation that is equivalent to solving the system of linear equations  that is :\n",
        "$$ \\textbf{X} \\beta + \\epsilon = y$$\n",
        "\n",
        "Solving such equation would have been a standard procedure, if there were no error term $\\epsilon$ or uncertanty in other words.\n",
        "\n",
        "Any solution of the matrix equation finds values for the $\\beta$ and values for $\\epsilon$.  Intuitively, we would like a solution that yields the minimum value of $\\epsilon$. But as $\\epsilon$ is an n-dimensional vector,  how do we compare them?\n",
        "\n",
        "One approach is to minimize $||\\epsilon||$ (the L2 norm of the vector), which equates to minimizing $||Ax - bX||$. Various techniques, like using derivatives, can achieve this minimization.\n",
        "\n",
        "\n",
        "\n",
        "HERE!!! my favorite approach is to project y into column space of X and solve it. link the appendix\n",
        "\n",
        "HERE!!! continue with second question and then move all X(XTX)-1 craziness to here, **name** my important eqs for easier reference\n",
        "\n",
        "2. If we solve $\\textbf{X} \\beta  = \\hat{y}$ and find a solution for $\\beta$ , and plug those values in $\\textbf{X} \\beta + \\epsilon = y$, resulting $\\epsilon = ||Ax -b ||$ is minimized. The intuitvive reason is that $\\hat{y}$ is closest point to $y$ that exist on the span.\n",
        "\n",
        "3. With all that being said, we need two steps: step one is to find $\\hat{y}$, and step two is solve $\\textbf{X} \\hat{\\beta}  = \\hat{y}$.\n",
        "\n",
        "2. To find such $\\hat{y}$, (closest point to $y$ on the column space of X) we can use a matrix that project any vector to vector space made by span of columns of X. This matrix is a change of basis to column space of $X$.\n",
        "\n",
        "3. Finding such matrix really depends on X features For example if X is a square matrix with all orthogonal columns, no such projection is needed cause X spans the whole dimension. If X has orthogonal columns but not square, that projection is $XX^T$. In general case it is $X(X^TX)^{-1}X^T$. Lets call this $X^+$ from now on.  The proof has to do with svd and stuff.\n",
        "\n",
        "\n",
        "Lets calculate $X^+$ for our sample. HERE!!!\n",
        "\n"
      ],
      "metadata": {
        "id": "cwhNfPNNkFAH"
      }
    },
    {
      "cell_type": "code",
      "source": [
        "X_plus = X @ np.linalg.inv(np.transpose(X) @ X) @ np.transpose(X)\n",
        "X_plus.shape\n",
        "y.shape\n",
        "y_hat = X_plus @ y"
      ],
      "metadata": {
        "id": "JHfWx2cPtnLd"
      },
      "execution_count": null,
      "outputs": []
    },
    {
      "cell_type": "markdown",
      "source": [
        "Based on the matrix notation, we can construct the matrix X:"
      ],
      "metadata": {
        "id": "NKt3SmFvLBge"
      }
    },
    {
      "cell_type": "markdown",
      "source": [
        "At this point we claim that `y_hat` is in the column space of X. In fact we also claim that `y_hat` is the prediction obtained my method of least square.\n",
        "\n"
      ],
      "metadata": {
        "id": "gEwyjQ4NEYah"
      }
    },
    {
      "cell_type": "code",
      "source": [
        "b, residuals, rank, s = np.linalg.lstsq(X, y, rcond=None)\n",
        "\n",
        "estimate_y = b[0] + b[1] * x\n",
        "print(f\"L2 norm of difference of estimat_y with y_hat: {np.sum(np.square(estimate_y - y_hat)):.2e}\")\n"
      ],
      "metadata": {
        "id": "fO_Hq8EyFRAu",
        "outputId": "e729d3a4-afb2-46f2-8e4a-75b425e2b645",
        "colab": {
          "base_uri": "https://localhost:8080/"
        }
      },
      "execution_count": null,
      "outputs": [
        {
          "output_type": "stream",
          "name": "stdout",
          "text": [
            "L2 norm of difference of estimat_y with y_hat: 8.94e-27\n"
          ]
        }
      ]
    },
    {
      "cell_type": "markdown",
      "source": [
        "As you can see the  norm of the distance of the estimated_y and y_hat is  almost 0 (8.94e-27). So to find estimated response, all you need is multiply `X_plus` by `y`.   Similarly you can  HERE!!!!!!!!"
      ],
      "metadata": {
        "id": "c3hXlWLcJcnv"
      }
    },
    {
      "cell_type": "markdown",
      "source": [
        "\n",
        "\n",
        "\n",
        "HERE!!!\n",
        "we arrive at:\n",
        "$${\\displaystyle {\\widehat {\\beta }}=(X^{\\operatorname {T} }X)^{-1}X^{\\operatorname {T} }y}$$\n",
        "HERE!!! Why the books calculate $\\hat{\\beta}$ instead of $\\{beta}$\n"
      ],
      "metadata": {
        "id": "dwygEhfQ_ky0"
      }
    },
    {
      "cell_type": "markdown",
      "source": [
        "### what motivates $||Ax -b ||$ as a loss function\n",
        "We formulate uncertainty as a vector $\\epsilon$ that sample from a normal distribution.\n",
        "If you like to see more reasoning behind why we picked $||Ax -b ||$ as lose function, or as a function to minimize, I can add some more to it. HERE!!!\n",
        "In context of linear regression, $\\widehat{ \\beta}$ is called [**ordinary least squares estimator**](https://en.wikipedia.org/wiki/Gauss%E2%80%93Markov_theorem).\n",
        "\n",
        "In fact under some assumption it is the BEST estimator. But what are those assumption and why is it so greate a estimator.\n",
        "The assumptions\n",
        "\n",
        "2. $\\epsilon_i$ has mean zero.\n",
        "3. $\\epsilon_i$ has same variance for all i: ${\\displaystyle \\operatorname {Var} (\\varepsilon _{i})=\\sigma ^{2}<\\infty }$\n",
        "4. Distinct error terms are uncorrelated\n",
        "\n",
        "\n",
        "In what sense is $ {\\widehat {\\beta }}$ the best estimator? First of all, it is best estimator among all linear and unbiased ones. That means\n",
        "1. $ {\\widehat {\\beta }}$ is linear in y ( i.e., ${\\displaystyle {\\widehat {\\beta }}_{j}=c_{1j}y_{1}+\\cdots +c_{nj}y_{n}}$)\n",
        "2. Being unbiased means ${\\displaystyle \\operatorname {E} \\left[{\\widehat {\\beta }}_{j}\\right]=\\beta _{j}}$. We demonstrate it with data in a bit\n",
        "\n",
        "The best linear unbiased estimator (BLUE) of the vector\n",
        "${\\displaystyle \\beta }$ of parameters\n",
        "${\\displaystyle \\beta _{j}}$ is one with the smallest mean squared error for every vector ${\\displaystyle \\lambda }$ of linear combination parameters. This is equivalent to the condition that (HERE!!! i didn't understand this from wikipedia)\n",
        "\n",
        "$${\\displaystyle \\operatorname {Var} \\left({\\widetilde {\\beta }}\\right)-\\operatorname {Var} \\left({\\widehat {\\beta }}\\right)}$$\n",
        "\n",
        "\n",
        "It turns out that the OLS estimator which is the best linear unbiased estimator  **Also** minimizes the sum of squares of residuals. Text books usually start with finding an estimator that minimizes the squares of residuals without explaining the BLUE.\n",
        "\n",
        "\n",
        "\n",
        "The OLS estimator also  maximizes the likelihood function (whatever that is) when the random errors are assumed to have normal distributions with the same variance.\n",
        "\n",
        "Statisticians typically motivate ordinary least squares by the [principle of maximum likelihood](https://en.wikipedia.org/wiki/Gauss%E2%80%93Markov_theorem)  because of this feature.\n",
        "\n",
        "HERE!!! use the loaded data to show XTX effect."
      ],
      "metadata": {
        "id": "lTtJjTtS_FI1"
      }
    },
    {
      "cell_type": "markdown",
      "source": [],
      "metadata": {
        "id": "Jsg_jA34--Zm"
      }
    },
    {
      "cell_type": "code",
      "source": [],
      "metadata": {
        "id": "ebHB_8C1ybVN"
      },
      "execution_count": null,
      "outputs": []
    },
    {
      "cell_type": "code",
      "source": [],
      "metadata": {
        "id": "XEJ7vNrd1E6E"
      },
      "execution_count": null,
      "outputs": []
    },
    {
      "cell_type": "markdown",
      "source": [
        "### Line fitting"
      ],
      "metadata": {
        "id": "5EkDqnBoybzL"
      }
    },
    {
      "cell_type": "markdown",
      "source": [
        "while it is nice to visualize the data point using second view, we mainly use the first view to solve the system of equations. Let's find such hyperplane for our sample data points ( or n vectors of 2-dimensional )"
      ],
      "metadata": {
        "id": "1zQD7KnbZLML"
      }
    },
    {
      "cell_type": "code",
      "source": [
        "# fit regression for sample of shape (30, 2)\n",
        "slope, intercept = np.polyfit(sample[:, 0], sample[:,1], 1)\n",
        "fig, ax = plt.subplots()\n",
        "ax.scatter(sample[:, 0], sample[:, 1])\n",
        "ax.plot(np.linspace(0, 10, 40), slope * np.linspace(0, 10, 40) + intercept, 'r')"
      ],
      "metadata": {
        "id": "QlszhiXB9uqc",
        "outputId": "1e960c2c-408f-491a-8d02-6a21794f2b6f",
        "colab": {
          "base_uri": "https://localhost:8080/",
          "height": 447
        }
      },
      "execution_count": null,
      "outputs": [
        {
          "output_type": "execute_result",
          "data": {
            "text/plain": [
              "[<matplotlib.lines.Line2D at 0x7886ef64c430>]"
            ]
          },
          "metadata": {},
          "execution_count": 15
        },
        {
          "output_type": "display_data",
          "data": {
            "text/plain": [
              "<Figure size 640x480 with 1 Axes>"
            ],
            "image/png": "[encoded data removed]"
          },
          "metadata": {}
        }
      ]
    },
    {
      "cell_type": "markdown",
      "source": [
        "## Connection between method of least squares and the Error terms\n",
        "\n",
        "Without the epsilon term, finding the regression parameters (or $\\beta_i$'s) looks like solving multiple linear equations and there is standard prodecures for it. But now what do we do with epsilon term.\n",
        "\n",
        "Let's take a look into the history of it.\n",
        "\n",
        "The method of least squares grew out of the fields of astronomy, as scientists tried to provide solutions to the challenges of navigating the Earth's oceans.\n",
        "\n",
        "Their astronomical observations were in form of lots of equations with lots of variables. But observations always have error in them. So there was cases that these equation do not have any solution. However, they really wanted a solution.\n",
        "\n",
        "Their trick was to add an error term, and expect that equations to always have some solution. Typically, multiple solutions exist, each with different error term values. The best solution is the one that minimizes the overall error.\n",
        "\n",
        "How to define the criterion for overal error term? Which function of error do we want to minimize? One possible such funtion is the sum of squares of errors. The modthod that finds the linear regression coefficients by minimizing the sum of square of errors is called method of least squares. Nowdays, method of least squares is part of Regression, particularly it is one possible loss function.\n",
        "\n",
        "\n",
        "The first clear and concise exposition of the method of least squares was published by [Legendre](https://en.wikipedia.org/wiki/Adrien-Marie_Legendre) in 1805.\n",
        "\n",
        "However, In 1809 Carl Friedrich Gauss published his method of calculating the orbits of celestial bodies.This naturally led to a priority dispute with Legendre. However, to Gauss's credit, he went beyond Legendre and succeeded in connecting the method of least squares with the principles of probability and to the normal distribution. We'll see how the method gets linked to the probability distribution of errors.\n",
        "\n",
        "But why method of least square is a good choice for finding the coefficients? the answer to this question depends on two things: firstly on the assumptions about error distribution, and secondly, on what are we looking for in a solution.  \n",
        "\n",
        "By picking a criterion for solving the equations, in practice, we find a estimate $\\hat{\\beta_j}$ for $\\beta_j$ in below equations. This estimate is a function of $X$ and $y$.\n",
        "\n",
        "$$\n",
        "\\begin{align}\n",
        "y_1 &= \\beta_1 x_{11} + \\cdots + \\beta_p x_{1p} + \\beta_0 + \\epsilon_1\\\\\n",
        "y_2 &= \\beta_1 x_{21} + \\cdots + \\beta_p x_{2p} + \\beta_0 + \\epsilon_2\\\\\n",
        "&\\vdots \\\\\n",
        "y_n &= \\beta_1 x_{n1} + \\cdots + \\beta_p x_{np}  + \\beta_0 + \\epsilon_n\n",
        "\\end{align}\n",
        "$$\n",
        "\n",
        "\n",
        "\n",
        "If we decide to minimize the sum of least square of errors, the estimator $\\hat{\\beta}$ will be called **ordinary least squares estimator (OLS)** and is below function\n",
        "$$\n",
        "\\beta_j =  (X^TX)^{-1}X^Ty\n",
        "$$\n",
        "\n",
        "⏰  Now, wait for it ..., it turns out that OLS is the **best unbiased linear estimator** or [BLUE](https://en.wikipedia.org/wiki/Gauss%E2%80%93Markov_theorem) under a few assumptions about the set of error random variables, $\\epsilon_i$:\n",
        "- They have mean zero: $E[\\epsilon_i]= 0$\n",
        "- They are homoscedastic, that is all have the same finite variance: $Var(\\epsilon_i) = \\sigma^2$ for all i and\n",
        "- Distinct error terms uncorrelated: $Cov(\\epsilon_i, \\epsilon_j) = 0, \\forall i \\neq j.$\n",
        "\n",
        "⭐ We can answer the question we asked a while ago: why method of least square is a good choice for finding the coefficients, specificaly when the error terms has a normal distribution?  Because under the assumption of normal distibution and uncorrelated error terms, the OLS estimator (that is result of using method of least squares) is going to be Best unbiased linear estimator or BLUE.\n",
        "\n",
        "🔹 The term BLUE suggests that there are other good estimators. OLS is the best one among the linear and unbiased ones. The fact that OLS estimator is linear in term of y's is easy to verify.\n",
        "\n",
        "However, we haven't explained what unbiased means.\n",
        "\n",
        "Here is an observation that helps answer above question:\n",
        "\n",
        "WHen there is no predictors and error follows normal distribution, mean of responses is what optimizes the sum of squared errors.\n",
        "In that case $y = [y_1, ..., y_n]^T$ and we would like to find best $\\beta_0$ to fit $y = \\hat{\\beta_0 }$. Then OLS would minimize $\\sum{(y_i - \\hat{\\beta_0})^2}$.\n",
        "\n",
        "If we use the $\\hat{\\beta_0}$ calculated for the sample to estimate the $\\beta_0$ for the whole population or better to say the real y for population, this estimation is *unbiased*. It means on average we expect $\\hat{\\beta_0}$ to equal to ${\\beta_0}$. Hence an unbiased estimator does not systemically over- or under-estimate the true value.\n",
        "\n",
        "So basically when predictors are 0 dimensional,  benefit of using method of least square as loss function, estimators would be unbiased over all samples.\n",
        "\n",
        "\n",
        "  In fact under the assumption of normally distributed errors, the least squares estimates have desirable properties such as being unbiased and having minimum variance among all linear estimators. That is one of the reasons that  method of least squares and normal distribution are tied together.\n",
        "  \n",
        "  \n",
        "\n",
        "\n",
        "\n",
        "## Conclusion\n",
        "We looked at linear regression problem in the form of solving multiple linear equations. Then we looked at two ways of interpreting a solution with matrixes (or linear spaces). Finally we contemplated on the error terms, method of least squares, and how the mothod is connected to the distribution of error terms.\n",
        "\n",
        "\n",
        "  \n",
        "  \n",
        "This concludes this not book. Next notebook we try to look at the model coefficients ($\\beta_i$'s ) as summary statistics defined on samples. You can also think of them as measures since samples are subsets.  \n",
        "\n",
        "Then we look at  expected value of sample statistices over multiple sampling. Also we look at variance of stuff within sample, and variance of sample   stat over several samplings. This indeed is an intersting case when sample stat is defined to be the mean of sample.\n",
        "\n",
        "\n",
        "These can help understand concept of Standard Error and F-test better.\n",
        "\n"
      ],
      "metadata": {
        "id": "20tdkyo3Vpf2"
      }
    },
    {
      "cell_type": "markdown",
      "source": [
        "## Appendix: Some linear algebra\n",
        "Consider this matrix equation:\n",
        "$$\\textbf{X} \\widehat{\\beta}  = \\widehat{y}$$\n",
        "$\\textbf{X}$ and $\\widehat{y}$ are known and the goal is to find unkonwn $\\widehat{\\beta}$.\n",
        "Most important question is  when  this equation have answer? To answer this question, let's switch to another view of the equation:\n",
        "\n",
        "\n",
        "A standard process is to exapnd the matrix notation as a scaled sum of columns of X.\n",
        "\n",
        "$$\n",
        "\\widehat{y} =\n",
        "\\mathbf{X}.\n",
        "\\begin{bmatrix}\n",
        "\\beta_0 \\\\\n",
        "\\vdots \\\\\n",
        "\\beta_p \\\\\n",
        "\\end{bmatrix}\n",
        "= \\\\\n",
        "\\beta_0 *\n",
        "\\begin{bmatrix}\n",
        "1\\\\\n",
        "1 \\\\\n",
        "\\vdots\\\\\n",
        "1\n",
        "\\end{bmatrix}\n",
        "+ \\cdots + \\beta_j *\n",
        "\\begin{bmatrix}\n",
        "x_{1j} \\\\\n",
        "x_{2j} \\\\\n",
        "\\vdots \\\\\n",
        "x_{nj}\n",
        "\\end{bmatrix} + \\cdots + \\beta_p *\n",
        "\\begin{bmatrix}\n",
        "x_{1p} \\\\\n",
        "x_{2p} \\\\\n",
        "\\vdots \\\\\n",
        "x_{np}\n",
        "\\end{bmatrix} + \\epsilon =\\\\\n",
        "\\sum_{i \\in [0, ...,p]} \\beta_i * \\mathbf{x}_i\n",
        "$$\n",
        "\n",
        "Not that $\\mathbf{x}_i$ denotes the i-th column of X.\n",
        "We just ended up with a $\\sum_{i \\in [0, ...,p]} \\beta_i * \\mathbf{x}_i $"
      ],
      "metadata": {
        "id": "KWHMu8ZeHkst"
      }
    },
    {
      "cell_type": "markdown",
      "source": [
        "The algebraic interpretation is to find a linear combination of these p + 1 vecotors. Two algebraic concepts pop up here first, linear **span** of a set of vectors, second column space of a matrix. Basically, X can be viewed as set of its column vectors.  Subsequently, column space of X is linear span of all of its columns $\\mathbf{x_i}$.\n",
        "\n",
        "To find $\\sum_{i \\in [0, ...,p]} \\beta_i * \\mathbf{x}_i = \\widehat{y}$ is to find a linear combination of columns of X that equals to $\\widehat{y}$.\n",
        "Lets revisit the question we asked above.\n",
        "\n",
        "**Question 1**: When does this equation have answer?\n",
        "\n",
        "**Answer**: The equation has answer if and only if $\\widehat{y}$ resists on the vector space of linear span of $\\mathbf{x_i}$'s.\n",
        "\n",
        "What if the equation doesn not have an answer? By the way this is why the linear regression equation has the $\\epsilon$ term in it meaning that there is no exact solution for matrix equation. Also this is the reason we denote **sample** regression coefficient by $\\widehat{\\beta}$ meaning that we don't have access to the exact $\\beta$.\n",
        "\n",
        "\n",
        "\n"
      ],
      "metadata": {
        "id": "7tbD1EalLaZW"
      }
    },
    {
      "cell_type": "markdown",
      "source": [
        "\n",
        "Lets work on another matrix equation that resembles **line fitting** equation:\n",
        "$$ \\textbf{X} {\\beta}  + \\epsilon= {y}$$\n",
        "\n",
        "The goal here is to come up with an  equation that always have an answer.  \n",
        "\n",
        " If y is not in column space of X, we can find closest $\\widehat{y}$ that is in the span of columns of $X$ and solve the equation for that:\n",
        " $$ \\textbf{X} \\widehat{\\beta}  = \\widehat{y}$$\n",
        "\n",
        "How can we project $y$ to columns space of $\\mathbf{X}$?\n",
        "1. Turns out it really depends. For example if $\\mathbf{X}$ is a square matrix, then every vector of right dimension is already on column space of $\\mathbf{X}$.\n",
        "\n",
        "2. If $\\mathbf{X}$ columns are orthonormal basis, $\\mathbf{X}\\mathbf{X}^T$ is desired projection.\n",
        "3. In the most general case $ \\mathbf{X}(\\mathbf{X}^T\\mathbf{X})^{-1}\\mathbf{X}^T$ is such a projection ( In fact a change of basis).\n",
        "\n",
        "\n",
        "Instead of finding $\\beta$, we set out to find $\\widehat{\\beta}$ in\n",
        "$$\\widehat{y} = \\mathbf{X}(\\mathbf{X}^T\\mathbf{X})^{-1}\\mathbf{X}^T y =  \\mathbf{X} \\widehat{\\beta}$$ 🤯\n",
        "\n",
        "\n",
        "\n",
        "\n",
        "\n",
        "HERE!!!! make a line for $\\mathbf{X}(\\mathbf{X}^T\\mathbf{X})^{-1}X^T$ and name it.\n",
        "While $\\mathbf{X}(\\mathbf{X}^T\\mathbf{X})^{-1}X^T y =  X \\widehat{\\beta}$ might have multiple solution, one trivial solution is $\\hat{\\beta} = (X^TX)^{-1}X^T y$ by removing X from the right and left side\n",
        "\n",
        "HERE!!!(easier way to arrive at it?what if y is in column space of X? does it simplify? see with data)\n",
        " HERE!!!\n",
        "**sources**\n",
        "1. https://en.wikipedia.org/wiki/Projection_(linear_algebra)#Formulas\n",
        "2. https://www-users.cse.umn.edu/~rejto/4242/4242_2final_sol3.pdf\n",
        "3. https://math.stackexchange.com/questions/1816364/the-svd-solution-to-linear-least-squares-linear-system-of-equations\n",
        "\n",
        "\n",
        "HERE!!! put all X(XTX)-1 craziness to here, **NAME** my important eqs for easier reference 🌨\n",
        "\n",
        "\n",
        "Now lets sample a set and try these matrices.\n",
        "Let's construct the  matrix X for the data we sampled. We can check some algebraic measures on matrix X then. I would suggest try to answer a few questions for yourself, such as\n",
        "1. what is the shape of X?\n",
        "2. what is the rank of X?"
      ],
      "metadata": {
        "id": "e-VLojeY2TMV"
      }
    }
  ],
  "metadata": {
    "language_info": {
      "name": "python"
    },
    "colab": {
      "provenance": [],
      "include_colab_link": true
    },
    "kernelspec": {
      "name": "python3",
      "display_name": "Python 3"
    }
  },
  "nbformat": 4,
  "nbformat_minor": 0
}