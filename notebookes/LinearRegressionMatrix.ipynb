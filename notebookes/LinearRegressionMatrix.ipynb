{
  "cells": [
    {
      "cell_type": "markdown",
      "metadata": {
        "id": "view-in-github",
        "colab_type": "text"
      },
      "source": [
        "<a href=\"https://colab.research.google.com/github/aminehd/AminehTechnicalWritings/blob/main/notebookes/LinearRegressionMatrix.ipynb\" target=\"_parent\"><img src=\"https://colab.research.google.com/assets/colab-badge.svg\" alt=\"Open In Colab\"/></a>"
      ]
    },
    {
      "cell_type": "markdown",
      "source": [
        "Outline\n",
        "- Load data in repo\n",
        "- Introduction (Purpose + scope)\n",
        "- Body\n",
        "  - Linear regression is solving linear equations approximately.\n",
        "     - Matrix notation of linear regression equations.\n",
        "     - Solve \" X β = y\"\n",
        "  - How to solve uncertain set of linear equations?\n",
        "  - The line fitting.\n",
        "  - Connection between method of least squares and the distribution of error terms.\n",
        "- Conclusion:"
      ],
      "metadata": {
        "id": "dnGbKJ-RUUuM"
      }
    },
    {
      "cell_type": "markdown",
      "source": [
        "##Git Setup"
      ],
      "metadata": {
        "id": "ShDhAWSsYB6R"
      }
    },
    {
      "cell_type": "code",
      "source": [
        "import google.colab\n",
        "repo_path = 'AminehTechnicalWritings'\n",
        "!git -C $repo_path pull origin || git clone https://github.com/aminehd/AminehTechnicalWritings/ $repo_path\n",
        "local_clone = '/content/' + repo_path\n",
        "!git config --global user.email \"amineh.dadsetan@gmail.com\"\n",
        "!git config --global user.name \"Amineh Dadsetan\""
      ],
      "metadata": {
        "id": "19DE6S_AX97z",
        "outputId": "c8b0971f-60e7-4771-c414-82fb2b4b8f3c",
        "colab": {
          "base_uri": "https://localhost:8080/"
        }
      },
      "execution_count": 1,
      "outputs": [
        {
          "output_type": "stream",
          "name": "stdout",
          "text": [
            "fatal: cannot change to 'AminehTechnicalWritings': No such file or directory\n",
            "Cloning into 'AminehTechnicalWritings'...\n",
            "remote: Enumerating objects: 323, done.\u001b[K\n",
            "remote: Counting objects: 100% (182/182), done.\u001b[K\n",
            "remote: Compressing objects: 100% (90/90), done.\u001b[K\n",
            "remote: Total 323 (delta 107), reused 152 (delta 89), pack-reused 141\u001b[K\n",
            "Receiving objects: 100% (323/323), 3.60 MiB | 10.12 MiB/s, done.\n",
            "Resolving deltas: 100% (186/186), done.\n"
          ]
        }
      ]
    },
    {
      "cell_type": "code",
      "source": [
        "%load_ext autoreload\n",
        "%autoreload 2\n",
        "import sys\n",
        "sys.path.insert(1, '/content/AminehTechnicalWritings/src')\n",
        "import sampling_utils as su"
      ],
      "metadata": {
        "id": "5j4eSlknAHha"
      },
      "execution_count": 2,
      "outputs": []
    },
    {
      "cell_type": "code",
      "source": [
        "population = su.get_population(local_clone + '/data/population.npz')\n",
        "population.shape"
      ],
      "metadata": {
        "id": "0W6vmWNrAOcm",
        "outputId": "7ef2526a-9ae5-4691-cc22-80601d2c932f",
        "colab": {
          "base_uri": "https://localhost:8080/"
        }
      },
      "execution_count": 3,
      "outputs": [
        {
          "output_type": "execute_result",
          "data": {
            "text/plain": [
              "(300000, 2)"
            ]
          },
          "metadata": {},
          "execution_count": 3
        }
      ]
    },
    {
      "cell_type": "markdown",
      "source": [
        "## Introduction\n",
        "In this notebook, I would like to go through the linear regression concepts. It's in first chapter of all AI/ML books. Usually the author starts very inncocently by showing some plots of dots, scattered approximately along a line.\n",
        "\n",
        " Then they flash a bunch of matrixes at you. Just a bit before end of the chapter,  they make an apeal to you to believe it was all about Maximum liklyhood framework and normal probability distribution, all along.\n",
        "\n",
        "  Maybe it's only me, but I'm always lost after the pages with 10 lines of matrix notation.\n",
        " That's why I wanted to gain a cohesive understanding of the whole flow. This notebook is what I have learnt about it.\n",
        "\n",
        "\n",
        "I have created a [jupyter notebook](https://colab.research.google.com/github/aminehd/AminehTechnicalWritings/blob/main/DistributionsOfAspectsOfData.ipynb) to generate some random data.\n",
        "\n",
        "At the end of each notebook, I save artifact to the repo so we can load them in any subsequent notebook. 👾 📦\n",
        "\n",
        "The random data from  previous notebook follows the assumption of linear regression. This assumes that if you subtract a linear combination of predictors from the response, the result will have a standard normal distribution. Hence, you can fit a linear model to a given sample.\n",
        "\n",
        "\n",
        "\n",
        "It's important to pause a bit and notice the differenc of a given sample of size n and the whole population. Let's look at a given sample. ⏸\n",
        "\n",
        "\n",
        "\n",
        "\n"
      ],
      "metadata": {
        "id": "-GrjszX0UXVK"
      }
    },
    {
      "cell_type": "code",
      "source": [
        "import numpy as np\n",
        "files = np.load(local_clone + '/population.npz')\n",
        "# sample = np.load(local_clone + '/sample.npy'\n",
        "population = files['arr_0']\n",
        "population.shape"
      ],
      "metadata": {
        "colab": {
          "base_uri": "https://localhost:8080/"
        },
        "id": "-r3NHJOxJL4N",
        "outputId": "b22c9622-7362-4b34-931c-17c1eb689596"
      },
      "execution_count": null,
      "outputs": [
        {
          "output_type": "execute_result",
          "data": {
            "text/plain": [
              "(300000, 2)"
            ]
          },
          "metadata": {},
          "execution_count": 2
        }
      ]
    },
    {
      "cell_type": "code",
      "source": [
        "n = 30\n",
        "sample_index = np.random.choice(population.shape[0], n)\n",
        "sample = population[sample_index];\n",
        "import matplotlib.pyplot as plt\n",
        "fix, axes = plt.subplots(ncols=2)\n",
        "# sample[:,0], sample[:,1]\n",
        "axes[0].scatter(sample[:,0], sample[:,1])\n",
        "axes[0].set_title('Sample distribution')\n",
        "axes[1].set_title('Population distribution')\n",
        "axes[1].scatter(population[:,0], population[:,1])"
      ],
      "metadata": {
        "colab": {
          "base_uri": "https://localhost:8080/",
          "height": 469
        },
        "id": "C8IKsSGKKfew",
        "outputId": "2c7d35bd-fdc0-42e3-b1de-38da83a89896"
      },
      "execution_count": null,
      "outputs": [
        {
          "output_type": "execute_result",
          "data": {
            "text/plain": [
              "<matplotlib.collections.PathCollection at 0x7879481a8a60>"
            ]
          },
          "metadata": {},
          "execution_count": 3
        },
        {
          "output_type": "display_data",
          "data": {
            "text/plain": [
              "<Figure size 640x480 with 2 Axes>"
            ],
            "image/png": "[encoded data removed]"
          },
          "metadata": {}
        }
      ]
    },
    {
      "cell_type": "markdown",
      "source": [
        "### Linear regression is solving linear equations approximately\n",
        "\n",
        "Plotting the responses versus predictors reveals a noticeable linear pattern, both in the sample and population datasets. The process of finding the linear relationship between predictors and responses is calle fitting a linear model.\n",
        "\n",
        "\n",
        "Fitting a linear model to data is similar to solving n equations with p variables, with the goal of finding the coefficient.  There is  one small difference: fitting linear model is approximate, while solving system of linear equations is exact solutions.\n",
        "\n",
        "\n",
        "Going back to history of linear regression, the first use of fitting linear models to observed data originated from the field of astronomy. Scientists attempted to determine fixed parameters related to the positions and motions of celestial bodies based on astronomical data, under the assumption of a linear model.\n",
        "However, these observations were subject to errors, leading to instances where the equations had no solutions.\n",
        "\n",
        "Their trick was to introduce an error term, ensuring that the equations would always have at least one solution.\n",
        "\n",
        "Likewise, we can add an error term to the right side of our equations, ensuring that the system always has a solution. However, the caveat is that multiple solutions will exists, each with different error term values and we need to find a criteria that which set of errors are better overall. Or alternatively we can decide  which solution is more likely to be the correct one, if we have a distribution on the error terms.  But hold off on that that part and let's focus on the system of linear equations for now.\n",
        "\n",
        "\n",
        "\n",
        "The equations for a given sample of size n looks likes:\n",
        "$$\n",
        "\\begin{align}\n",
        "y_1 &= \\beta_1 x_{11} + \\cdots + \\beta_p x_{1p} + \\beta_0 + \\epsilon_1\\\\\n",
        "y_2 &= \\beta_1 x_{21} + \\cdots + \\beta_p x_{2p} + \\beta_0 + \\epsilon_2\\\\\n",
        "&\\vdots \\\\\n",
        "y_n &= \\beta_1 x_{n1} + \\cdots + \\beta_p x_{np}  + \\beta_0 + \\epsilon_n\n",
        "\\end{align}\n",
        "$$\n",
        "\n",
        "\n",
        "### Matrix notation of linear regression.\n",
        "\n",
        "However, we have not used matrix notation yet. We have considered given sample as a set of size n.\n",
        "In contrast, using matrix notation would mean viewing a sample for a given feature,  as a single data point with n-dimensions and not a set anymore. You'll get p, n-dimensional vectors. You could also view a sample as n p-dimensinal vectors. But wait on that a bit.\n",
        "Using matrix notation: 🦣\n",
        "$$\n",
        "y =\n",
        "\\begin{bmatrix}\n",
        "y_1 \\\\\n",
        "y_2 \\\\\n",
        "\\vdots \\\\\n",
        "y_n\n",
        "\\end{bmatrix}\n",
        "=\n",
        "\\begin{bmatrix}\n",
        "x_{11} & x_{12} & \\ldots & x_{1p} \\\\\n",
        "x_{21} & x_{22} & \\ldots & x_{2p} \\\\\n",
        "\\vdots & \\vdots & \\ddots & \\vdots \\\\\n",
        "x_{n1} & x_{n2} & \\ldots & x_{np}\n",
        "\\end{bmatrix}\n",
        "\\begin{bmatrix}\n",
        "\\beta_1 \\\\\n",
        "\\vdots \\\\\n",
        "\\beta_p\n",
        "\\end{bmatrix}\n",
        "+\n",
        "\\begin{bmatrix}\n",
        "\\beta_0 \\\\\n",
        "\\beta_0 \\\\\n",
        "\\vdots \\\\\n",
        "\\beta_0\n",
        "\\end{bmatrix}\n",
        "+ ϵ$$\n",
        "\n",
        "A tiny trick helps putting $\\beta_0$ with rest of $\\beta_i$'s. At least help visually. 🎉 🧙\n",
        "$$\n",
        "y =\n",
        "\\begin{bmatrix}\n",
        "1 & x_{11} & x_{12} & \\ldots & x_{1p} \\\\\n",
        "1 & x_{21} & x_{22} & \\ldots & x_{2p} \\\\\n",
        "\\vdots &\\vdots & \\vdots & \\ddots & \\vdots \\\\\n",
        "1 & x_{n1} & x_{n2} & \\ldots & x_{np}\n",
        "\\end{bmatrix}\n",
        "\\begin{bmatrix}\n",
        "\\beta_0 \\\\\n",
        "\\vdots \\\\\n",
        "\\beta_p \\\\\n",
        "\\end{bmatrix}\n",
        "+ ϵ\n",
        "$$\n",
        "\n",
        "For ease, we refer to the above augmented matrix as $\\tilde{x}$:\n",
        "$$\n",
        "\\tilde{X} = \\begin{bmatrix}\n",
        "1 & x_{11} & x_{12} & \\ldots & x_{1p} \\\\\n",
        "1 & x_{21} & x_{22} & \\ldots & x_{2p} \\\\\n",
        "\\vdots &\\vdots & \\vdots & \\ddots & \\vdots \\\\\n",
        "1 & x_{n1} & x_{n2} & \\ldots & x_{np}\n",
        "\\end{bmatrix}\n",
        "$$\n",
        "With these being said,  finding coefficient in a linear regression is to find the unknown (p + 1) dimensional vector $\\beta$ in the equation $\\tilde{X} \\beta =  y$ , where $\\beta$ and $y$ are both vecotrs.\n",
        "\n",
        "Just to make it a bit easier, we rename $\\tilde{X}$ to X again. So by referring to $X$ we reffer to the augmented X.\n",
        "\n",
        "\n",
        "\n"
      ],
      "metadata": {
        "id": "P3AqCTUnDqE_"
      }
    },
    {
      "cell_type": "markdown",
      "source": [
        "### Solve \" X β + ϵ= y\"\n",
        "There is two linear algebraic interpretations of this:\n",
        "\n",
        "**First algebraic view**\n",
        "\n",
        "The first algebraic view can be that there is n vectors, each p + 1 dimensions. For $ 1< i < n$ , $x_i = [y_i, x_{i,1}, ..., x_{ip}]^T$.\n",
        "\n",
        "\n",
        "But you are not looking for linear combinations of x_i's to equal to equal to y. In fact you are looking for a plane with p dimensions that all x_i exists on it. consequently you are looking for p scalars that identify such plain.\n",
        "So we are hoping they all fall on a p dimensional plane becuase we think there are p basis that can span all n points. However the p dimensional plain doesnt have to pass vector 0, so we need p + 1 such scalars to determine where  the plain meets y axes for when all x's are 0.\n",
        "these  p + 1 numbers are going to determine such plain.\n",
        "\n",
        "while it is nice to visualize the data point using second view, we mainly use the first view to solve the system of equations. Let's find such hyperplane for our sample data points ( or n vectors of 2-dimensional )\n",
        "\n",
        "\n"
      ],
      "metadata": {
        "id": "Pxpe3yEJhAt_"
      }
    },
    {
      "cell_type": "markdown",
      "source": [
        "**Second algebraic view**\n",
        "Second interpretation is to have $p$ n-dimensional vectors where $\\mathbf{x}_0 = [1, 1, ..., 1]^T$ and for $j >0 $, $\\mathbf{x}_j = [x_{1i}, \\ldots, x_{nj}]^T$. Then one can expand the above formula to: 🤯\n",
        "\n",
        "$$\n",
        "y =\n",
        "\\begin{bmatrix}\n",
        "1 & x_{11} & x_{12} & \\ldots & x_{1p} \\\\\n",
        "1 & x_{21} & x_{22} & \\ldots & x_{2p} \\\\\n",
        "\\vdots &\\vdots & \\vdots & \\ddots & \\vdots \\\\\n",
        "1 & x_{n1} & x_{n2} & \\ldots & x_{np}\n",
        "\\end{bmatrix}\n",
        "\\begin{bmatrix}\n",
        "\\beta_0 \\\\\n",
        "\\vdots \\\\\n",
        "\\beta_p \\\\\n",
        "\\end{bmatrix}\n",
        "+ ϵ\n",
        "= \\\\\n",
        "\\beta_0 *\n",
        "\\begin{bmatrix}\n",
        "1\\\\\n",
        "1 \\\\\n",
        "\\vdots\\\\\n",
        "1\n",
        "\\end{bmatrix}\n",
        "+ \\cdots + \\beta_j *\n",
        "\\begin{bmatrix}\n",
        "x_{1j} \\\\\n",
        "x{2j} \\\\\n",
        "\\vdots \\\\\n",
        "x_{nj}\n",
        "\\end{bmatrix} + \\cdots + \\beta_p *\n",
        "\\begin{bmatrix}\n",
        "x_{1p} \\\\\n",
        "x_{2p} \\\\\n",
        "\\vdots \\\\\n",
        "x_{np}\n",
        "\\end{bmatrix} + \\epsilon =\\\\\n",
        "\\sum_{i \\in [0, ...,p]} \\beta_i * \\mathbf{x}_i\n",
        "$$\n",
        "\n",
        "The right hand of fomula is a linear combinations of all $\\mathbf{x}_i`s$ and the all one vector. The geometric interpretation of it is that we would like y to be in the hyperplane created by span of these $p + 1$ vectors. And subsequently write y as a linear combination of them.\n",
        "\n",
        "Now picture gets more clear. For example if  the $p +1 $ vectors  linearly independent, we can think of  them as a basis and thus writing y in terms of them is change of basis for y.\n",
        "\n",
        "Also, one one can see, the more feature there is compared to the sample size(n), the liklier it gets to have an answer because the vectors are gonna span more of the space.\n",
        "\n",
        "\n"
      ],
      "metadata": {
        "id": "j61xxxCfAC2X"
      }
    },
    {
      "cell_type": "markdown",
      "source": [
        "**Solution**\n",
        "\n",
        "\n",
        "Let's solve $y = X \\beta $ with no error term.\n",
        "\n",
        "There are multiple ways you can arrive at that. There is one that tries to minimize the $||Ax -b ||$ using deravitive.\n",
        "\n",
        "My favorite is one that uses some linear algebraic magic.\n",
        "I break it to three observations:\n",
        "1. The equation have a solution if and only if $y$ is in the column space of $X$.\n",
        "1. If y is not in column space of X, we can find closest $\\hat{y}$ that is in the span of columns of $X$ and solve the equation for that. Intuitively it makes sense that would minimize $||Ax -b ||$.\n",
        "2. To find such $\\hat{y}$ we can use a matrix that project any vector to vector space made by span of columns of X. This matrix is a change of basis to the basis of column space of $X$ anyway.\n",
        "\n",
        "3. Finding such matrix really depends on X features For example if X is a square matrix with all orthogonal columns, no such projection is needed cause X spans the whole dimension. If X has orthogonal columns but not square, that projection is $XX^T$. In general case it is $X(X^TX)^{-1}X^T$. The proof has to do with svd and stuff\n",
        "\n",
        "Lets pick a fairly big sample from population data set and construct X so as to calculate the projection matrix.\n",
        "\n",
        "\n"
      ],
      "metadata": {
        "id": "cwhNfPNNkFAH"
      }
    },
    {
      "cell_type": "code",
      "source": [
        "import numpy as np\n",
        "import matplotlib.pyplot as plt\n",
        "sampler = su.PopulationSampler(population)\n",
        "x_samp_index, x_samples = sampler.set_sample_xs(100)\n",
        "X = np.c_[np.ones(100), x_samples]"
      ],
      "metadata": {
        "id": "OSu41WDF_GAe"
      },
      "execution_count": 6,
      "outputs": []
    },
    {
      "cell_type": "markdown",
      "source": [
        "4. With all this, instead of finding $\\beta$ which is impossible, we set out to find $\\hat{\\beta}$ in $\\hat{y} = X(X^TX)^{-1}X^T y =  X \\hat{\\beta}$.\n",
        "\n",
        "5. While $X(X^TX)^{-1}X^T y =  X \\hat{\\beta}$ might have multiple solution, one trivial solution is $\\hat{\\beta} = (X^TX)^{-1}X^T y$ by removing X from the right and left side(easier way to arrive at it?what if y is in column space of X? does it simplify? see with data)\n",
        "Now lets sample a set and try these matrices. HERE!!!\n",
        "**sources**\n",
        "1. https://en.wikipedia.org/wiki/Projection_(linear_algebra)#Formulas\n",
        "2. https://www-users.cse.umn.edu/~rejto/4242/4242_2final_sol3.pdf\n",
        "3. https://math.stackexchange.com/questions/1816364/the-svd-solution-to-linear-least-squares-linear-system-of-equations\n",
        "\n",
        "\n",
        "HERE!!!\n",
        "we arrive at:\n",
        "$${\\displaystyle {\\widehat {\\beta }}=(X^{\\operatorname {T} }X)^{-1}X^{\\operatorname {T} }y}$$"
      ],
      "metadata": {
        "id": "dwygEhfQ_ky0"
      }
    },
    {
      "cell_type": "markdown",
      "source": [
        "### what motivates $||Ax -b ||$ as a loss function\n",
        "\n",
        "If you like to see more reasoning behind why we picked $||Ax -b ||$ as lose function, I can add some more to it. HERE!!!\n",
        "In context of linear regression, $\\widehat{ \\beta}$ is called [**ordinary least squares estimator**](https://en.wikipedia.org/wiki/Gauss%E2%80%93Markov_theorem).\n",
        "\n",
        "In fact under some assumption it is the BEST estimator. But what are those assumption and why is it so greate a estimator.\n",
        "The assumptions\n",
        "\n",
        "2. $\\epsilon_i$ has mean zero.\n",
        "3. $\\epsilon_i$ has same variance for all i: ${\\displaystyle \\operatorname {Var} (\\varepsilon _{i})=\\sigma ^{2}<\\infty }$\n",
        "4. Distinct error terms are uncorrelated\n",
        "\n",
        "\n",
        "In what sense is $ {\\widehat {\\beta }}$ the best estimator? First of all, it is best estimator among all linear and unbiased ones. That means\n",
        "1. $ {\\widehat {\\beta }}$ is linear in y ( i.e., ${\\displaystyle {\\widehat {\\beta }}_{j}=c_{1j}y_{1}+\\cdots +c_{nj}y_{n}}$)\n",
        "2. Being unbiased means ${\\displaystyle \\operatorname {E} \\left[{\\widehat {\\beta }}_{j}\\right]=\\beta _{j}}$. We demonstrate it with data in a bit\n",
        "\n",
        "The best linear unbiased estimator (BLUE) of the vector\n",
        "${\\displaystyle \\beta }$ of parameters\n",
        "${\\displaystyle \\beta _{j}}$ is one with the smallest mean squared error for every vector ${\\displaystyle \\lambda }$ of linear combination parameters. This is equivalent to the condition that (HERE!!! i didn't understand this from wikipedia)\n",
        "\n",
        "$${\\displaystyle \\operatorname {Var} \\left({\\widetilde {\\beta }}\\right)-\\operatorname {Var} \\left({\\widehat {\\beta }}\\right)}$$\n",
        "\n",
        "\n",
        "It turns out that the OLS estimator which is the best linear unbiased estimator  **Also** minimizes the sum of squares of residuals. Text books usually start with finding an estimator that minimizes the squares of residuals without explaining the BLUE.\n",
        "\n",
        "\n",
        "\n",
        "The OLS estimator also  maximizes the likelihood function (whatever that is) when the random errors are assumed to have normal distributions with the same variance.\n",
        "\n",
        "Statisticians typically motivate ordinary least squares by the [principle of maximum likelihood](https://en.wikipedia.org/wiki/Gauss%E2%80%93Markov_theorem)  because of this feature.\n",
        "\n",
        "HERE!!! use the loaded data to show XTX effect."
      ],
      "metadata": {
        "id": "lTtJjTtS_FI1"
      }
    },
    {
      "cell_type": "markdown",
      "source": [],
      "metadata": {
        "id": "Jsg_jA34--Zm"
      }
    },
    {
      "cell_type": "code",
      "source": [],
      "metadata": {
        "id": "ebHB_8C1ybVN"
      },
      "execution_count": null,
      "outputs": []
    },
    {
      "cell_type": "markdown",
      "source": [
        "### How to solve uncertain set of linear equations?\n",
        "We saw that finding regression coefficients is like solving $n$ equaltions with $p + 1$ variables but with some uncertainty.\n",
        "\n",
        "If there was no uncertainty involved the space of all such solutions is the dual of (p + 1 ) dimensional space . Then the answer solution for coefficients is the kernel of the Linear Transformation $X$ defined above.\n",
        "\n",
        "However, with uncertainty in picture, the kernel is not answer anymore. Now the problem definition changes a bit. So We have the trasnfromation X and the function RSS defined on ... (HERE!!!!!!!!!!!!! continue define the problem algebraically)\n",
        "\n",
        "\n"
      ],
      "metadata": {
        "id": "e7HXhSq8yfCc"
      }
    },
    {
      "cell_type": "code",
      "source": [],
      "metadata": {
        "id": "XEJ7vNrd1E6E"
      },
      "execution_count": null,
      "outputs": []
    },
    {
      "cell_type": "markdown",
      "source": [
        "### Line fitting"
      ],
      "metadata": {
        "id": "5EkDqnBoybzL"
      }
    },
    {
      "cell_type": "code",
      "source": [
        "# fit regression for sample of shape (30, 2)\n",
        "slope, intercept = np.polyfit(sample[:, 0], sample[:,1], 1)\n",
        "fig, ax = plt.subplots()\n",
        "ax.scatter(sample[:, 0], sample[:, 1])\n",
        "ax.plot(np.linspace(0, 10, 40), slope * np.linspace(0, 10, 40) + intercept, 'r')"
      ],
      "metadata": {
        "id": "QlszhiXB9uqc",
        "outputId": "1e960c2c-408f-491a-8d02-6a21794f2b6f",
        "colab": {
          "base_uri": "https://localhost:8080/",
          "height": 447
        }
      },
      "execution_count": null,
      "outputs": [
        {
          "output_type": "execute_result",
          "data": {
            "text/plain": [
              "[<matplotlib.lines.Line2D at 0x7886ef64c430>]"
            ]
          },
          "metadata": {},
          "execution_count": 15
        },
        {
          "output_type": "display_data",
          "data": {
            "text/plain": [
              "<Figure size 640x480 with 1 Axes>"
            ],
            "image/png": "[encoded data removed]"
          },
          "metadata": {}
        }
      ]
    },
    {
      "cell_type": "markdown",
      "source": [
        "## Connection between method of least squares and the Error terms\n",
        "\n",
        "Without the epsilon term, finding the regression parameters (or $\\beta_i$'s) looks like solving multiple linear equations and there is standard prodecures for it. But now what do we do with epsilon term.\n",
        "\n",
        "Let's take a look into the history of it.\n",
        "\n",
        "The method of least squares grew out of the fields of astronomy, as scientists tried to provide solutions to the challenges of navigating the Earth's oceans.\n",
        "\n",
        "Their astronomical observations were in form of lots of equations with lots of variables. But observations always have error in them. So there was cases that these equation do not have any solution. However, they really wanted a solution.\n",
        "\n",
        "Their trick was to add an error term, and expect that equations to always have some solution. Typically, multiple solutions exist, each with different error term values. The best solution is the one that minimizes the overall error.\n",
        "\n",
        "How to define the criterion for overal error term? Which function of error do we want to minimize? One possible such funtion is the sum of squares of errors. The modthod that finds the linear regression coefficients by minimizing the sum of square of errors is called method of least squares. Nowdays, method of least squares is part of Regression, particularly it is one possible loss function.\n",
        "\n",
        "\n",
        "The first clear and concise exposition of the method of least squares was published by [Legendre](https://en.wikipedia.org/wiki/Adrien-Marie_Legendre) in 1805.\n",
        "\n",
        "However, In 1809 Carl Friedrich Gauss published his method of calculating the orbits of celestial bodies.This naturally led to a priority dispute with Legendre. However, to Gauss's credit, he went beyond Legendre and succeeded in connecting the method of least squares with the principles of probability and to the normal distribution. We'll see how the method gets linked to the probability distribution of errors.\n",
        "\n",
        "But why method of least square is a good choice for finding the coefficients? the answer to this question depends on two things: firstly on the assumptions about error distribution, and secondly, on what are we looking for in a solution.  \n",
        "\n",
        "By picking a criterion for solving the equations, in practice, we find a estimate $\\hat{\\beta_j}$ for $\\beta_j$ in below equations. This estimate is a function of $X$ and $y$.\n",
        "\n",
        "$$\n",
        "\\begin{align}\n",
        "y_1 &= \\beta_1 x_{11} + \\cdots + \\beta_p x_{1p} + \\beta_0 + \\epsilon_1\\\\\n",
        "y_2 &= \\beta_1 x_{21} + \\cdots + \\beta_p x_{2p} + \\beta_0 + \\epsilon_2\\\\\n",
        "&\\vdots \\\\\n",
        "y_n &= \\beta_1 x_{n1} + \\cdots + \\beta_p x_{np}  + \\beta_0 + \\epsilon_n\n",
        "\\end{align}\n",
        "$$\n",
        "\n",
        "\n",
        "\n",
        "If we decide to minimize the sum of least square of errors, the estimator $\\hat{\\beta}$ will be called **ordinary least squares estimator (OLS)** and is below function\n",
        "$$\n",
        "\\beta_j =  (X^TX)^{-1}X^Ty\n",
        "$$\n",
        "\n",
        "⏰  Now, wait for it ..., it turns out that OLS is the **best unbiased linear estimator** or [BLUE](https://en.wikipedia.org/wiki/Gauss%E2%80%93Markov_theorem) under a few assumptions about the set of error random variables, $\\epsilon_i$:\n",
        "- They have mean zero: $E[\\epsilon_i]= 0$\n",
        "- They are homoscedastic, that is all have the same finite variance: $Var(\\epsilon_i) = \\sigma^2$ for all i and\n",
        "- Distinct error terms uncorrelated: $Cov(\\epsilon_i, \\epsilon_j) = 0, \\forall i \\neq j.$\n",
        "\n",
        "⭐ We can answer the question we asked a while ago: why method of least square is a good choice for finding the coefficients, specificaly when the error terms has a normal distribution?  Because under the assumption of normal distibution and uncorrelated error terms, the OLS estimator (that is result of using method of least squares) is going to be Best unbiased linear estimator or BLUE.\n",
        "\n",
        "🔹 The term BLUE suggests that there are other good estimators. OLS is the best one among the linear and unbiased ones. The fact that OLS estimator is linear in term of y's is easy to verify.\n",
        "\n",
        "However, we haven't explained what unbiased means.\n",
        "\n",
        "Here is an observation that helps answer above question:\n",
        "\n",
        "WHen there is no predictors and error follows normal distribution, mean of responses is what optimizes the sum of squared errors.\n",
        "In that case $y = [y_1, ..., y_n]^T$ and we would like to find best $\\beta_0$ to fit $y = \\hat{\\beta_0 }$. Then OLS would minimize $\\sum{(y_i - \\hat{\\beta_0})^2}$.\n",
        "\n",
        "If we use the $\\hat{\\beta_0}$ calculated for the sample to estimate the $\\beta_0$ for the whole population or better to say the real y for population, this estimation is *unbiased*. It means on average we expect $\\hat{\\beta_0}$ to equal to ${\\beta_0}$. Hence an unbiased estimator does not systemically over- or under-estimate the true value.\n",
        "\n",
        "So basically when predictors are 0 dimensional,  benefit of using method of least square as loss function, estimators would be unbiased over all samples.\n",
        "\n",
        "\n",
        "  In fact under the assumption of normally distributed errors, the least squares estimates have desirable properties such as being unbiased and having minimum variance among all linear estimators. That is one of the reasons that  method of least squares and normal distribution are tied together.\n",
        "  \n",
        "  \n",
        "\n",
        "\n",
        "\n",
        "## Conclusion\n",
        "We looked at linear regression problem in the form of solving multiple linear equations. Then we looked at two ways of interpreting a solution with matrixes (or linear spaces). Finally we contemplated on the error terms, method of least squares, and how the mothod is connected to the distribution of error terms.\n",
        "\n",
        "\n",
        "  \n",
        "  \n",
        "This concludes this not book. Next notebook we try to look at the model coefficients ($\\beta_i$'s ) as summary statistics defined on samples. You can also think of them as measures since samples are subsets.  \n",
        "\n",
        "Then we look at  expected value of sample statistices over multiple sampling. Also we look at variance of stuff within sample, and variance of sample   stat over several samplings. This indeed is an intersting case when sample stat is defined to be the mean of sample.\n",
        "\n",
        "\n",
        "These can help understand concept of Standard Error and F-test better.\n",
        "\n"
      ],
      "metadata": {
        "id": "20tdkyo3Vpf2"
      }
    }
  ],
  "metadata": {
    "language_info": {
      "name": "python"
    },
    "colab": {
      "provenance": [],
      "include_colab_link": true
    },
    "kernelspec": {
      "name": "python3",
      "display_name": "Python 3"
    }
  },
  "nbformat": 4,
  "nbformat_minor": 0
}