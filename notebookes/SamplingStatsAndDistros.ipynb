{
  "cells": [
    {
      "cell_type": "markdown",
      "metadata": {
        "id": "view-in-github",
        "colab_type": "text"
      },
      "source": [
        "<a href=\"https://colab.research.google.com/github/aminehd/AminehTechnicalWritings/blob/main/notebookes/SamplingStatsAndDistros.ipynb\" target=\"_parent\"><img src=\"https://colab.research.google.com/assets/colab-badge.svg\" alt=\"Open In Colab\"/></a>"
      ]
    },
    {
      "cell_type": "markdown",
      "source": [],
      "metadata": {
        "id": "hFS4V5a_Og4S"
      }
    },
    {
      "cell_type": "markdown",
      "source": [
        "Outline\n",
        "- Introduction (Purpose + scope)\n",
        "  - Load generated data from previous notebook\n",
        "- Body\n",
        "  - Sampling\n",
        "    - Population data set vs Sample data sets\n",
        "    - How to perform sampling given values for a set of predictors\n",
        "  - Sample statistic\n",
        "    - Sample Statistic and examples\n",
        "    - Sampling distribution of statistics. (use sample mean as example)\n",
        "    - Graph sampling disribution of mu and beta0 for generated data\n",
        "  - Expected value, variance and standard error of sample statistic\n",
        "    - Expected value of summary statistics (HERE!!!)\n",
        "    - Variance of summary statistic\n",
        "    - Variance within a sample vs variance of a given stat over samplings\n",
        "    - Standrad Error of stats and confidence interval. (SE(beta0))\n",
        "  - standard error of coefficient ( what is the granularity, what input needed\n",
        "  F-test (within groups variance vs between group variance)\n",
        "- Conclusion:"
      ],
      "metadata": {
        "id": "92zCY3yPJ9lL"
      }
    },
    {
      "cell_type": "markdown",
      "source": [
        "## Git setup and data load, import utilities\n",
        "This notbook along with data it uses is saved under a git repo.\n",
        "It makes it easier for developing to  clone the repo in the colab space.\n"
      ],
      "metadata": {
        "id": "32JOiZD_Ga8p"
      }
    },
    {
      "cell_type": "code",
      "source": [
        "import google.colab\n",
        "repo_path = 'AminehTechnicalWritings'\n",
        "!git -C $repo_path pull origin || git clone https://github.com/aminehd/AminehTechnicalWritings/ $repo_path\n",
        "local_clone = '/content/' + repo_path\n",
        "!git config --global user.email \"amineh.dadsetan@gmail.com\"\n",
        "!git config --global user.name \"Amineh Dadsetan\";"
      ],
      "metadata": {
        "id": "noffZ0wtGZku"
      },
      "execution_count": null,
      "outputs": []
    },
    {
      "cell_type": "markdown",
      "source": [
        "We can import the utilites implemented in the repo."
      ],
      "metadata": {
        "id": "PAl1aLllqkfC"
      }
    },
    {
      "cell_type": "code",
      "source": [
        "%load_ext autoreload\n",
        "%autoreload 2\n",
        "import sys\n",
        "sys.path.insert(1, '/content/AminehTechnicalWritings/src')\n",
        "import sampling_utils as su"
      ],
      "metadata": {
        "id": "6Pg8xiwNqj7k",
        "outputId": "184ca453-7b9a-4a85-b8cb-c18996cf54d1",
        "colab": {
          "base_uri": "https://localhost:8080/"
        }
      },
      "execution_count": null,
      "outputs": [
        {
          "output_type": "stream",
          "name": "stdout",
          "text": [
            "The autoreload extension is already loaded. To reload it, use:\n",
            "  %reload_ext autoreload\n"
          ]
        }
      ]
    },
    {
      "cell_type": "markdown",
      "source": [
        "We can use methods implemented in `sampling_utils` module to load the generated population data."
      ],
      "metadata": {
        "id": "E89kYgdFqeEK"
      }
    },
    {
      "cell_type": "code",
      "source": [
        "population = su.get_population(local_clone + '/data/population.npz')\n",
        "population.shape"
      ],
      "metadata": {
        "id": "rAx5tYe5GnY9",
        "outputId": "b534173a-d7c0-4a2a-c62d-1c233d650e41",
        "colab": {
          "base_uri": "https://localhost:8080/"
        }
      },
      "execution_count": null,
      "outputs": [
        {
          "output_type": "execute_result",
          "data": {
            "text/plain": [
              "(300000, 2)"
            ]
          },
          "metadata": {},
          "execution_count": 15
        }
      ]
    },
    {
      "cell_type": "markdown",
      "source": [
        "### Population data set vs Sample data sets\n",
        "\n",
        "Previously we explained the concept of population and the concept of sample. Basically we have one population (e.g., population of American people) but we can sample a subset in many ways (e.g., sample of America people under age 18, sample of American people living in new your, etc).\n",
        "\n",
        "In fact if N is population size, there is $2^N$ samples.\n",
        "\n",
        "Now a statistic or measure can be defined on the whole population as well as any given sample. A statistic or a measure in mathematic is a generalization of concepts such as lenght or heigh for a given set. Since samples and the population are sets, we can define such things on them. A well known one is mean. Thus you can think of population mean or any given sample mean.\n",
        "\n",
        "So far it was fairly easy to explain things. But it gets a bit trickier when we wanna talk about the distribution of such measures over allll samples and compare them with the value of measure on the poulation.\n",
        "\n",
        "The motivation behind sampling and calculating sample statistics is that population is too big and it is virtually impossible to calculate statistics such as mean for the whole population. Let's say as a minister of something you need the average age of your population.  It sounds quite impossible to get everybody's ages and calculate their mean.\n",
        "\n",
        "What you want to do is to take a sample of the whole poulations that is a good representetive of the whole sample. Let's say you invite people randomly to answer your question and everybody got same chance of being asked. Then one can find the average age for the people in the sample. This won't be exactly equal to the population mean. However you can argue this is a good estimate of the average age of the whole population. But the question is how good is this estimate? how close it is gonna be to the correct answer and how likely?\n",
        "\n",
        "\n",
        "\n"
      ],
      "metadata": {
        "id": "PxAQonrAJ4Rv"
      }
    },
    {
      "cell_type": "markdown",
      "source": [
        "### How to perform sampling given values for a set of predictors\n",
        "\n",
        "\n",
        "A sample is a set of observations. Each observation consisting of predictors and a response. In the current context, we are interested in the set of all samples, that share the very same set of predictors.\n",
        "A question may arise that how is it possible to have same set of predictors but different responses, aren't predictors going to determined the response after all? Answer is that although there is a strong relationship response between predictors and response, there is uncertainty in the model as well that we call irreducable error.\n",
        "\n",
        "Lets use our data set. The predictors are kept in `population[:,0]`, one dimensional numbers, ranging from 1 to 10. Let's pick a set of distinct predictors of size 100 called `x_samples`. I use `np.linspace` to sample 100 evenly spaced x's.\n",
        "\n"
      ],
      "metadata": {
        "id": "bk7tGdeg2uis"
      }
    },
    {
      "cell_type": "code",
      "source": [
        "\n",
        "\n",
        "sampler = su.PopulationSampler(population)"
      ],
      "metadata": {
        "id": "m4AZzCu1f6B1"
      },
      "execution_count": null,
      "outputs": []
    },
    {
      "cell_type": "code",
      "source": [
        "x_samp_index, x_samples = sampler.set_sample_xs(100)\n",
        "\n"
      ],
      "metadata": {
        "id": "zCDURIavHXqp"
      },
      "execution_count": null,
      "outputs": []
    },
    {
      "cell_type": "markdown",
      "source": [
        "Now let's sample responses for given set of predictors. I use a method called `sample_response` that takes set of predictors, the whole population, as well as a rand generator."
      ],
      "metadata": {
        "id": "ethR8N-tJBj2"
      }
    },
    {
      "cell_type": "code",
      "source": [
        "# HERE!!!!!!! Clean up codes that import sampler and continue writing\n",
        "# develop useful utils\n",
        "y_for_x_samples = np.array(list(sampler.sample_response()))\n"
      ],
      "metadata": {
        "id": "eMzW6EcQIVNh"
      },
      "execution_count": null,
      "outputs": []
    },
    {
      "cell_type": "code",
      "source": [
        "import matplotlib.pyplot as plt\n",
        "fig, ax = plt.subplots(ncols=3)\n",
        "ax[0].scatter(y_for_x_samples[:,0], y_for_x_samples[:,1] )\n",
        "# ax[1] = ax[0].twinx()\n",
        "# ax[1].axhlhine(y=np.mean(y_for_x_samples[:,1]), color='r')\n",
        "ax[1].hist(y_for_x_samples[:,1], bins=40)\n",
        "mean = np.mean(y_for_x_samples[:,1])\n",
        "ax[0].axhline(y=mean, color='r')"
      ],
      "metadata": {
        "id": "4cemphAOJLfw",
        "outputId": "5fef9850-e26d-400f-8c49-4a12022f5338",
        "colab": {
          "base_uri": "https://localhost:8080/",
          "height": 452
        }
      },
      "execution_count": null,
      "outputs": [
        {
          "output_type": "execute_result",
          "data": {
            "text/plain": [
              "<matplotlib.lines.Line2D at 0x7a38ee857c10>"
            ]
          },
          "metadata": {},
          "execution_count": 13
        },
        {
          "output_type": "display_data",
          "data": {
            "text/plain": [
              "<Figure size 640x480 with 3 Axes>"
            ],
            "image/png": "[encoded data removed]"
          },
          "metadata": {}
        }
      ]
    },
    {
      "cell_type": "markdown",
      "source": [
        "Let's repeat the sampling for many times to collect some means."
      ],
      "metadata": {
        "id": "f6dbZjc2dM56"
      }
    },
    {
      "cell_type": "code",
      "source": [
        "means = []\n",
        "for i in range(10000):\n",
        "  y_for_x_samples = np.array(list(sample_response(x_samp_index, population, rand_gen)))\n",
        "  means.append(np.mean(y_for_x_samples[:,1]))\n",
        "\n",
        "fig, ax = plt.subplots(ncols=3)\n",
        "ax[0].hist(means, bins=40);\n"
      ],
      "metadata": {
        "colab": {
          "base_uri": "https://localhost:8080/",
          "height": 435
        },
        "id": "8phLoqz4ed2z",
        "outputId": "954237c5-f7fe-4583-dbdf-691ea77a6ac8"
      },
      "execution_count": null,
      "outputs": [
        {
          "output_type": "display_data",
          "data": {
            "text/plain": [
              "<Figure size 640x480 with 3 Axes>"
            ],
            "image/png": "[encoded data removed]"
          },
          "metadata": {}
        }
      ]
    },
    {
      "cell_type": "markdown",
      "source": [
        "### Sample statistic and their sampling disribution\n",
        "\n",
        "ADD definition of sampling distribution + explain what is the process of sampling involved to graph a sampling distribution of a measure such as mu (HERE!!!)\n",
        "\n",
        "Let's look at the population mean and sample mean for the data set we have created in previous notebooks.\n",
        "\n",
        "\n",
        "We have got a array of sample means.\n",
        "Let's inspect into that array."
      ],
      "metadata": {
        "id": "Gs_KFHzeFMGo"
      }
    },
    {
      "cell_type": "code",
      "source": [
        "import pandas as pd\n",
        "import pandas as pd\n",
        "means = np.array(means)\n",
        "df = pd.DataFrame(means)\n",
        "df.describe()"
      ],
      "metadata": {
        "id": "GWIRLbI9GE8G",
        "outputId": "5e4fd52a-c51b-4e9e-f0d7-bb3fa0d9c694",
        "colab": {
          "base_uri": "https://localhost:8080/",
          "height": 300
        }
      },
      "execution_count": null,
      "outputs": [
        {
          "output_type": "execute_result",
          "data": {
            "text/plain": [
              "                  0\n",
              "count  10000.000000\n",
              "mean      14.695273\n",
              "std        0.100274\n",
              "min       14.271060\n",
              "25%       14.627124\n",
              "50%       14.696712\n",
              "75%       14.762512\n",
              "max       15.053838"
            ],
            "text/html": [
              "\n",
              "  <div id=\"df-fcf3e03d-7251-46bd-893c-ff40cc9ac010\" class=\"colab-df-container\">\n",
              "    <div>\n",
              "<style scoped>\n",
              "    .dataframe tbody tr th:only-of-type {\n",
              "        vertical-align: middle;\n",
              "    }\n",
              "\n",
              "    .dataframe tbody tr th {\n",
              "        vertical-align: top;\n",
              "    }\n",
              "\n",
              "    .dataframe thead th {\n",
              "        text-align: right;\n",
              "    }\n",
              "</style>\n",
              "<table border=\"1\" class=\"dataframe\">\n",
              "  <thead>\n",
              "    <tr style=\"text-align: right;\">\n",
              "      <th></th>\n",
              "      <th>0</th>\n",
              "    </tr>\n",
              "  </thead>\n",
              "  <tbody>\n",
              "    <tr>\n",
              "      <th>count</th>\n",
              "      <td>10000.000000</td>\n",
              "    </tr>\n",
              "    <tr>\n",
              "      <th>mean</th>\n",
              "      <td>14.695273</td>\n",
              "    </tr>\n",
              "    <tr>\n",
              "      <th>std</th>\n",
              "      <td>0.100274</td>\n",
              "    </tr>\n",
              "    <tr>\n",
              "      <th>min</th>\n",
              "      <td>14.271060</td>\n",
              "    </tr>\n",
              "    <tr>\n",
              "      <th>25%</th>\n",
              "      <td>14.627124</td>\n",
              "    </tr>\n",
              "    <tr>\n",
              "      <th>50%</th>\n",
              "      <td>14.696712</td>\n",
              "    </tr>\n",
              "    <tr>\n",
              "      <th>75%</th>\n",
              "      <td>14.762512</td>\n",
              "    </tr>\n",
              "    <tr>\n",
              "      <th>max</th>\n",
              "      <td>15.053838</td>\n",
              "    </tr>\n",
              "  </tbody>\n",
              "</table>\n",
              "</div>\n",
              "    <div class=\"colab-df-buttons\">\n",
              "\n",
              "  <div class=\"colab-df-container\">\n",
              "    <button class=\"colab-df-convert\" onclick=\"convertToInteractive('df-fcf3e03d-7251-46bd-893c-ff40cc9ac010')\"\n",
              "            title=\"Convert this dataframe to an interactive table.\"\n",
              "            style=\"display:none;\">\n",
              "\n",
              "  <svg xmlns=\"http://www.w3.org/2000/svg\" height=\"24px\" viewBox=\"0 -960 960 960\">\n",
              "    <path d=\"M120-120v-720h720v720H120Zm60-500h600v-160H180v160Zm220 220h160v-160H400v160Zm0 220h160v-160H400v160ZM180-400h160v-160H180v160Zm440 0h160v-160H620v160ZM180-180h160v-160H180v160Zm440 0h160v-160H620v160Z\"/>\n",
              "  </svg>\n",
              "    </button>\n",
              "\n",
              "  <style>\n",
              "    .colab-df-container {\n",
              "      display:flex;\n",
              "      gap: 12px;\n",
              "    }\n",
              "\n",
              "    .colab-df-convert {\n",
              "      background-color: #E8F0FE;\n",
              "      border: none;\n",
              "      border-radius: 50%;\n",
              "      cursor: pointer;\n",
              "      display: none;\n",
              "      fill: #1967D2;\n",
              "      height: 32px;\n",
              "      padding: 0 0 0 0;\n",
              "      width: 32px;\n",
              "    }\n",
              "\n",
              "    .colab-df-convert:hover {\n",
              "      background-color: #E2EBFA;\n",
              "      box-shadow: 0px 1px 2px rgba(60, 64, 67, 0.3), 0px 1px 3px 1px rgba(60, 64, 67, 0.15);\n",
              "      fill: #174EA6;\n",
              "    }\n",
              "\n",
              "    .colab-df-buttons div {\n",
              "      margin-bottom: 4px;\n",
              "    }\n",
              "\n",
              "    [theme=dark] .colab-df-convert {\n",
              "      background-color: #3B4455;\n",
              "      fill: #D2E3FC;\n",
              "    }\n",
              "\n",
              "    [theme=dark] .colab-df-convert:hover {\n",
              "      background-color: #434B5C;\n",
              "      box-shadow: 0px 1px 3px 1px rgba(0, 0, 0, 0.15);\n",
              "      filter: drop-shadow(0px 1px 2px rgba(0, 0, 0, 0.3));\n",
              "      fill: #FFFFFF;\n",
              "    }\n",
              "  </style>\n",
              "\n",
              "    <script>\n",
              "      const buttonEl =\n",
              "        document.querySelector('#df-fcf3e03d-7251-46bd-893c-ff40cc9ac010 button.colab-df-convert');\n",
              "      buttonEl.style.display =\n",
              "        google.colab.kernel.accessAllowed ? 'block' : 'none';\n",
              "\n",
              "      async function convertToInteractive(key) {\n",
              "        const element = document.querySelector('#df-fcf3e03d-7251-46bd-893c-ff40cc9ac010');\n",
              "        const dataTable =\n",
              "          await google.colab.kernel.invokeFunction('convertToInteractive',\n",
              "                                                    [key], {});\n",
              "        if (!dataTable) return;\n",
              "\n",
              "        const docLinkHtml = 'Like what you see? Visit the ' +\n",
              "          '<a target=\"_blank\" href=https://colab.research.google.com/notebooks/data_table.ipynb>data table notebook</a>'\n",
              "          + ' to learn more about interactive tables.';\n",
              "        element.innerHTML = '';\n",
              "        dataTable['output_type'] = 'display_data';\n",
              "        await google.colab.output.renderOutput(dataTable, element);\n",
              "        const docLink = document.createElement('div');\n",
              "        docLink.innerHTML = docLinkHtml;\n",
              "        element.appendChild(docLink);\n",
              "      }\n",
              "    </script>\n",
              "  </div>\n",
              "\n",
              "\n",
              "<div id=\"df-9276bbab-54f8-4059-9fae-0f3816b0a0d8\">\n",
              "  <button class=\"colab-df-quickchart\" onclick=\"quickchart('df-9276bbab-54f8-4059-9fae-0f3816b0a0d8')\"\n",
              "            title=\"Suggest charts\"\n",
              "            style=\"display:none;\">\n",
              "\n",
              "<svg xmlns=\"http://www.w3.org/2000/svg\" height=\"24px\"viewBox=\"0 0 24 24\"\n",
              "     width=\"24px\">\n",
              "    <g>\n",
              "        <path d=\"M19 3H5c-1.1 0-2 .9-2 2v14c0 1.1.9 2 2 2h14c1.1 0 2-.9 2-2V5c0-1.1-.9-2-2-2zM9 17H7v-7h2v7zm4 0h-2V7h2v10zm4 0h-2v-4h2v4z\"/>\n",
              "    </g>\n",
              "</svg>\n",
              "  </button>\n",
              "\n",
              "<style>\n",
              "  .colab-df-quickchart {\n",
              "      --bg-color: #E8F0FE;\n",
              "      --fill-color: #1967D2;\n",
              "      --hover-bg-color: #E2EBFA;\n",
              "      --hover-fill-color: #174EA6;\n",
              "      --disabled-fill-color: #AAA;\n",
              "      --disabled-bg-color: #DDD;\n",
              "  }\n",
              "\n",
              "  [theme=dark] .colab-df-quickchart {\n",
              "      --bg-color: #3B4455;\n",
              "      --fill-color: #D2E3FC;\n",
              "      --hover-bg-color: #434B5C;\n",
              "      --hover-fill-color: #FFFFFF;\n",
              "      --disabled-bg-color: #3B4455;\n",
              "      --disabled-fill-color: #666;\n",
              "  }\n",
              "\n",
              "  .colab-df-quickchart {\n",
              "    background-color: var(--bg-color);\n",
              "    border: none;\n",
              "    border-radius: 50%;\n",
              "    cursor: pointer;\n",
              "    display: none;\n",
              "    fill: var(--fill-color);\n",
              "    height: 32px;\n",
              "    padding: 0;\n",
              "    width: 32px;\n",
              "  }\n",
              "\n",
              "  .colab-df-quickchart:hover {\n",
              "    background-color: var(--hover-bg-color);\n",
              "    box-shadow: 0 1px 2px rgba(60, 64, 67, 0.3), 0 1px 3px 1px rgba(60, 64, 67, 0.15);\n",
              "    fill: var(--button-hover-fill-color);\n",
              "  }\n",
              "\n",
              "  .colab-df-quickchart-complete:disabled,\n",
              "  .colab-df-quickchart-complete:disabled:hover {\n",
              "    background-color: var(--disabled-bg-color);\n",
              "    fill: var(--disabled-fill-color);\n",
              "    box-shadow: none;\n",
              "  }\n",
              "\n",
              "  .colab-df-spinner {\n",
              "    border: 2px solid var(--fill-color);\n",
              "    border-color: transparent;\n",
              "    border-bottom-color: var(--fill-color);\n",
              "    animation:\n",
              "      spin 1s steps(1) infinite;\n",
              "  }\n",
              "\n",
              "  @keyframes spin {\n",
              "    0% {\n",
              "      border-color: transparent;\n",
              "      border-bottom-color: var(--fill-color);\n",
              "      border-left-color: var(--fill-color);\n",
              "    }\n",
              "    20% {\n",
              "      border-color: transparent;\n",
              "      border-left-color: var(--fill-color);\n",
              "      border-top-color: var(--fill-color);\n",
              "    }\n",
              "    30% {\n",
              "      border-color: transparent;\n",
              "      border-left-color: var(--fill-color);\n",
              "      border-top-color: var(--fill-color);\n",
              "      border-right-color: var(--fill-color);\n",
              "    }\n",
              "    40% {\n",
              "      border-color: transparent;\n",
              "      border-right-color: var(--fill-color);\n",
              "      border-top-color: var(--fill-color);\n",
              "    }\n",
              "    60% {\n",
              "      border-color: transparent;\n",
              "      border-right-color: var(--fill-color);\n",
              "    }\n",
              "    80% {\n",
              "      border-color: transparent;\n",
              "      border-right-color: var(--fill-color);\n",
              "      border-bottom-color: var(--fill-color);\n",
              "    }\n",
              "    90% {\n",
              "      border-color: transparent;\n",
              "      border-bottom-color: var(--fill-color);\n",
              "    }\n",
              "  }\n",
              "</style>\n",
              "\n",
              "  <script>\n",
              "    async function quickchart(key) {\n",
              "      const quickchartButtonEl =\n",
              "        document.querySelector('#' + key + ' button');\n",
              "      quickchartButtonEl.disabled = true;  // To prevent multiple clicks.\n",
              "      quickchartButtonEl.classList.add('colab-df-spinner');\n",
              "      try {\n",
              "        const charts = await google.colab.kernel.invokeFunction(\n",
              "            'suggestCharts', [key], {});\n",
              "      } catch (error) {\n",
              "        console.error('Error during call to suggestCharts:', error);\n",
              "      }\n",
              "      quickchartButtonEl.classList.remove('colab-df-spinner');\n",
              "      quickchartButtonEl.classList.add('colab-df-quickchart-complete');\n",
              "    }\n",
              "    (() => {\n",
              "      let quickchartButtonEl =\n",
              "        document.querySelector('#df-9276bbab-54f8-4059-9fae-0f3816b0a0d8 button');\n",
              "      quickchartButtonEl.style.display =\n",
              "        google.colab.kernel.accessAllowed ? 'block' : 'none';\n",
              "    })();\n",
              "  </script>\n",
              "</div>\n",
              "\n",
              "    </div>\n",
              "  </div>\n"
            ],
            "application/vnd.google.colaboratory.intrinsic+json": {
              "type": "dataframe",
              "summary": "{\n  \"name\": \"df\",\n  \"rows\": 8,\n  \"fields\": [\n    {\n      \"column\": 0,\n      \"properties\": {\n        \"dtype\": \"number\",\n        \"std\": 3531.0824843886476,\n        \"min\": 0.10027449750885352,\n        \"max\": 10000.0,\n        \"num_unique_values\": 8,\n        \"samples\": [\n          14.695273487420389,\n          14.696711766480536,\n          10000.0\n        ],\n        \"semantic_type\": \"\",\n        \"description\": \"\"\n      }\n    }\n  ]\n}"
            }
          },
          "metadata": {},
          "execution_count": 10
        }
      ]
    },
    {
      "cell_type": "markdown",
      "source": [
        "The regression estimate $\\beta_0$ and $\\beta_1$ are also measures on the sample.\n"
      ],
      "metadata": {
        "id": "rRI4mcSs1BMV"
      }
    },
    {
      "cell_type": "code",
      "source": [
        "beta0s, beta1s = [], []\n",
        "for i in range(100000):\n",
        "  y_for_x_samples = np.array(list(sample_response(x_samp_index, population, rand_gen)))\n",
        "  # find regression parameters\n",
        "  x = y_for_x_samples[:,0]\n",
        "  y = y_for_x_samples[:,1]\n",
        "  beta_1 = np.sum((x - np.mean(x)) * (y - np.mean(y))) / np.sum((x - np.mean(x))**2)\n",
        "  beta_0 = np.mean(y) - beta_1 * np.mean(x)\n",
        "\n",
        "  beta0s.append(beta_0)\n",
        "  beta1s.append(beta_1)\n",
        "\n",
        "fix, axes = plt.subplots(ncols=2)\n",
        "axes[0].hist(beta0s, bins=40);\n",
        "axes[0].set_title('beta_0')\n",
        "axes[1].hist(beta1s, bins=40);\n",
        "axes[1].set_title('beta_1')"
      ],
      "metadata": {
        "id": "fDpr91j7FLjv",
        "outputId": "0b54e5ab-9b1f-4d49-e453-1c21ea240261",
        "colab": {
          "base_uri": "https://localhost:8080/",
          "height": 469
        }
      },
      "execution_count": null,
      "outputs": [
        {
          "output_type": "execute_result",
          "data": {
            "text/plain": [
              "Text(0.5, 1.0, 'beta_1')"
            ]
          },
          "metadata": {},
          "execution_count": 11
        },
        {
          "output_type": "display_data",
          "data": {
            "text/plain": [
              "<Figure size 640x480 with 2 Axes>"
            ],
            "image/png": "[encoded data removed]"
          },
          "metadata": {}
        }
      ]
    },
    {
      "cell_type": "markdown",
      "source": [
        "Now lets calculate $\\beta_0$ and $\\beta_1$ for the whole population. remeber in real world this is impossible to calculate such measures on whole population\n"
      ],
      "metadata": {
        "id": "sn8k81SQ2T23"
      }
    },
    {
      "cell_type": "code",
      "source": [
        "X = population[:, 0]\n",
        "Y = population[:, 1]\n",
        "beta_1 = np.sum((X - np.mean(X)) * (Y - np.mean(Y)) ) / np.sum( (X - np.mean(X))**2 )\n",
        "beta_0 = np.mean(Y) - np.mean(X) * beta_1\n",
        "print(beta_0, beta_1)"
      ],
      "metadata": {
        "id": "M-XuQfFU2hou",
        "outputId": "731f9ed8-b998-45b5-ad1b-fb751ae76ca7",
        "colab": {
          "base_uri": "https://localhost:8080/"
        }
      },
      "execution_count": null,
      "outputs": [
        {
          "output_type": "stream",
          "name": "stdout",
          "text": [
            "4.00401943432113 1.9994523815868441\n"
          ]
        }
      ]
    },
    {
      "cell_type": "markdown",
      "source": [
        "\n",
        "We used `sample_response` method to perform 10000 sampmpling and then calculated regression parameters for each of sampling. It gives 10000 different values for $\\hat{\\beta_0}$'s that follows a normal distribution. Notice that mean value of the normal distro for all $\\hat{\\beta_0}$ is equal to the true value of $\\beta_0$ calculated for the whole population. Once can interpret it as follow:\n",
        "\n",
        "> Although value of $\\beta_0$ calculated for a given sample is not very accurate. But if you sample serveral times, the mean of calculated values for $\\beta_0$ is going to be equal to true value for $\\beta_0$.\n",
        "\n",
        "Now what we described above is very close to definition of Standard Error.\n",
        "Standard error of a measure is the standard deviation of it's sampling distribution.\n",
        "\n",
        "We can compute $SE(\\beta_0)$ using the data `beta0s` and some python library and compare it with the value obtained from formula\n",
        "$$\n",
        "SE(\\beta_0)^2 = \\sigma^2( 1/n + \\frac{\\bar{x}^2}{\\sum(x_i - \\bar{x})^2})\n",
        "$$\n"
      ],
      "metadata": {
        "id": "k1EjoG493sAI"
      }
    },
    {
      "cell_type": "code",
      "source": [
        "# sigma2 = np.std()**2\n",
        "errors = population[:, 1] - 2 * population[:,0] - 4\n",
        "sigma2 = np.std(errors) ** 2"
      ],
      "metadata": {
        "id": "T16AHXBgK9dJ"
      },
      "execution_count": null,
      "outputs": []
    },
    {
      "cell_type": "code",
      "source": [
        "\n",
        "se_beta0_sq = sigma2 * (1/len(x_samples) + (np.mean(x_samples))** 2 / np.sum((x_samples - np.mean(x_samples)) ** 2))\n",
        "\n",
        "\n",
        "print(se_beta0_sq, 'formula')\n",
        "np.std(beta0s) ** 2 # MATCHEDDDDD HERE!!!"
      ],
      "metadata": {
        "id": "3fKf6-MR_78K",
        "outputId": "8aeb6aa5-ac86-4fae-c946-39ae64d31dff",
        "colab": {
          "base_uri": "https://localhost:8080/"
        }
      },
      "execution_count": null,
      "outputs": [
        {
          "output_type": "stream",
          "name": "stdout",
          "text": [
            "0.051748088041984414 formula\n"
          ]
        },
        {
          "output_type": "execute_result",
          "data": {
            "text/plain": [
              "0.05121823105692221"
            ]
          },
          "metadata": {},
          "execution_count": 30
        }
      ]
    },
    {
      "cell_type": "markdown",
      "source": [
        "\n",
        "HERE!!!\n",
        "Now let's look at the variance of those regression parameters over all samples. First of all here's the definition of variance. HERE!!!"
      ],
      "metadata": {
        "id": "eIpG3pCJ_8Sy"
      }
    },
    {
      "cell_type": "markdown",
      "source": [
        "\n",
        "\n",
        "https://en.wikipedia.org/wiki/Sampling_distribution\n",
        "start with mu but get to beta_i HERE!!!\n",
        "\n",
        "The concept of unbiased estimator pops up one more time. HERE!!!\n",
        "\n",
        "\n",
        "Then we look at expected value of sample statistices over multiple sampling. Also we look at variance of stuff within sample, and variance of sample stat over several samplings. This indeed is an intersting case when sample stat is defined to be the mean of sample. HERE!!!\n",
        "\n",
        "\n",
        "\n",
        "\n",
        "notebook we try to look at the model coefficients ( 𝛽𝑖 's ) as summary statistics defined on samples. You can also think of them as measures since samples are subsets.\n",
        "\n",
        "\n",
        "\n",
        "These can help understand concept of Standard Error and F-test better."
      ],
      "metadata": {
        "id": "yZAr3y2KG8K8"
      }
    },
    {
      "cell_type": "markdown",
      "source": [
        "HERE!!! when note book is done, create a new one to play with an np array that has shape (10, 5, 6). visualize it as 3d rubick cube. then use ix_ to slice it. talk about tensors are matrixes with more than 2 faces. also mention slicing is sorta projection. also try all three meshes listed down here. and visualize the the selection in animated way"
      ],
      "metadata": {
        "id": "UNwxsTYz-f7y"
      }
    },
    {
      "cell_type": "code",
      "execution_count": null,
      "metadata": {
        "id": "y1GpZkuAJvYU",
        "outputId": "840089df-20c5-4aab-ab83-ff7bd196e4c7",
        "colab": {
          "base_uri": "https://localhost:8080/"
        }
      },
      "outputs": [
        {
          "output_type": "stream",
          "name": "stdout",
          "text": [
            "(10, 3, 1)\n"
          ]
        },
        {
          "output_type": "execute_result",
          "data": {
            "text/plain": [
              "array([[[1.],\n",
              "        [1.],\n",
              "        [1.]],\n",
              "\n",
              "       [[1.],\n",
              "        [1.],\n",
              "        [1.]],\n",
              "\n",
              "       [[1.],\n",
              "        [1.],\n",
              "        [1.]],\n",
              "\n",
              "       [[1.],\n",
              "        [1.],\n",
              "        [1.]],\n",
              "\n",
              "       [[1.],\n",
              "        [1.],\n",
              "        [1.]],\n",
              "\n",
              "       [[1.],\n",
              "        [1.],\n",
              "        [1.]],\n",
              "\n",
              "       [[1.],\n",
              "        [1.],\n",
              "        [1.]],\n",
              "\n",
              "       [[1.],\n",
              "        [1.],\n",
              "        [1.]],\n",
              "\n",
              "       [[1.],\n",
              "        [1.],\n",
              "        [1.]],\n",
              "\n",
              "       [[1.],\n",
              "        [1.],\n",
              "        [1.]]])"
            ]
          },
          "metadata": {},
          "execution_count": 11
        }
      ],
      "source": [
        "\n",
        "import numpy as np\n",
        "faces = np.ones(shape=(10, 3, 4))\n",
        "\n",
        "# mesh = np.ix_([0])\n",
        "# mesh = np.ix_(range(10), [0], range(4))\n",
        "mesh = np.ix_(range(10), range(3), [0])\n",
        "\n",
        "sample = faces[mesh]\n",
        "\n",
        "print(sample.shape)\n",
        "sample"
      ]
    },
    {
      "cell_type": "code",
      "source": [
        "HERE!!!! add F-stat distribution over all samples, add r2, rse,\n",
        "HERE!!!! pick a sample and a k that knn and linear regression computes the same function"
      ],
      "metadata": {
        "id": "qKM-q77ouWe4"
      },
      "execution_count": null,
      "outputs": []
    }
  ],
  "metadata": {
    "language_info": {
      "name": "python"
    },
    "colab": {
      "provenance": [],
      "machine_shape": "hm",
      "gpuType": "V100",
      "include_colab_link": true
    },
    "kernelspec": {
      "name": "python3",
      "display_name": "Python 3"
    },
    "accelerator": "GPU"
  },
  "nbformat": 4,
  "nbformat_minor": 0
}