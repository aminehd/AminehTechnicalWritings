{
  "cells": [
    {
      "cell_type": "markdown",
      "metadata": {
        "id": "view-in-github",
        "colab_type": "text"
      }
    },
    {
      "cell_type": "markdown",
      "source": [
        "Outleine\n",
        "  - Introduction (propuse + scope)\n",
        "  - Body\n",
        "    - Definition of SE\n",
        "    - Data generation to showcase SE context\n",
        "    - Some different prespectives of generated data\n",
        "    - Pick a set of sample and a statistic defined on indivisual samples\n",
        "    - Show the **Sampling Distribution** of that statistic\n",
        "  - Coclusion: Build upon SE later when stat are more complex such s linear regression coefficient (B0 and B1)"
      ],
      "metadata": {
        "id": "tjj0ZzJdgQL9"
      }
    }
  ],
  "metadata": {
    "language_info": {
      "name": "python"
    },
  },
  "nbformat": 4,
  "nbformat_minor": 0
}
