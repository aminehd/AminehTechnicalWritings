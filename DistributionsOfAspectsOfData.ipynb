{
  "cells": [
    {
      "cell_type": "markdown",
      "metadata": {
        "id": "view-in-github",
        "colab_type": "text"
      },
      "source": [
        "<a href=\"https://colab.research.google.com/github/aminehd/AminehTechnicalWritings/blob/main/DistributionsOfAspectsOfData.ipynb\" target=\"_parent\"><img src=\"https://colab.research.google.com/assets/colab-badge.svg\" alt=\"Open In Colab\"/></a>"
      ]
    },
    {
      "cell_type": "markdown",
      "source": [
        "Outline\n",
        "- Introduction (Purpose + scope)\n",
        "- Body\n",
        "  - Define random generation process\n",
        "  - show prespectives on looking at data\n",
        "  - Plot the distributions of data from different prespectives\n",
        "- Conclusion: It can help define SE and beta, building up on this new view\n"
      ],
      "metadata": {
        "id": "dHNe_aG7Ju9F"
      }
    },
    {
      "cell_type": "markdown",
      "source": [
        "###Introduction\n",
        "\n",
        "This is for people who are trying to learn statistic concepts, specially Linera regression.\n",
        "\n",
        "I am reading ISLP so I assume would be extra helpful for people who are reading that book.\n",
        "\n",
        "ISLP doesn't get to much technical detail, and rightly so. However, depending on what question arises for you while reading it, you might need to deep diver a bit."
      ],
      "metadata": {
        "id": "KqCtM2LQKf2N"
      }
    },
    {
      "cell_type": "code",
      "source": [
        "# generate random distro"
      ],
      "metadata": {
        "id": "02xmkiKaLBWj"
      },
      "execution_count": null,
      "outputs": []
    }
  ],
  "metadata": {
    "language_info": {
      "name": "python"
    },
    "colab": {
      "provenance": [],
      "include_colab_link": true
    }
  },
  "nbformat": 4,
  "nbformat_minor": 0
}